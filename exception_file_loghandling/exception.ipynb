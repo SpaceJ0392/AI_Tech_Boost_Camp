{
 "cells": [
  {
   "cell_type": "code",
   "execution_count": 2,
   "metadata": {
    "collapsed": true,
    "ExecuteTime": {
     "end_time": "2023-09-07T10:54:55.836643700Z",
     "start_time": "2023-09-07T10:54:55.830606300Z"
    }
   },
   "outputs": [
    {
     "name": "stdout",
     "output_type": "stream",
     "text": [
      "Error\n",
      "Not divided by 0\n",
      "1 10\n",
      "2 5\n",
      "3 3\n",
      "4 2\n",
      "5 2\n",
      "6 1\n",
      "7 1\n",
      "8 1\n",
      "9 1\n"
     ]
    }
   ],
   "source": [
    "a = [1,2,3,4,5]\n",
    "for i in range(10):\n",
    "    try:\n",
    "        print(i,10 // i)\n",
    "    except ZeroDivisionError:\n",
    "        # exception을 잡으면 프로그램이 종료되지 않지만, exception이 안 잡히면 프로그램은 종료되고, 에러를 출력한다. (즉, exception이 잡히는 것이 안정적)\n",
    "        print(\"Error\")\n",
    "        print(\"Not divided by 0\")"
   ]
  },
  {
   "cell_type": "code",
   "execution_count": 5,
   "outputs": [
    {
     "name": "stdout",
     "output_type": "stream",
     "text": [
      "Error\n",
      "Not divided by 0\n",
      "1 10\n",
      "2\n",
      "name 'v' is not defined\n",
      "2 5\n",
      "3\n",
      "name 'v' is not defined\n",
      "3 3\n",
      "4\n",
      "name 'v' is not defined\n",
      "4 2\n",
      "5\n",
      "name 'v' is not defined\n",
      "5 2\n",
      "list index out of range\n",
      "6 1\n",
      "list index out of range\n",
      "7 1\n",
      "list index out of range\n",
      "8 1\n",
      "list index out of range\n",
      "9 1\n",
      "list index out of range\n"
     ]
    }
   ],
   "source": [
    "a = [1,2,3,4,5]\n",
    "for i in range(10):\n",
    "    try:\n",
    "        print(i,10 // i)\n",
    "        print(a[i]) # index error\n",
    "        print(v)\n",
    "    except ZeroDivisionError:\n",
    "        # exception을 잡으면 프로그램이 종료되지 않지만, exception이 안 잡히면 프로그램은 종료되고, 에러를 출력한다. (즉, exception이 잡히는 것이 안정적)\n",
    "        print(\"Error\")\n",
    "        print(\"Not divided by 0\")\n",
    "    except IndexError as e:\n",
    "        print(e)\n",
    "    except Exception as e:\n",
    "        # 보통 마지막에 찍어주는 exception (모든 에러 잡음 - 권장 되지 않음)\n",
    "        # 다른 사용자가 어디서 exception이 나왔는지 알기 어려움.\n",
    "        print(e)"
   ],
   "metadata": {
    "collapsed": false,
    "ExecuteTime": {
     "end_time": "2023-09-07T10:56:35.205183400Z",
     "start_time": "2023-09-07T10:56:35.196208400Z"
    }
   }
  },
  {
   "cell_type": "code",
   "execution_count": 7,
   "outputs": [
    {
     "name": "stdout",
     "output_type": "stream",
     "text": [
      "Not divided by 0\n",
      "10\n",
      "5\n",
      "3\n",
      "2\n",
      "2\n",
      "1\n",
      "1\n",
      "1\n",
      "1\n"
     ]
    }
   ],
   "source": [
    "a = [1, 2, 3, 4, 5]\n",
    "for i in range(10):\n",
    "    try:\n",
    "        result = 10 // i\n",
    "    except ZeroDivisionError:\n",
    "        # exception을 잡으면 프로그램이 종료되지 않지만, exception이 안 잡히면 프로그램은 종료되고, 에러를 출력한다. (즉, exception이 잡히는 것이 안정적)\n",
    "        print(\"Not divided by 0\")\n",
    "    else: # 예외 X 시 실행\n",
    "        print(10 // i)"
   ],
   "metadata": {
    "collapsed": false,
    "ExecuteTime": {
     "end_time": "2023-09-07T10:58:54.469754900Z",
     "start_time": "2023-09-07T10:58:54.460774700Z"
    }
   }
  },
  {
   "cell_type": "code",
   "execution_count": 9,
   "outputs": [
    {
     "name": "stdout",
     "output_type": "stream",
     "text": [
      "Not divided by 0\n",
      "0 ----- 1\n",
      "10\n",
      "1 ----- 10\n",
      "5\n",
      "2 ----- 5\n",
      "3\n",
      "3 ----- 3\n",
      "2\n",
      "4 ----- 2\n",
      "2\n",
      "5 ----- 2\n",
      "1\n",
      "6 ----- 1\n",
      "1\n",
      "7 ----- 1\n",
      "1\n",
      "8 ----- 1\n",
      "1\n",
      "9 ----- 1\n"
     ]
    }
   ],
   "source": [
    "a = [1, 2, 3, 4, 5]\n",
    "for i in range(10):\n",
    "    try:\n",
    "        result = 10 // i\n",
    "    except ZeroDivisionError:\n",
    "        # exception을 잡으면 프로그램이 종료되지 않지만, exception이 안 잡히면 프로그램은 종료되고, 에러를 출력한다. (즉, exception이 잡히는 것이 안정적)\n",
    "        print(\"Not divided by 0\")\n",
    "    else: # 예외 X 시 실행\n",
    "        print(10 // i)\n",
    "    finally: # 문제 여부에 상관 없이 실행\n",
    "        print(i, \"-\" * 5, result)"
   ],
   "metadata": {
    "collapsed": false,
    "ExecuteTime": {
     "end_time": "2023-09-07T11:01:06.317493700Z",
     "start_time": "2023-09-07T11:01:06.312482800Z"
    }
   }
  },
  {
   "cell_type": "markdown",
   "source": [
    "사실 `if - else` 문을 사용해도, `try - except` 문에서의 역할을 처리할 수 있다.\n",
    "다만, 보통 `if - else` 문은 로직을 처리하기 위해 사용하는 것을 권장한다.\n",
    "\n",
    "특히, `python` 에서는 `try - except` 를 권장 하는 경우가 있다.\n",
    "예를 들어 파일을 받아오지 못했을 때 등은 `try - except`의 사용을 권장한다.\n",
    "\n",
    "다만, 필수적이지는 않음..."
   ],
   "metadata": {
    "collapsed": false
   }
  },
  {
   "cell_type": "code",
   "execution_count": 10,
   "outputs": [
    {
     "name": "stdout",
     "output_type": "stream",
     "text": [
      "정수값으로 변환된 숫자 -  2\n",
      "정수값으로 변환된 숫자 -  3\n",
      "정수값으로 변환된 숫자 -  4\n"
     ]
    },
    {
     "ename": "ValueError",
     "evalue": "숫자값을 입력하지 않으셨습니다",
     "output_type": "error",
     "traceback": [
      "\u001B[1;31m---------------------------------------------------------------------------\u001B[0m",
      "\u001B[1;31mValueError\u001B[0m                                Traceback (most recent call last)",
      "Cell \u001B[1;32mIn[10], line 9\u001B[0m\n\u001B[0;32m      7\u001B[0m \u001B[38;5;28;01mfor\u001B[39;00m digit \u001B[38;5;129;01min\u001B[39;00m value:\n\u001B[0;32m      8\u001B[0m     \u001B[38;5;28;01mif\u001B[39;00m digit \u001B[38;5;129;01mnot\u001B[39;00m \u001B[38;5;129;01min\u001B[39;00m \u001B[38;5;124m\"\u001B[39m\u001B[38;5;124m0123456789\u001B[39m\u001B[38;5;124m\"\u001B[39m:\n\u001B[1;32m----> 9\u001B[0m         \u001B[38;5;28;01mraise\u001B[39;00m \u001B[38;5;167;01mValueError\u001B[39;00m(\u001B[38;5;124m\"\u001B[39m\u001B[38;5;124m숫자값을 입력하지 않으셨습니다\u001B[39m\u001B[38;5;124m\"\u001B[39m)\n\u001B[0;32m     11\u001B[0m \u001B[38;5;28mprint\u001B[39m(\u001B[38;5;124m\"\u001B[39m\u001B[38;5;124m정수값으로 변환된 숫자 - \u001B[39m\u001B[38;5;124m\"\u001B[39m, \u001B[38;5;28mint\u001B[39m(value))\n",
      "\u001B[1;31mValueError\u001B[0m: 숫자값을 입력하지 않으셨습니다"
     ]
    }
   ],
   "source": [
    "#raise - 강제로 Exception 발생\n",
    "# 우리의 의도와 다르게 프로그램이 실행 되는 것을 방지하기 위함.\n",
    "\n",
    "while True:\n",
    "    value = input(\"변환할 정수 값을 입력해주세요\")\n",
    "\n",
    "    for digit in value:\n",
    "        if digit not in \"0123456789\":\n",
    "            raise ValueError(\"숫자 값을 입력하지 않으셨습니다\")\n",
    "\n",
    "    print(\"정수 값으로 변환된 숫자 - \", int(value))"
   ],
   "metadata": {
    "collapsed": false,
    "ExecuteTime": {
     "end_time": "2023-09-07T11:06:41.248492800Z",
     "start_time": "2023-09-07T11:06:28.172880500Z"
    }
   }
  },
  {
   "cell_type": "code",
   "execution_count": 12,
   "outputs": [
    {
     "name": "stdout",
     "output_type": "stream",
     "text": [
      "0b1010\n"
     ]
    }
   ],
   "source": [
    "# assert 특정 조건을 만족하지 않을 때 발생 - 결과가 False일 때는 error가 나도록 함.\n",
    "\n",
    "def get_binary_nmubmer(decimal_number):\n",
    "    assert isinstance(decimal_number, int)\n",
    "    return bin(decimal_number) # 이진 형식으로 return\n",
    "\n",
    "print(get_binary_nmubmer(10))"
   ],
   "metadata": {
    "collapsed": false,
    "ExecuteTime": {
     "end_time": "2023-09-07T11:08:48.511908800Z",
     "start_time": "2023-09-07T11:08:48.505908100Z"
    }
   }
  }
 ],
 "metadata": {
  "kernelspec": {
   "display_name": "Python 3",
   "language": "python",
   "name": "python3"
  },
  "language_info": {
   "codemirror_mode": {
    "name": "ipython",
    "version": 2
   },
   "file_extension": ".py",
   "mimetype": "text/x-python",
   "name": "python",
   "nbconvert_exporter": "python",
   "pygments_lexer": "ipython2",
   "version": "2.7.6"
  }
 },
 "nbformat": 4,
 "nbformat_minor": 0
}
