{
 "cells": [
  {
   "cell_type": "code",
   "execution_count": 2,
   "metadata": {
    "collapsed": true,
    "ExecuteTime": {
     "end_time": "2023-09-07T11:23:41.580821100Z",
     "start_time": "2023-09-07T11:23:41.565415600Z"
    }
   },
   "outputs": [
    {
     "name": "stdout",
     "output_type": "stream",
     "text": [
      "<div>Lorem ipsum dolor sit amet, consectetur adipisicing elit. Aperiam delectus dolorum eaque hic ipsam, laboriosam\n",
      "    magnam maxime minima nam nemo provident quas quia quisquam rerum ut voluptas voluptates? Dignissimos, pariatur!\n",
      "</div>\n",
      "<div>Aliquam aspernatur consequuntur debitis deleniti dolore doloribus explicabo, facere id incidunt inventore ipsum\n",
      "    labore laboriosam molestias necessitatibus nobis odio omnis optio perferendis placeat quae quisquam repudiandae\n",
      "    soluta suscipit ut voluptate!\n",
      "</div>\n",
      "<div>Ab accusantium autem cumque deserunt dolorum ea esse fugit harum magni mollitia nam nulla optio, porro possimus\n",
      "    praesentium qui quidem quis repellendus similique totam unde ut veritatis voluptas! Quos, ullam.\n",
      "</div>\n",
      "<div>Animi at consequatur dolorem doloribus eos ipsam, laudantium molestias omnis, possimus quae quasi quisquam\n",
      "    recusandae sit ut voluptate! Autem dolorum iure molestiae optio quaerat quasi qui, quibusdam tempora voluptatem\n",
      "    voluptates!\n",
      "</div>\n",
      "<div>A ab adipisci aspernatur assumenda cumque delectus dicta dolorum ea eius enim in ipsa iure necessitatibus nemo,\n",
      "    numquam officiis quae quidem quis sapiente sit tempora tempore ullam veniam voluptas voluptatum.\n",
      "</div>\n"
     ]
    }
   ],
   "source": [
    "f = open(\"test.html\",\"r\")\n",
    "contents = f.read() #파일을 읽음\n",
    "print(contents)\n",
    "f.close()"
   ]
  },
  {
   "cell_type": "code",
   "execution_count": 3,
   "outputs": [
    {
     "name": "stdout",
     "output_type": "stream",
     "text": [
      "<div>Lorem ipsum dolor sit amet, consectetur adipisicing elit. Aperiam delectus dolorum eaque hic ipsam, laboriosam\n",
      "    magnam maxime minima nam nemo provident quas quia quisquam rerum ut voluptas voluptates? Dignissimos, pariatur!\n",
      "</div>\n",
      "<div>Aliquam aspernatur consequuntur debitis deleniti dolore doloribus explicabo, facere id incidunt inventore ipsum\n",
      "    labore laboriosam molestias necessitatibus nobis odio omnis optio perferendis placeat quae quisquam repudiandae\n",
      "    soluta suscipit ut voluptate!\n",
      "</div>\n",
      "<div>Ab accusantium autem cumque deserunt dolorum ea esse fugit harum magni mollitia nam nulla optio, porro possimus\n",
      "    praesentium qui quidem quis repellendus similique totam unde ut veritatis voluptas! Quos, ullam.\n",
      "</div>\n",
      "<div>Animi at consequatur dolorem doloribus eos ipsam, laudantium molestias omnis, possimus quae quasi quisquam\n",
      "    recusandae sit ut voluptate! Autem dolorum iure molestiae optio quaerat quasi qui, quibusdam tempora voluptatem\n",
      "    voluptates!\n",
      "</div>\n",
      "<div>A ab adipisci aspernatur assumenda cumque delectus dicta dolorum ea eius enim in ipsa iure necessitatibus nemo,\n",
      "    numquam officiis quae quidem quis sapiente sit tempora tempore ullam veniam voluptas voluptatum.\n",
      "</div>\n"
     ]
    }
   ],
   "source": [
    "with open(\"test.html\", \"r\") as f: # with 내부에서만 f 사용 가능\n",
    "    contents = f.read()\n",
    "    print(contents)"
   ],
   "metadata": {
    "collapsed": false,
    "ExecuteTime": {
     "end_time": "2023-09-07T11:25:27.220629100Z",
     "start_time": "2023-09-07T11:25:27.204992700Z"
    }
   }
  },
  {
   "cell_type": "code",
   "execution_count": 4,
   "outputs": [
    {
     "name": "stdout",
     "output_type": "stream",
     "text": [
      "['<div>Lorem ipsum dolor sit amet, consectetur adipisicing elit. Aperiam delectus dolorum eaque hic ipsam, laboriosam\\n', '    magnam maxime minima nam nemo provident quas quia quisquam rerum ut voluptas voluptates? Dignissimos, pariatur!\\n', '</div>\\n', '<div>Aliquam aspernatur consequuntur debitis deleniti dolore doloribus explicabo, facere id incidunt inventore ipsum\\n', '    labore laboriosam molestias necessitatibus nobis odio omnis optio perferendis placeat quae quisquam repudiandae\\n', '    soluta suscipit ut voluptate!\\n', '</div>\\n', '<div>Ab accusantium autem cumque deserunt dolorum ea esse fugit harum magni mollitia nam nulla optio, porro possimus\\n', '    praesentium qui quidem quis repellendus similique totam unde ut veritatis voluptas! Quos, ullam.\\n', '</div>\\n', '<div>Animi at consequatur dolorem doloribus eos ipsam, laudantium molestias omnis, possimus quae quasi quisquam\\n', '    recusandae sit ut voluptate! Autem dolorum iure molestiae optio quaerat quasi qui, quibusdam tempora voluptatem\\n', '    voluptates!\\n', '</div>\\n', '<div>A ab adipisci aspernatur assumenda cumque delectus dicta dolorum ea eius enim in ipsa iure necessitatibus nemo,\\n', '    numquam officiis quae quidem quis sapiente sit tempora tempore ullam veniam voluptas voluptatum.\\n', '</div>']\n"
     ]
    }
   ],
   "source": [
    "with open(\"test.html\", \"r\") as f: # with 내부에서만 f 사용 가능\n",
    "    content_list = f.readlines()\n",
    "    # 리스트 형태로 반환 (한줄 씩) - 한번에 다 메모리에 올림\n",
    "print(content_list)"
   ],
   "metadata": {
    "collapsed": false,
    "ExecuteTime": {
     "end_time": "2023-09-07T11:26:18.297877300Z",
     "start_time": "2023-09-07T11:26:18.297877300Z"
    }
   }
  },
  {
   "cell_type": "code",
   "execution_count": 7,
   "outputs": [
    {
     "name": "stdout",
     "output_type": "stream",
     "text": [
      "0 === <div>Lorem ipsum dolor sit amet, consectetur adipisicing elit. Aperiam delectus dolorum eaque hic ipsam, laboriosam\n",
      "1 ===     magnam maxime minima nam nemo provident quas quia quisquam rerum ut voluptas voluptates? Dignissimos, pariatur!\n",
      "2 === </div>\n",
      "3 === <div>Aliquam aspernatur consequuntur debitis deleniti dolore doloribus explicabo, facere id incidunt inventore ipsum\n",
      "4 ===     labore laboriosam molestias necessitatibus nobis odio omnis optio perferendis placeat quae quisquam repudiandae\n",
      "5 ===     soluta suscipit ut voluptate!\n",
      "6 === </div>\n",
      "7 === <div>Ab accusantium autem cumque deserunt dolorum ea esse fugit harum magni mollitia nam nulla optio, porro possimus\n",
      "8 ===     praesentium qui quidem quis repellendus similique totam unde ut veritatis voluptas! Quos, ullam.\n",
      "9 === </div>\n",
      "10 === <div>Animi at consequatur dolorem doloribus eos ipsam, laudantium molestias omnis, possimus quae quasi quisquam\n",
      "11 ===     recusandae sit ut voluptate! Autem dolorum iure molestiae optio quaerat quasi qui, quibusdam tempora voluptatem\n",
      "12 ===     voluptates!\n",
      "13 === </div>\n",
      "14 === <div>A ab adipisci aspernatur assumenda cumque delectus dicta dolorum ea eius enim in ipsa iure necessitatibus nemo,\n",
      "15 ===     numquam officiis quae quidem quis sapiente sit tempora tempore ullam veniam voluptas voluptatum.\n",
      "16 === </div>\n"
     ]
    }
   ],
   "source": [
    "# 실행 시 마다 한 줄 씩 읽어오기 - 너무 용량이 크거나 하면, 한번에 읽기가 부담스럽다\n",
    "# 그럴 때는 한 줄 씩 읽기 위해 readline()을 사용한다.\n",
    "\n",
    "with open(\"test.html\", \"r\") as my_file:\n",
    "    i = 0\n",
    "    while True:\n",
    "        line = my_file.readline()\n",
    "        if not line:\n",
    "            break\n",
    "        print (str(i) + \" === \" + line.replace(\"\\n\",\"\")) #한 줄씩 값 출력\n",
    "        i = i + 1"
   ],
   "metadata": {
    "collapsed": false,
    "ExecuteTime": {
     "end_time": "2023-09-07T11:30:00.995533Z",
     "start_time": "2023-09-07T11:30:00.985473300Z"
    }
   }
  },
  {
   "cell_type": "code",
   "execution_count": 10,
   "outputs": [
    {
     "name": "stdout",
     "output_type": "stream",
     "text": [
      "Total Number of Characters : 1213\n",
      "Total Number of Words: 167\n",
      "Total Number of Lines : 17\n"
     ]
    }
   ],
   "source": [
    "with open(\"test.html\",\"r\") as my_file:\n",
    "    contents = my_file.read() # 통째로 읽어 옴\n",
    "    word_list = contents.split(\" \")\n",
    "    #빈칸 기준으로 단어를 분리 리스트\n",
    "    line_list = contents.split(\"\\n\")\n",
    "    #한줄 씩 분리하여 리스트\n",
    "\n",
    "print(\"Total Number of Characters :\", len(contents))\n",
    "print(\"Total Number of Words:\", len(word_list))\n",
    "print(\"Total Number of Lines :\", len(line_list))"
   ],
   "metadata": {
    "collapsed": false,
    "ExecuteTime": {
     "end_time": "2023-09-07T11:31:10.535215Z",
     "start_time": "2023-09-07T11:31:10.525625100Z"
    }
   }
  },
  {
   "cell_type": "code",
   "execution_count": 11,
   "outputs": [],
   "source": [
    "f = open(\"count_log.txt\",'w', encoding=\"utf8\") # write\n",
    "# encoding : 문자열을 저장하기 위한 표준\n",
    "for i in range(1, 11):\n",
    "    data = \"%d번째 줄입니다.\\n\" % i\n",
    "    f.write(data)\n",
    "f.close()"
   ],
   "metadata": {
    "collapsed": false,
    "ExecuteTime": {
     "end_time": "2023-09-07T11:34:20.113702400Z",
     "start_time": "2023-09-07T11:34:20.100599900Z"
    }
   }
  },
  {
   "cell_type": "code",
   "execution_count": 12,
   "outputs": [],
   "source": [
    "f = open(\"count_log.txt\",'a', encoding=\"utf8\") # update\n",
    "# encoding : 문자열을 저장하기 위한 표준\n",
    "for i in range(11, 21):\n",
    "    data = \"{0}번째 줄입니다.\\n\".format(i)\n",
    "    f.write(data)\n",
    "f.close()"
   ],
   "metadata": {
    "collapsed": false,
    "ExecuteTime": {
     "end_time": "2023-09-07T11:35:37.030778400Z",
     "start_time": "2023-09-07T11:35:37.015129100Z"
    }
   }
  },
  {
   "cell_type": "markdown",
   "source": [
    "## OS 모듈\n",
    "os 모듈을 사용하면 Directory를 다룰 수 있음."
   ],
   "metadata": {
    "collapsed": false
   }
  },
  {
   "cell_type": "code",
   "execution_count": 15,
   "outputs": [
    {
     "name": "stdout",
     "output_type": "stream",
     "text": [
      "Already created\n"
     ]
    }
   ],
   "source": [
    "import os\n",
    "try:\n",
    "    os.mkdir('log')\n",
    "except FileExistsError as e:\n",
    "    print(\"Already created\")"
   ],
   "metadata": {
    "collapsed": false,
    "ExecuteTime": {
     "end_time": "2023-09-07T11:38:53.723572700Z",
     "start_time": "2023-09-07T11:38:53.707952700Z"
    }
   }
  },
  {
   "cell_type": "code",
   "execution_count": 17,
   "outputs": [
    {
     "name": "stdout",
     "output_type": "stream",
     "text": [
      "Already existed\n"
     ]
    }
   ],
   "source": [
    "# or\n",
    "if os.path.exists('log') : # 이미 해당 파일이 존재하는지 확인\n",
    "    print('Already existed')\n",
    "else:\n",
    "    os.mkdir('log')\n",
    "    print('created new file')"
   ],
   "metadata": {
    "collapsed": false,
    "ExecuteTime": {
     "end_time": "2023-09-07T11:40:05.057069400Z",
     "start_time": "2023-09-07T11:40:05.048610Z"
    }
   }
  },
  {
   "cell_type": "code",
   "execution_count": 19,
   "outputs": [
    {
     "data": {
      "text/plain": "'log\\\\test.html'"
     },
     "execution_count": 19,
     "metadata": {},
     "output_type": "execute_result"
    }
   ],
   "source": [
    "import shutil # 파일을 옮길 때 사용하는 라이브러리\n",
    "\n",
    "source = 'test.html'\n",
    "dest = os.path.join('log',source) # join은 서로 다른 디렉터리를 합침\n",
    "dest # 디렉터리의 구분자가 os마다 달라서 그냥 문자열을 합치는 것은 권장 되지 않음\n",
    "shutil.copy(source, dest) # 파일 복사 함수"
   ],
   "metadata": {
    "collapsed": false,
    "ExecuteTime": {
     "end_time": "2023-09-07T11:43:34.692446300Z",
     "start_time": "2023-09-07T11:43:34.676827800Z"
    }
   }
  },
  {
   "cell_type": "code",
   "execution_count": 22,
   "outputs": [],
   "source": [
    "# 최근에는 pathlib를 사용하여 Path를 객체로 다룸.\n",
    "# os 마다 조금씩 다른 부분을 통합하여 사용 가능하게 함.\n",
    "import pathlib\n",
    "cwd = pathlib.Path.cwd()"
   ],
   "metadata": {
    "collapsed": false,
    "ExecuteTime": {
     "end_time": "2023-09-07T11:45:40.184683500Z",
     "start_time": "2023-09-07T11:45:40.167592800Z"
    }
   }
  },
  {
   "cell_type": "code",
   "execution_count": 23,
   "outputs": [
    {
     "data": {
      "text/plain": "WindowsPath('C:/Users/82109/Documents/NaverAiTech_BootCamp')"
     },
     "execution_count": 23,
     "metadata": {},
     "output_type": "execute_result"
    }
   ],
   "source": [
    "cwd.parent"
   ],
   "metadata": {
    "collapsed": false,
    "ExecuteTime": {
     "end_time": "2023-09-07T11:45:40.518667Z",
     "start_time": "2023-09-07T11:45:40.504826200Z"
    }
   }
  },
  {
   "cell_type": "code",
   "execution_count": 24,
   "outputs": [
    {
     "data": {
      "text/plain": "WindowsPath('C:/Users/82109/Documents')"
     },
     "execution_count": 24,
     "metadata": {},
     "output_type": "execute_result"
    }
   ],
   "source": [
    "cwd.parent.parent # 이런 식으로 객체처럼 다루니 접근이 용이"
   ],
   "metadata": {
    "collapsed": false,
    "ExecuteTime": {
     "end_time": "2023-09-07T11:45:58.722641200Z",
     "start_time": "2023-09-07T11:45:58.722641200Z"
    }
   }
  },
  {
   "cell_type": "code",
   "execution_count": 26,
   "outputs": [
    {
     "data": {
      "text/plain": "[WindowsPath('C:/Users/82109/Documents'),\n WindowsPath('C:/Users/82109'),\n WindowsPath('C:/Users'),\n WindowsPath('C:/')]"
     },
     "execution_count": 26,
     "metadata": {},
     "output_type": "execute_result"
    }
   ],
   "source": [
    "list(cwd.parent.parents)"
   ],
   "metadata": {
    "collapsed": false,
    "ExecuteTime": {
     "end_time": "2023-09-07T11:46:28.512907800Z",
     "start_time": "2023-09-07T11:46:28.497288700Z"
    }
   }
  },
  {
   "cell_type": "code",
   "execution_count": 27,
   "outputs": [
    {
     "data": {
      "text/plain": "[WindowsPath('C:/Users/82109/Documents/NaverAiTech_BootCamp/exception_file_loghandling/count_log.txt'),\n WindowsPath('C:/Users/82109/Documents/NaverAiTech_BootCamp/exception_file_loghandling/exception.ipynb'),\n WindowsPath('C:/Users/82109/Documents/NaverAiTech_BootCamp/exception_file_loghandling/file.ipynb'),\n WindowsPath('C:/Users/82109/Documents/NaverAiTech_BootCamp/exception_file_loghandling/log'),\n WindowsPath('C:/Users/82109/Documents/NaverAiTech_BootCamp/exception_file_loghandling/test.html')]"
     },
     "execution_count": 27,
     "metadata": {},
     "output_type": "execute_result"
    }
   ],
   "source": [
    "list(cwd.glob('*'))"
   ],
   "metadata": {
    "collapsed": false,
    "ExecuteTime": {
     "end_time": "2023-09-07T11:47:10.029958300Z",
     "start_time": "2023-09-07T11:47:10.014321Z"
    }
   }
  },
  {
   "cell_type": "markdown",
   "source": [
    "### 일종의 Log 파일 예제"
   ],
   "metadata": {
    "collapsed": false
   }
  },
  {
   "cell_type": "code",
   "execution_count": 28,
   "outputs": [],
   "source": [
    "import os\n",
    "if not os.path.isdir(\"log\"):\n",
    "    os.mkdir(\"log\")\n",
    "    if not os.path.exists(\"log/count_log.txt\"):\n",
    "        f = open(\"log/count_log.txt\", 'w', encoding=\"utf8\")\n",
    "        f.write(\"기록이 시작됩니다\\n\")\n",
    "        f.close()"
   ],
   "metadata": {
    "collapsed": false,
    "ExecuteTime": {
     "end_time": "2023-09-07T11:48:52.602399800Z",
     "start_time": "2023-09-07T11:48:52.571096Z"
    }
   }
  },
  {
   "cell_type": "code",
   "execution_count": 29,
   "outputs": [],
   "source": [
    "with open(\"log/count_log.txt\", 'a', encoding=\"utf8\") as f:\n",
    "    import random, datetime\n",
    "    for i in range(1, 11):\n",
    "        stamp = str(datetime.datetime.now())\n",
    "        value = random.random() * 1000000\n",
    "        log_line = stamp + \"\\t\" + str(value) +\"값이 생성되었습니다\" + \"\\n\"\n",
    "        f.write(log_line)"
   ],
   "metadata": {
    "collapsed": false,
    "ExecuteTime": {
     "end_time": "2023-09-07T11:49:21.222788600Z",
     "start_time": "2023-09-07T11:49:21.207157800Z"
    }
   }
  },
  {
   "cell_type": "markdown",
   "source": [
    "## Pickle"
   ],
   "metadata": {
    "collapsed": false
   }
  },
  {
   "cell_type": "code",
   "execution_count": 30,
   "outputs": [],
   "source": [
    "import pickle # 일종의 파이썬을 위한 바이너리 파일\n",
    "\n",
    "f = open(\"list.pickle\", \"wb\") # \"wb\" : write binary\n",
    "test = [1, 2, 3, 4, 5]\n",
    "pickle.dump(test, f) # 저장\n",
    "f.close()"
   ],
   "metadata": {
    "collapsed": false,
    "ExecuteTime": {
     "end_time": "2023-09-07T11:54:24.648853100Z",
     "start_time": "2023-09-07T11:54:24.623731500Z"
    }
   }
  },
  {
   "cell_type": "code",
   "execution_count": 31,
   "outputs": [
    {
     "ename": "NameError",
     "evalue": "name 'test' is not defined",
     "output_type": "error",
     "traceback": [
      "\u001B[1;31m---------------------------------------------------------------------------\u001B[0m",
      "\u001B[1;31mNameError\u001B[0m                                 Traceback (most recent call last)",
      "Cell \u001B[1;32mIn[31], line 2\u001B[0m\n\u001B[0;32m      1\u001B[0m \u001B[38;5;28;01mdel\u001B[39;00m test \u001B[38;5;66;03m# test 객체 제거\u001B[39;00m\n\u001B[1;32m----> 2\u001B[0m \u001B[43mtest\u001B[49m\n",
      "\u001B[1;31mNameError\u001B[0m: name 'test' is not defined"
     ]
    }
   ],
   "source": [
    "del test # test 객체 제거"
   ],
   "metadata": {
    "collapsed": false,
    "ExecuteTime": {
     "end_time": "2023-09-07T11:54:45.580445700Z",
     "start_time": "2023-09-07T11:54:45.565887500Z"
    }
   }
  },
  {
   "cell_type": "code",
   "execution_count": 32,
   "outputs": [
    {
     "data": {
      "text/plain": "[1, 2, 3, 4, 5]"
     },
     "execution_count": 32,
     "metadata": {},
     "output_type": "execute_result"
    }
   ],
   "source": [
    "f = open(\"list.pickle\", \"rb\") # rb : read binary\n",
    "test_pickle = pickle.load(f)\n",
    "f.close()\n",
    "\n",
    "test_pickle"
   ],
   "metadata": {
    "collapsed": false,
    "ExecuteTime": {
     "end_time": "2023-09-07T11:55:46.112088Z",
     "start_time": "2023-09-07T11:55:46.089928100Z"
    }
   }
  },
  {
   "cell_type": "code",
   "execution_count": 33,
   "outputs": [],
   "source": [
    "import pickle\n",
    "\n",
    "class Mutltiply(object):\n",
    "    def __init__(self, multiplier):\n",
    "        self.multiplier = multiplier\n",
    "\n",
    "    def multiply(self, number):\n",
    "        return number * self.multiplier\n",
    "\n",
    "muliply = Mutltiply(5)\n",
    "muliply.multiply(10)\n",
    "\n",
    "f = open(\"multiply_object.pickle\", \"wb\")\n",
    "pickle.dump(muliply, f)\n",
    "f.close()"
   ],
   "metadata": {
    "collapsed": false,
    "ExecuteTime": {
     "end_time": "2023-09-07T11:57:59.097927900Z",
     "start_time": "2023-09-07T11:57:59.082271100Z"
    }
   }
  },
  {
   "cell_type": "code",
   "execution_count": 34,
   "outputs": [],
   "source": [
    "del muliply"
   ],
   "metadata": {
    "collapsed": false,
    "ExecuteTime": {
     "end_time": "2023-09-07T11:58:05.256504500Z",
     "start_time": "2023-09-07T11:58:05.225244800Z"
    }
   }
  },
  {
   "cell_type": "code",
   "execution_count": 36,
   "outputs": [],
   "source": [
    "f = open(\"multiply_object.pickle\", \"rb\")\n",
    "multiply_pickle = pickle.load(f)\n",
    "multiply_pickle.multiply(5)\n",
    "f.close()"
   ],
   "metadata": {
    "collapsed": false,
    "ExecuteTime": {
     "end_time": "2023-09-07T12:14:57.556018800Z",
     "start_time": "2023-09-07T12:14:57.540399200Z"
    }
   }
  },
  {
   "cell_type": "markdown",
   "source": [
    "\n"
   ],
   "metadata": {
    "collapsed": false
   }
  }
 ],
 "metadata": {
  "kernelspec": {
   "display_name": "Python 3",
   "language": "python",
   "name": "python3"
  },
  "language_info": {
   "codemirror_mode": {
    "name": "ipython",
    "version": 2
   },
   "file_extension": ".py",
   "mimetype": "text/x-python",
   "name": "python",
   "nbconvert_exporter": "python",
   "pygments_lexer": "ipython2",
   "version": "2.7.6"
  }
 },
 "nbformat": 4,
 "nbformat_minor": 0
}
