{
 "cells": [
  {
   "cell_type": "markdown",
   "source": [
    "### `sympy,diff`\n",
    "- 해당 함수는 `numpy` 라이브러리가 제공하는 미분 계산 함수 이다.\n",
    "> 미분이란, \n",
    "> 변수의 움직임에 따른 변화를 측정하여 극한으로 최적화하는 기법"
   ],
   "metadata": {
    "collapsed": false
   },
   "id": "91a2d354a6ae1ab7"
  },
  {
   "cell_type": "code",
   "execution_count": 2,
   "outputs": [
    {
     "data": {
      "text/plain": "Poly(2*x + 2, x, domain='ZZ')",
      "text/latex": "$\\displaystyle \\operatorname{Poly}{\\left( 2 x + 2, x, domain=\\mathbb{Z} \\right)}$"
     },
     "execution_count": 2,
     "metadata": {},
     "output_type": "execute_result"
    }
   ],
   "source": [
    "import sympy as sym\n",
    "from sympy.abc import x\n",
    "\n",
    "sym.diff(sym.Poly(x ** 2 + 2 * x + 3), x)"
   ],
   "metadata": {
    "collapsed": false,
    "ExecuteTime": {
     "end_time": "2023-09-18T01:01:23.108617100Z",
     "start_time": "2023-09-18T01:01:23.043014600Z"
    }
   },
   "id": "45c2417c743197d1"
  },
  {
   "cell_type": "markdown",
   "source": [
    "미분은 기하학적으로 접선의 기울기를 구한다. 2차원에서는 그래프를 통해 쉽게 함수 값의 증가, 감소를 알 수 있지만,  \n",
    "고차원에서는 그림으로 표현할 수 없어 함수 값의 증가, 감소 방향을 결정하는데 미분 값을 사용하여 해결할 수 있게 된다.\n",
    "\n",
    "또한 기존의 함수에서 미분 값을 더하면 항상 함수 값은 증가하는 방향으로 움직이며,  \n",
    "미분 값을 빼면 항상 함수 값은 감소하는 방향으로 움직인다."
   ],
   "metadata": {
    "collapsed": false
   },
   "id": "d6c80ff05649e9cc"
  },
  {
   "cell_type": "markdown",
   "source": [
    "위와 같은 미분 값을 이용하여 미분 값을 더하면, 함수 값이 증가하므로, 이를 이용하여 함수의 극대 값의 위치를 찾을 때 사용한다.  \n",
    "이를 경사상승법(gradient ascent)라고 한다."
   ],
   "metadata": {
    "collapsed": false
   },
   "id": "342000f42af5fe39"
  },
  {
   "cell_type": "markdown",
   "source": [
    "반대로 미분 값을 빼는 방식을 경사하강법(gradient descent)라고 하며, 이를 이용하여 함수의 극소값을 찾는다."
   ],
   "metadata": {
    "collapsed": false
   },
   "id": "9eb261a30a34745f"
  },
  {
   "cell_type": "markdown",
   "source": [
    "극값에 도달하면 미분 값이 0이 되므로, 경사 상승/하강법 모두 움직임을 멈춘다. (즉, 최적화가 끝난다.)"
   ],
   "metadata": {
    "collapsed": false
   },
   "id": "6681ccb64c4f6062"
  },
  {
   "cell_type": "markdown",
   "source": [
    "### 경사하강법 알고리즘 종료 조건\n",
    "- `eps` : 알고리즘 종료 조건 \n",
    "(컴퓨터는 계산시 미분 값이 0이 되는 것이 불가능하므로, 적정 오차 볌위내에서 종료 조건이 필요하다.)\n",
    "- `lr` : 학습률 (경사하강법 식의 미분 값에 학습률을 곱하여, 업데이트 속도를 조절한다.)"
   ],
   "metadata": {
    "collapsed": false
   },
   "id": "79ad335be05f6fe0"
  },
  {
   "cell_type": "code",
   "execution_count": 9,
   "outputs": [
    {
     "name": "stdout",
     "output_type": "stream",
     "text": [
      "함수 : Poly(x**2 + 2*x + 3, x, domain='ZZ'), 연산횟수 : 600, 최소점 : (-1.00000492392643,2.00000000002425)\n"
     ]
    }
   ],
   "source": [
    "import numpy as np\n",
    "\n",
    "\n",
    "def func(val):\n",
    "    fun = sym.poly(x ** 2 + 2 * x + 3)\n",
    "    return fun.subs(x, val), fun\n",
    "\n",
    "\n",
    "def func_gradient(fun, val):\n",
    "    _, function = fun(val)\n",
    "    diff = sym.diff(function, x) # 미분 한다.\n",
    "    return diff.subs(x, val), diff # subs함수는 값을 치환하여 대입 (x를 val값으로 치환)\n",
    "\n",
    "\n",
    "def gradient_descent(fun, init_point, lr_rate=1e-2, epsilon=1e-5):\n",
    "    cnt = 0\n",
    "    val = init_point\n",
    "    diff, _ = func_gradient(fun, init_point) # 초기 좌표와 함수를 통해 미분 값을 반환 받는다.\n",
    "    while np.abs(diff) > epsilon:\n",
    "        val = val - lr_rate * diff\n",
    "        diff, _ = func_gradient(fun, val)\n",
    "        cnt += 1\n",
    "\n",
    "    print(f\"함수 : {fun(val)[1]}, 연산횟수 : {cnt}, 최소점 : ({val},{fun(val)[0]})\")\n",
    "\n",
    "\n",
    "gradient_descent(fun=func, init_point=np.random.uniform(-2, 2))"
   ],
   "metadata": {
    "collapsed": false,
    "ExecuteTime": {
     "end_time": "2023-09-18T01:31:25.420049300Z",
     "start_time": "2023-09-18T01:31:24.756838500Z"
    }
   },
   "id": "c92d83d593423db"
  },
  {
   "cell_type": "markdown",
   "source": [
    "벡터와 같이 다변수로 이루어진 함수에 대해서는 일반 미분이 아닌 편미분을 한다. (축이 n개 이므로 특정 방향으로의 미분 값을 구한다 - 편미분)  \n",
    "따라서, 주어진 변수의 개수만큼 편미분이 가능"
   ],
   "metadata": {
    "collapsed": false
   },
   "id": "549474103f97dec8"
  },
  {
   "cell_type": "code",
   "execution_count": 15,
   "outputs": [
    {
     "data": {
      "text/plain": "2*x + 2*y - sin(x + 2*y)",
      "text/latex": "$\\displaystyle 2 x + 2 y - \\sin{\\left(x + 2 y \\right)}$"
     },
     "execution_count": 15,
     "metadata": {},
     "output_type": "execute_result"
    }
   ],
   "source": [
    "from sympy.abc import y\n",
    "\n",
    "sym.diff(sym.poly(x**2 +2*x*y +3).as_expr() + sym.cos(x + 2*y), x)"
   ],
   "metadata": {
    "collapsed": false,
    "ExecuteTime": {
     "end_time": "2023-09-18T01:41:04.876326300Z",
     "start_time": "2023-09-18T01:41:04.868512800Z"
    }
   },
   "id": "c91aab1b500de41d"
  }
 ],
 "metadata": {
  "kernelspec": {
   "display_name": "Python 3",
   "language": "python",
   "name": "python3"
  },
  "language_info": {
   "codemirror_mode": {
    "name": "ipython",
    "version": 2
   },
   "file_extension": ".py",
   "mimetype": "text/x-python",
   "name": "python",
   "nbconvert_exporter": "python",
   "pygments_lexer": "ipython2",
   "version": "2.7.6"
  }
 },
 "nbformat": 4,
 "nbformat_minor": 5
}
