{
 "cells": [
  {
   "cell_type": "code",
   "execution_count": 1,
   "id": "initial_id",
   "metadata": {
    "collapsed": true,
    "ExecuteTime": {
     "end_time": "2023-09-13T05:42:02.733612100Z",
     "start_time": "2023-09-13T05:42:02.513632Z"
    }
   },
   "outputs": [],
   "source": [
    "import numpy as np"
   ]
  },
  {
   "cell_type": "code",
   "execution_count": 2,
   "outputs": [
    {
     "data": {
      "text/plain": "array([[1, 2, 3],\n       [4, 5, 6]])"
     },
     "execution_count": 2,
     "metadata": {},
     "output_type": "execute_result"
    }
   ],
   "source": [
    "test_ex = np.array([[1, 2, 3], [4.5, 5, 6]], int)\n",
    "test_ex"
   ],
   "metadata": {
    "collapsed": false,
    "ExecuteTime": {
     "end_time": "2023-09-13T05:42:02.737910200Z",
     "start_time": "2023-09-13T05:42:02.655387300Z"
    }
   },
   "id": "5ace0fb90bdc5d43"
  },
  {
   "cell_type": "code",
   "execution_count": 3,
   "outputs": [
    {
     "data": {
      "text/plain": "3"
     },
     "execution_count": 3,
     "metadata": {},
     "output_type": "execute_result"
    }
   ],
   "source": [
    "test_ex[0][2]"
   ],
   "metadata": {
    "collapsed": false,
    "ExecuteTime": {
     "end_time": "2023-09-13T05:42:02.746475600Z",
     "start_time": "2023-09-13T05:42:02.664707700Z"
    }
   },
   "id": "8e9ee18d7741f4d2"
  },
  {
   "cell_type": "code",
   "execution_count": 4,
   "outputs": [
    {
     "data": {
      "text/plain": "3"
     },
     "execution_count": 4,
     "metadata": {},
     "output_type": "execute_result"
    }
   ],
   "source": [
    "test_ex[0, 2]"
   ],
   "metadata": {
    "collapsed": false,
    "ExecuteTime": {
     "end_time": "2023-09-13T05:42:02.746475600Z",
     "start_time": "2023-09-13T05:42:02.671389600Z"
    }
   },
   "id": "96652cbf7aedd5e0"
  },
  {
   "cell_type": "code",
   "execution_count": 5,
   "outputs": [
    {
     "data": {
      "text/plain": "array([[10,  2,  3],\n       [ 4,  5,  6]])"
     },
     "execution_count": 5,
     "metadata": {},
     "output_type": "execute_result"
    }
   ],
   "source": [
    "test_ex[0, 0] = 10\n",
    "test_ex"
   ],
   "metadata": {
    "collapsed": false,
    "ExecuteTime": {
     "end_time": "2023-09-13T05:42:02.746475600Z",
     "start_time": "2023-09-13T05:42:02.678037900Z"
    }
   },
   "id": "2b2c55ebdac1627a"
  },
  {
   "cell_type": "code",
   "execution_count": 6,
   "outputs": [
    {
     "data": {
      "text/plain": "5"
     },
     "execution_count": 6,
     "metadata": {},
     "output_type": "execute_result"
    }
   ],
   "source": [
    "test_ex[1, 2] = 5\n",
    "test_ex[1, 2]"
   ],
   "metadata": {
    "collapsed": false,
    "ExecuteTime": {
     "end_time": "2023-09-13T05:42:02.746475600Z",
     "start_time": "2023-09-13T05:42:02.685517300Z"
    }
   },
   "id": "128df467311f2e42"
  },
  {
   "cell_type": "markdown",
   "source": [
    "## slicing"
   ],
   "metadata": {
    "collapsed": false
   },
   "id": "4d1c954931527808"
  },
  {
   "cell_type": "code",
   "execution_count": 7,
   "outputs": [
    {
     "data": {
      "text/plain": "array([[5, 8],\n       [5, 8],\n       [5, 8],\n       [5, 8]])"
     },
     "execution_count": 7,
     "metadata": {},
     "output_type": "execute_result"
    }
   ],
   "source": [
    "test_ex = np.array([[1, 2, 5, 8], [1, 2, 5, 8], [1, 2, 5, 8], [1, 2, 5, 8]], int)\n",
    "test_ex[:, 2:]"
   ],
   "metadata": {
    "collapsed": false,
    "ExecuteTime": {
     "end_time": "2023-09-13T05:42:02.749798Z",
     "start_time": "2023-09-13T05:42:02.691716500Z"
    }
   },
   "id": "954f8d792c4c0834"
  },
  {
   "cell_type": "code",
   "execution_count": 8,
   "outputs": [
    {
     "data": {
      "text/plain": "(4, 2)"
     },
     "execution_count": 8,
     "metadata": {},
     "output_type": "execute_result"
    }
   ],
   "source": [
    "test_ex[:, 1:3].shape"
   ],
   "metadata": {
    "collapsed": false,
    "ExecuteTime": {
     "end_time": "2023-09-13T05:42:02.749798Z",
     "start_time": "2023-09-13T05:42:02.701553400Z"
    }
   },
   "id": "e95097e36710e3c2"
  },
  {
   "cell_type": "code",
   "execution_count": 9,
   "outputs": [
    {
     "data": {
      "text/plain": "array([[1, 2]])"
     },
     "execution_count": 9,
     "metadata": {},
     "output_type": "execute_result"
    }
   ],
   "source": [
    "test_ex[1:2, :2]  # 해당 행렬은 어쨌든 2차원 어레이이므로 1차원의 값을 slicing해도 2차원 어레이로 반환"
   ],
   "metadata": {
    "collapsed": false,
    "ExecuteTime": {
     "end_time": "2023-09-13T05:42:02.749798Z",
     "start_time": "2023-09-13T05:42:02.705768Z"
    }
   },
   "id": "675e95ca7ed8644c"
  },
  {
   "cell_type": "code",
   "execution_count": 10,
   "outputs": [
    {
     "data": {
      "text/plain": "array([1, 2, 5, 8])"
     },
     "execution_count": 10,
     "metadata": {},
     "output_type": "execute_result"
    }
   ],
   "source": [
    "test_ex[1]  # 이럴 때에는 1차원으로 나옴 (1개의 인자로만 지정했음)"
   ],
   "metadata": {
    "collapsed": false,
    "ExecuteTime": {
     "end_time": "2023-09-13T05:42:02.753103600Z",
     "start_time": "2023-09-13T05:42:02.712163Z"
    }
   },
   "id": "9c7a84ba3a8a52d"
  },
  {
   "cell_type": "code",
   "execution_count": 11,
   "outputs": [
    {
     "data": {
      "text/plain": "array([[1, 2, 5, 8]])"
     },
     "execution_count": 11,
     "metadata": {},
     "output_type": "execute_result"
    }
   ],
   "source": [
    "test_ex[1:2]  # 위의 코드와 같은 행을 출력하나, 2차원으로 나옴 (여러개를 지정해서 그럼)"
   ],
   "metadata": {
    "collapsed": false,
    "ExecuteTime": {
     "end_time": "2023-09-13T05:42:02.753629100Z",
     "start_time": "2023-09-13T05:42:02.718812800Z"
    }
   },
   "id": "75887c5fda3d166c"
  },
  {
   "cell_type": "code",
   "execution_count": 12,
   "outputs": [
    {
     "data": {
      "text/plain": "array([[ 0,  1,  2,  3,  4,  5,  6,  7,  8,  9],\n       [10, 11, 12, 13, 14, 15, 16, 17, 18, 19],\n       [20, 21, 22, 23, 24, 25, 26, 27, 28, 29],\n       [30, 31, 32, 33, 34, 35, 36, 37, 38, 39],\n       [40, 41, 42, 43, 44, 45, 46, 47, 48, 49],\n       [50, 51, 52, 53, 54, 55, 56, 57, 58, 59],\n       [60, 61, 62, 63, 64, 65, 66, 67, 68, 69],\n       [70, 71, 72, 73, 74, 75, 76, 77, 78, 79],\n       [80, 81, 82, 83, 84, 85, 86, 87, 88, 89],\n       [90, 91, 92, 93, 94, 95, 96, 97, 98, 99]])"
     },
     "execution_count": 12,
     "metadata": {},
     "output_type": "execute_result"
    }
   ],
   "source": [
    "a = np.arange(100).reshape(10, 10)\n",
    "a"
   ],
   "metadata": {
    "collapsed": false,
    "ExecuteTime": {
     "end_time": "2023-09-13T05:42:02.753629100Z",
     "start_time": "2023-09-13T05:42:02.725112600Z"
    }
   },
   "id": "78abd21645bca6b8"
  },
  {
   "cell_type": "code",
   "execution_count": 13,
   "outputs": [
    {
     "data": {
      "text/plain": "array([ 9, 19, 29, 39, 49, 59, 69, 79, 89, 99])"
     },
     "execution_count": 13,
     "metadata": {},
     "output_type": "execute_result"
    }
   ],
   "source": [
    "a[:, -1]  # slicing이 아닌 인수로 지정하면, 1차원 어레이로 나온다..."
   ],
   "metadata": {
    "collapsed": false,
    "ExecuteTime": {
     "end_time": "2023-09-13T05:42:02.753629100Z",
     "start_time": "2023-09-13T05:42:02.733612100Z"
    }
   },
   "id": "67b0a84f10bd9a50"
  },
  {
   "cell_type": "markdown",
   "source": [
    "## arange"
   ],
   "metadata": {
    "collapsed": false
   },
   "id": "dce56757aaafab0"
  },
  {
   "cell_type": "code",
   "execution_count": 14,
   "outputs": [
    {
     "data": {
      "text/plain": "[0, 3, 6, 9]"
     },
     "execution_count": 14,
     "metadata": {},
     "output_type": "execute_result"
    }
   ],
   "source": [
    "list(range(0, 10, 3))"
   ],
   "metadata": {
    "collapsed": false,
    "ExecuteTime": {
     "end_time": "2023-09-13T05:42:02.773751200Z",
     "start_time": "2023-09-13T05:42:02.737910200Z"
    }
   },
   "id": "4ec4902fc29f6ac6"
  },
  {
   "cell_type": "code",
   "execution_count": 15,
   "outputs": [
    {
     "data": {
      "text/plain": "array([ 0,  1,  2,  3,  4,  5,  6,  7,  8,  9, 10, 11, 12, 13, 14, 15, 16,\n       17, 18, 19, 20, 21, 22, 23, 24, 25, 26, 27, 28, 29])"
     },
     "execution_count": 15,
     "metadata": {},
     "output_type": "execute_result"
    }
   ],
   "source": [
    "np.arange(30)"
   ],
   "metadata": {
    "collapsed": false,
    "ExecuteTime": {
     "end_time": "2023-09-13T05:42:02.793654600Z",
     "start_time": "2023-09-13T05:42:02.749486Z"
    }
   },
   "id": "a2ece60c64fc415e"
  },
  {
   "cell_type": "code",
   "execution_count": 16,
   "outputs": [
    {
     "data": {
      "text/plain": "array([0. , 0.5, 1. , 1.5, 2. , 2.5, 3. , 3.5, 4. , 4.5, 5. , 5.5, 6. ,\n       6.5, 7. , 7.5, 8. , 8.5, 9. , 9.5])"
     },
     "execution_count": 16,
     "metadata": {},
     "output_type": "execute_result"
    }
   ],
   "source": [
    "np.arange(0, 10, 0.5)  # float point로 step 변화 가능"
   ],
   "metadata": {
    "collapsed": false,
    "ExecuteTime": {
     "end_time": "2023-09-13T05:42:02.793654600Z",
     "start_time": "2023-09-13T05:42:02.753629100Z"
    }
   },
   "id": "e9b822e1e5ef6740"
  },
  {
   "cell_type": "code",
   "execution_count": 17,
   "outputs": [
    {
     "data": {
      "text/plain": "array([[ 0,  1,  2,  3,  4,  5],\n       [ 6,  7,  8,  9, 10, 11],\n       [12, 13, 14, 15, 16, 17],\n       [18, 19, 20, 21, 22, 23],\n       [24, 25, 26, 27, 28, 29]])"
     },
     "execution_count": 17,
     "metadata": {},
     "output_type": "execute_result"
    }
   ],
   "source": [
    "np.arange(30).reshape(5, 6)"
   ],
   "metadata": {
    "collapsed": false,
    "ExecuteTime": {
     "end_time": "2023-09-13T05:42:02.970366Z",
     "start_time": "2023-09-13T05:42:02.760462100Z"
    }
   },
   "id": "8508fc536575cc49"
  },
  {
   "cell_type": "markdown",
   "source": [
    "## ones, zeros & empty"
   ],
   "metadata": {
    "collapsed": false
   },
   "id": "dd60dafbc1347948"
  },
  {
   "cell_type": "code",
   "execution_count": 18,
   "outputs": [
    {
     "data": {
      "text/plain": "array([0, 0, 0, 0, 0, 0, 0, 0, 0, 0], dtype=int8)"
     },
     "execution_count": 18,
     "metadata": {},
     "output_type": "execute_result"
    }
   ],
   "source": [
    "np.zeros(shape=10, dtype=np.int8)"
   ],
   "metadata": {
    "collapsed": false,
    "ExecuteTime": {
     "end_time": "2023-09-13T05:42:02.970366Z",
     "start_time": "2023-09-13T05:42:02.766819800Z"
    }
   },
   "id": "e7eafa4bb4f2e73a"
  },
  {
   "cell_type": "code",
   "execution_count": 19,
   "outputs": [
    {
     "data": {
      "text/plain": "array([[0., 0., 0., 0., 0.],\n       [0., 0., 0., 0., 0.]])"
     },
     "execution_count": 19,
     "metadata": {},
     "output_type": "execute_result"
    }
   ],
   "source": [
    "np.zeros((2, 5))"
   ],
   "metadata": {
    "collapsed": false,
    "ExecuteTime": {
     "end_time": "2023-09-13T05:42:02.970366Z",
     "start_time": "2023-09-13T05:42:02.773751200Z"
    }
   },
   "id": "d5d2c6de74972921"
  },
  {
   "cell_type": "code",
   "execution_count": 20,
   "outputs": [
    {
     "data": {
      "text/plain": "array([1, 1, 1, 1, 1, 1, 1, 1, 1, 1], dtype=int8)"
     },
     "execution_count": 20,
     "metadata": {},
     "output_type": "execute_result"
    }
   ],
   "source": [
    "np.ones(10, dtype=np.int8)"
   ],
   "metadata": {
    "collapsed": false,
    "ExecuteTime": {
     "end_time": "2023-09-13T05:42:02.970366Z",
     "start_time": "2023-09-13T05:42:02.781378500Z"
    }
   },
   "id": "5020d359fa464fa9"
  },
  {
   "cell_type": "code",
   "execution_count": 21,
   "outputs": [
    {
     "data": {
      "text/plain": "array([[1., 1., 1., 1., 1.],\n       [1., 1., 1., 1., 1.]])"
     },
     "execution_count": 21,
     "metadata": {},
     "output_type": "execute_result"
    }
   ],
   "source": [
    "np.ones((2, 5))"
   ],
   "metadata": {
    "collapsed": false,
    "ExecuteTime": {
     "end_time": "2023-09-13T05:42:02.970366Z",
     "start_time": "2023-09-13T05:42:02.787614800Z"
    }
   },
   "id": "83e33565ae0d1f9b"
  },
  {
   "cell_type": "code",
   "execution_count": 22,
   "outputs": [
    {
     "data": {
      "text/plain": "array([1, 1, 1, 1, 1, 1, 1, 1, 1, 1], dtype=int8)"
     },
     "execution_count": 22,
     "metadata": {},
     "output_type": "execute_result"
    }
   ],
   "source": [
    "np.empty(10, np.int8)"
   ],
   "metadata": {
    "collapsed": false,
    "ExecuteTime": {
     "end_time": "2023-09-13T05:42:02.970366Z",
     "start_time": "2023-09-13T05:42:02.797189800Z"
    }
   },
   "id": "76b92691142bb86d"
  },
  {
   "cell_type": "code",
   "execution_count": 23,
   "outputs": [
    {
     "data": {
      "text/plain": "array([[9.92912957e-312, 9.92882711e-312, 0.00000000e+000,\n        0.00000000e+000, 0.00000000e+000],\n       [0.00000000e+000, 0.00000000e+000, 0.00000000e+000,\n        0.00000000e+000, 0.00000000e+000],\n       [0.00000000e+000, 0.00000000e+000, 0.00000000e+000,\n        0.00000000e+000, 0.00000000e+000],\n       [0.00000000e+000, 0.00000000e+000, 6.45221679e-308,\n        9.92882660e-312, 9.92882660e-312],\n       [9.92920802e-312, 9.92920802e-312, 9.92922039e-312,\n        6.95340875e-317, 0.00000000e+000],\n       [0.00000000e+000, 0.00000000e+000, 0.00000000e+000,\n        0.00000000e+000, 0.00000000e+000],\n       [0.00000000e+000, 0.00000000e+000, 0.00000000e+000,\n        0.00000000e+000, 0.00000000e+000],\n       [0.00000000e+000, 0.00000000e+000, 0.00000000e+000,\n        0.00000000e+000, 0.00000000e+000],\n       [0.00000000e+000, 0.00000000e+000, 0.00000000e+000,\n        0.00000000e+000, 0.00000000e+000],\n       [0.00000000e+000, 0.00000000e+000, 0.00000000e+000,\n        0.00000000e+000, 0.00000000e+000]])"
     },
     "execution_count": 23,
     "metadata": {},
     "output_type": "execute_result"
    }
   ],
   "source": [
    "np.empty((10, 5))"
   ],
   "metadata": {
    "collapsed": false,
    "ExecuteTime": {
     "end_time": "2023-09-13T05:42:02.970366Z",
     "start_time": "2023-09-13T05:42:02.800263300Z"
    }
   },
   "id": "4ccf91b55e8726e6"
  },
  {
   "cell_type": "code",
   "execution_count": 24,
   "outputs": [
    {
     "data": {
      "text/plain": "(5, 20)"
     },
     "execution_count": 24,
     "metadata": {},
     "output_type": "execute_result"
    }
   ],
   "source": [
    "test_mat = np.arange(100).reshape(5, -1)\n",
    "test_mat.shape"
   ],
   "metadata": {
    "collapsed": false,
    "ExecuteTime": {
     "end_time": "2023-09-13T05:42:02.970366Z",
     "start_time": "2023-09-13T05:42:02.807538600Z"
    }
   },
   "id": "19ceca9c2227d457"
  },
  {
   "cell_type": "code",
   "execution_count": 25,
   "outputs": [
    {
     "data": {
      "text/plain": "array([[0, 0, 0, 0, 0, 0, 0, 0, 0, 0, 0, 0, 0, 0, 0, 0, 0, 0, 0, 0],\n       [0, 0, 0, 0, 0, 0, 0, 0, 0, 0, 0, 0, 0, 0, 0, 0, 0, 0, 0, 0],\n       [0, 0, 0, 0, 0, 0, 0, 0, 0, 0, 0, 0, 0, 0, 0, 0, 0, 0, 0, 0],\n       [0, 0, 0, 0, 0, 0, 0, 0, 0, 0, 0, 0, 0, 0, 0, 0, 0, 0, 0, 0],\n       [0, 0, 0, 0, 0, 0, 0, 0, 0, 0, 0, 0, 0, 0, 0, 0, 0, 0, 0, 0]],\n      dtype=int8)"
     },
     "execution_count": 25,
     "metadata": {},
     "output_type": "execute_result"
    }
   ],
   "source": [
    "np.zeros_like(test_mat, np.int8)"
   ],
   "metadata": {
    "collapsed": false,
    "ExecuteTime": {
     "end_time": "2023-09-13T05:42:02.970366Z",
     "start_time": "2023-09-13T05:42:02.813616500Z"
    }
   },
   "id": "2e07e1fb02d3a78f"
  },
  {
   "cell_type": "markdown",
   "source": [
    "## eye, identity & digonal"
   ],
   "metadata": {
    "collapsed": false
   },
   "id": "5673337e0fd3607c"
  },
  {
   "cell_type": "code",
   "execution_count": 26,
   "outputs": [
    {
     "data": {
      "text/plain": "array([[1, 0, 0, 0, 0, 0, 0, 0, 0, 0],\n       [0, 1, 0, 0, 0, 0, 0, 0, 0, 0],\n       [0, 0, 1, 0, 0, 0, 0, 0, 0, 0],\n       [0, 0, 0, 1, 0, 0, 0, 0, 0, 0],\n       [0, 0, 0, 0, 1, 0, 0, 0, 0, 0],\n       [0, 0, 0, 0, 0, 1, 0, 0, 0, 0],\n       [0, 0, 0, 0, 0, 0, 1, 0, 0, 0],\n       [0, 0, 0, 0, 0, 0, 0, 1, 0, 0],\n       [0, 0, 0, 0, 0, 0, 0, 0, 1, 0],\n       [0, 0, 0, 0, 0, 0, 0, 0, 0, 1]], dtype=int8)"
     },
     "execution_count": 26,
     "metadata": {},
     "output_type": "execute_result"
    }
   ],
   "source": [
    "np.identity(10, np.int8)"
   ],
   "metadata": {
    "collapsed": false,
    "ExecuteTime": {
     "end_time": "2023-09-13T05:42:02.970366Z",
     "start_time": "2023-09-13T05:42:02.823236800Z"
    }
   },
   "id": "90bf9268e900a3e2"
  },
  {
   "cell_type": "code",
   "execution_count": 27,
   "outputs": [
    {
     "data": {
      "text/plain": "array([[1, 0, 0, 0, 0],\n       [0, 1, 0, 0, 0],\n       [0, 0, 1, 0, 0]], dtype=int8)"
     },
     "execution_count": 27,
     "metadata": {},
     "output_type": "execute_result"
    }
   ],
   "source": [
    "np.eye(3, 5, dtype=np.int8)"
   ],
   "metadata": {
    "collapsed": false,
    "ExecuteTime": {
     "end_time": "2023-09-13T05:42:02.970366Z",
     "start_time": "2023-09-13T05:42:02.826604400Z"
    }
   },
   "id": "74922aa1e432a5ba"
  },
  {
   "cell_type": "code",
   "execution_count": 28,
   "outputs": [
    {
     "data": {
      "text/plain": "array([[1., 0., 0.],\n       [0., 1., 0.],\n       [0., 0., 1.]])"
     },
     "execution_count": 28,
     "metadata": {},
     "output_type": "execute_result"
    }
   ],
   "source": [
    "np.eye(3)"
   ],
   "metadata": {
    "collapsed": false,
    "ExecuteTime": {
     "end_time": "2023-09-13T05:42:02.970366Z",
     "start_time": "2023-09-13T05:42:02.833098800Z"
    }
   },
   "id": "ea4252dca7744d37"
  },
  {
   "cell_type": "code",
   "execution_count": 29,
   "outputs": [
    {
     "data": {
      "text/plain": "array([[0., 0., 1., 0., 0.],\n       [0., 0., 0., 1., 0.],\n       [0., 0., 0., 0., 1.]])"
     },
     "execution_count": 29,
     "metadata": {},
     "output_type": "execute_result"
    }
   ],
   "source": [
    "np.eye(3, 5, k=2)  # k에 따라 시작 위치가 달라짐"
   ],
   "metadata": {
    "collapsed": false,
    "ExecuteTime": {
     "end_time": "2023-09-13T05:42:02.970366Z",
     "start_time": "2023-09-13T05:42:02.840207900Z"
    }
   },
   "id": "def71f9c7c67d0b1"
  },
  {
   "cell_type": "code",
   "execution_count": 30,
   "outputs": [
    {
     "data": {
      "text/plain": "array([[ 0,  1,  2,  3],\n       [ 4,  5,  6,  7],\n       [ 8,  9, 10, 11]])"
     },
     "execution_count": 30,
     "metadata": {},
     "output_type": "execute_result"
    }
   ],
   "source": [
    "mat = np.arange(12).reshape(3, 4)\n",
    "mat"
   ],
   "metadata": {
    "collapsed": false,
    "ExecuteTime": {
     "end_time": "2023-09-13T05:42:03.001385900Z",
     "start_time": "2023-09-13T05:42:02.847047900Z"
    }
   },
   "id": "10314aca1f3df2a6"
  },
  {
   "cell_type": "code",
   "execution_count": 31,
   "outputs": [
    {
     "data": {
      "text/plain": "array([2, 7])"
     },
     "execution_count": 31,
     "metadata": {},
     "output_type": "execute_result"
    }
   ],
   "source": [
    "np.diag(mat, k=2)  # 여기도 마찬가지로 k를 시작위치로 함"
   ],
   "metadata": {
    "collapsed": false,
    "ExecuteTime": {
     "end_time": "2023-09-13T05:42:03.001385900Z",
     "start_time": "2023-09-13T05:42:02.853724800Z"
    }
   },
   "id": "947e98f8ed356082"
  },
  {
   "cell_type": "code",
   "execution_count": 32,
   "outputs": [
    {
     "data": {
      "text/plain": "array([4, 9])"
     },
     "execution_count": 32,
     "metadata": {},
     "output_type": "execute_result"
    }
   ],
   "source": [
    "np.diag(mat, k=-1)  # 여기도 마찬가지로 k를 시작위치로 함"
   ],
   "metadata": {
    "collapsed": false,
    "ExecuteTime": {
     "end_time": "2023-09-13T05:42:03.001385900Z",
     "start_time": "2023-09-13T05:42:02.862053700Z"
    }
   },
   "id": "3a2dd7fb86ef6eee"
  },
  {
   "cell_type": "code",
   "execution_count": 33,
   "outputs": [
    {
     "data": {
      "text/plain": "array([ 1,  6, 11])"
     },
     "execution_count": 33,
     "metadata": {},
     "output_type": "execute_result"
    }
   ],
   "source": [
    "np.diag(mat, k=1)  # 여기도 마찬가지로 k를 시작위치로 함"
   ],
   "metadata": {
    "collapsed": false,
    "ExecuteTime": {
     "end_time": "2023-09-13T05:42:03.001385900Z",
     "start_time": "2023-09-13T05:42:02.870054600Z"
    }
   },
   "id": "e6e6b54fdcda2a3c"
  },
  {
   "cell_type": "markdown",
   "source": [
    "## random sampling - numpy.random"
   ],
   "metadata": {
    "collapsed": false
   },
   "id": "bef5f6c691ed0186"
  },
  {
   "cell_type": "code",
   "execution_count": 34,
   "outputs": [
    {
     "data": {
      "text/plain": "array([[-0.23797617, -0.26720817, -0.70944922, -0.20528087, -1.75042873],\n       [-1.35956623,  0.91574892,  0.444606  , -0.25712243,  1.34574653]])"
     },
     "execution_count": 34,
     "metadata": {},
     "output_type": "execute_result"
    }
   ],
   "source": [
    "np.random.normal(0,1,10).reshape(2,5)"
   ],
   "metadata": {
    "collapsed": false,
    "ExecuteTime": {
     "end_time": "2023-09-13T05:42:03.001385900Z",
     "start_time": "2023-09-13T05:42:02.873666Z"
    }
   },
   "id": "5b024b81894c35a0"
  },
  {
   "cell_type": "code",
   "execution_count": 35,
   "outputs": [
    {
     "data": {
      "text/plain": "array([ 0.51045697,  0.70439737,  0.81617627,  4.83555116,  0.41325817,\n        4.63397704,  1.29114835,  1.47136674,  0.81200446,  0.98517852,\n        6.02038205,  0.64828722,  6.36438517,  1.57902015,  2.5164476 ,\n        0.78971817,  3.64954646,  0.84212742,  0.30232615,  0.98675538,\n        2.21009712,  0.9914962 ,  0.17209578,  1.75374184,  1.12008282,\n        1.42636626,  3.04962678,  5.87126699,  0.08418252,  0.24811073,\n        0.15732633,  0.679009  ,  0.42044425,  1.63081472,  3.10784415,\n        1.10402091,  0.39442784,  6.81964331,  5.33996704,  3.09438596,\n        3.78804873,  0.47349622,  3.83701512,  0.40617163,  1.89620058,\n        0.24378213,  5.21793221,  2.15138539,  1.96426048,  3.64694496,\n        0.3249749 ,  4.08257327,  8.51146759,  0.88769135,  8.69033758,\n        7.6805056 ,  0.38873575,  0.28106798,  0.92228341,  1.40657219,\n        3.87833199,  2.17972548,  4.03967854,  0.61550287,  0.2677294 ,\n        1.01471754,  1.8938006 ,  3.28752508,  2.01748442,  4.32575141,\n        0.03597539,  0.44745732,  6.1960946 ,  1.77338466,  1.87635633,\n        0.34594183,  1.58891969,  5.98461554,  6.72226161,  0.02248885,\n        1.78785459,  2.199602  ,  0.77693339,  3.30248837,  3.98366002,\n        0.8354402 ,  0.07259644,  1.07298879,  2.73362181,  1.07128977,\n        1.25779286, 10.58739997,  0.12202173,  3.14218628,  0.91527004,\n        0.73683698,  4.38612898,  1.68222645,  0.25447266,  0.05458651])"
     },
     "execution_count": 35,
     "metadata": {},
     "output_type": "execute_result"
    }
   ],
   "source": [
    "np.random.exponential(scale=2, size=100)"
   ],
   "metadata": {
    "collapsed": false,
    "ExecuteTime": {
     "end_time": "2023-09-13T05:42:03.001385900Z",
     "start_time": "2023-09-13T05:42:02.885807700Z"
    }
   },
   "id": "40d3120173186ecb"
  }
 ],
 "metadata": {
  "kernelspec": {
   "display_name": "Python 3",
   "language": "python",
   "name": "python3"
  },
  "language_info": {
   "codemirror_mode": {
    "name": "ipython",
    "version": 2
   },
   "file_extension": ".py",
   "mimetype": "text/x-python",
   "name": "python",
   "nbconvert_exporter": "python",
   "pygments_lexer": "ipython2",
   "version": "2.7.6"
  }
 },
 "nbformat": 4,
 "nbformat_minor": 5
}
