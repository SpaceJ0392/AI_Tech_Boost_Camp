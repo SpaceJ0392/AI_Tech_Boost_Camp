{
 "cells": [
  {
   "cell_type": "code",
   "execution_count": 2,
   "id": "initial_id",
   "metadata": {
    "collapsed": true,
    "ExecuteTime": {
     "end_time": "2023-09-08T07:55:37.084854300Z",
     "start_time": "2023-09-08T07:55:36.981142400Z"
    }
   },
   "outputs": [],
   "source": [
    "import numpy as np"
   ]
  },
  {
   "cell_type": "code",
   "execution_count": 3,
   "outputs": [
    {
     "data": {
      "text/plain": "array([[1, 2, 3],\n       [4, 5, 6]])"
     },
     "execution_count": 3,
     "metadata": {},
     "output_type": "execute_result"
    }
   ],
   "source": [
    "test_ex = np.array([[1, 2, 3], [4.5, 5, 6]], int)\n",
    "test_ex"
   ],
   "metadata": {
    "collapsed": false,
    "ExecuteTime": {
     "end_time": "2023-09-08T07:55:37.689551900Z",
     "start_time": "2023-09-08T07:55:37.685399200Z"
    }
   },
   "id": "5ace0fb90bdc5d43"
  },
  {
   "cell_type": "code",
   "execution_count": 4,
   "outputs": [
    {
     "data": {
      "text/plain": "3"
     },
     "execution_count": 4,
     "metadata": {},
     "output_type": "execute_result"
    }
   ],
   "source": [
    "test_ex[0][2]"
   ],
   "metadata": {
    "collapsed": false,
    "ExecuteTime": {
     "end_time": "2023-09-08T07:55:58.162965200Z",
     "start_time": "2023-09-08T07:55:58.149679700Z"
    }
   },
   "id": "8e9ee18d7741f4d2"
  },
  {
   "cell_type": "code",
   "execution_count": 5,
   "outputs": [
    {
     "data": {
      "text/plain": "3"
     },
     "execution_count": 5,
     "metadata": {},
     "output_type": "execute_result"
    }
   ],
   "source": [
    "test_ex[0, 2]"
   ],
   "metadata": {
    "collapsed": false,
    "ExecuteTime": {
     "end_time": "2023-09-08T07:56:03.553679900Z",
     "start_time": "2023-09-08T07:56:03.541517200Z"
    }
   },
   "id": "96652cbf7aedd5e0"
  },
  {
   "cell_type": "code",
   "execution_count": 8,
   "outputs": [
    {
     "data": {
      "text/plain": "array([[10,  2,  3],\n       [ 4,  5,  6]])"
     },
     "execution_count": 8,
     "metadata": {},
     "output_type": "execute_result"
    }
   ],
   "source": [
    "test_ex[0, 0] = 10\n",
    "test_ex"
   ],
   "metadata": {
    "collapsed": false,
    "ExecuteTime": {
     "end_time": "2023-09-08T07:57:48.090358100Z",
     "start_time": "2023-09-08T07:57:48.080197200Z"
    }
   },
   "id": "2b2c55ebdac1627a"
  },
  {
   "cell_type": "code",
   "execution_count": 9,
   "outputs": [
    {
     "data": {
      "text/plain": "5"
     },
     "execution_count": 9,
     "metadata": {},
     "output_type": "execute_result"
    }
   ],
   "source": [
    "test_ex[1, 2] = 5\n",
    "test_ex[1, 2]"
   ],
   "metadata": {
    "collapsed": false,
    "ExecuteTime": {
     "end_time": "2023-09-08T07:58:02.950063200Z",
     "start_time": "2023-09-08T07:58:02.936277700Z"
    }
   },
   "id": "128df467311f2e42"
  },
  {
   "cell_type": "markdown",
   "source": [
    "## slicing"
   ],
   "metadata": {
    "collapsed": false
   },
   "id": "4d1c954931527808"
  },
  {
   "cell_type": "code",
   "execution_count": 10,
   "outputs": [
    {
     "data": {
      "text/plain": "array([[5, 8],\n       [5, 8],\n       [5, 8],\n       [5, 8]])"
     },
     "execution_count": 10,
     "metadata": {},
     "output_type": "execute_result"
    }
   ],
   "source": [
    "test_ex = np.array([[1, 2, 5, 8], [1, 2, 5, 8], [1, 2, 5, 8], [1, 2, 5, 8]], int)\n",
    "test_ex[:, 2:]"
   ],
   "metadata": {
    "collapsed": false,
    "ExecuteTime": {
     "end_time": "2023-09-08T08:03:36.231356800Z",
     "start_time": "2023-09-08T08:03:36.217746800Z"
    }
   },
   "id": "954f8d792c4c0834"
  },
  {
   "cell_type": "code",
   "execution_count": 11,
   "outputs": [
    {
     "data": {
      "text/plain": "(4, 2)"
     },
     "execution_count": 11,
     "metadata": {},
     "output_type": "execute_result"
    }
   ],
   "source": [
    "test_ex[:, 1:3].shape"
   ],
   "metadata": {
    "collapsed": false,
    "ExecuteTime": {
     "end_time": "2023-09-08T08:04:02.457511400Z",
     "start_time": "2023-09-08T08:04:02.443347900Z"
    }
   },
   "id": "e95097e36710e3c2"
  },
  {
   "cell_type": "code",
   "execution_count": 12,
   "outputs": [
    {
     "data": {
      "text/plain": "array([[1, 2]])"
     },
     "execution_count": 12,
     "metadata": {},
     "output_type": "execute_result"
    }
   ],
   "source": [
    "test_ex[1:2, :2]  # 해당 행렬은 어쨌든 2차원 어레이이므로 1차원의 값을 slicing해도 2차원 어레이로 반환"
   ],
   "metadata": {
    "collapsed": false,
    "ExecuteTime": {
     "end_time": "2023-09-08T08:05:52.802309Z",
     "start_time": "2023-09-08T08:05:52.797039400Z"
    }
   },
   "id": "675e95ca7ed8644c"
  },
  {
   "cell_type": "code",
   "execution_count": 13,
   "outputs": [
    {
     "data": {
      "text/plain": "array([1, 2, 5, 8])"
     },
     "execution_count": 13,
     "metadata": {},
     "output_type": "execute_result"
    }
   ],
   "source": [
    "test_ex[1]  # 이럴 때에는 1차원으로 나옴 (1개의 인자로만 지정했음)"
   ],
   "metadata": {
    "collapsed": false,
    "ExecuteTime": {
     "end_time": "2023-09-08T08:06:15.124207800Z",
     "start_time": "2023-09-08T08:06:15.118472500Z"
    }
   },
   "id": "9c7a84ba3a8a52d"
  },
  {
   "cell_type": "code",
   "execution_count": 15,
   "outputs": [
    {
     "data": {
      "text/plain": "array([[1, 2, 5, 8]])"
     },
     "execution_count": 15,
     "metadata": {},
     "output_type": "execute_result"
    }
   ],
   "source": [
    "test_ex[1:2]  # 위의 코드와 같은 행을 출력하나, 2차원으로 나옴 (여러개를 지정해서 그럼)"
   ],
   "metadata": {
    "collapsed": false,
    "ExecuteTime": {
     "end_time": "2023-09-08T08:10:47.875198500Z",
     "start_time": "2023-09-08T08:10:47.862145500Z"
    }
   },
   "id": "75887c5fda3d166c"
  },
  {
   "cell_type": "code",
   "execution_count": 16,
   "outputs": [
    {
     "data": {
      "text/plain": "array([[ 0,  1,  2,  3,  4,  5,  6,  7,  8,  9],\n       [10, 11, 12, 13, 14, 15, 16, 17, 18, 19],\n       [20, 21, 22, 23, 24, 25, 26, 27, 28, 29],\n       [30, 31, 32, 33, 34, 35, 36, 37, 38, 39],\n       [40, 41, 42, 43, 44, 45, 46, 47, 48, 49],\n       [50, 51, 52, 53, 54, 55, 56, 57, 58, 59],\n       [60, 61, 62, 63, 64, 65, 66, 67, 68, 69],\n       [70, 71, 72, 73, 74, 75, 76, 77, 78, 79],\n       [80, 81, 82, 83, 84, 85, 86, 87, 88, 89],\n       [90, 91, 92, 93, 94, 95, 96, 97, 98, 99]])"
     },
     "execution_count": 16,
     "metadata": {},
     "output_type": "execute_result"
    }
   ],
   "source": [
    "a = np.arange(100).reshape(10, 10)\n",
    "a"
   ],
   "metadata": {
    "collapsed": false,
    "ExecuteTime": {
     "end_time": "2023-09-08T08:12:32.835777300Z",
     "start_time": "2023-09-08T08:12:32.825153300Z"
    }
   },
   "id": "78abd21645bca6b8"
  },
  {
   "cell_type": "code",
   "execution_count": 17,
   "outputs": [
    {
     "data": {
      "text/plain": "array([ 9, 19, 29, 39, 49, 59, 69, 79, 89, 99])"
     },
     "execution_count": 17,
     "metadata": {},
     "output_type": "execute_result"
    }
   ],
   "source": [
    "a[:, -1]  # slicing이 아닌 인수로 지정하면, 1차원 어레이로 나온다..."
   ],
   "metadata": {
    "collapsed": false,
    "ExecuteTime": {
     "end_time": "2023-09-08T08:14:13.666597200Z",
     "start_time": "2023-09-08T08:14:13.660201Z"
    }
   },
   "id": "67b0a84f10bd9a50"
  },
  {
   "cell_type": "markdown",
   "source": [
    "## arange"
   ],
   "metadata": {
    "collapsed": false
   },
   "id": "dce56757aaafab0"
  },
  {
   "cell_type": "code",
   "execution_count": 18,
   "outputs": [
    {
     "data": {
      "text/plain": "[0, 3, 6, 9]"
     },
     "execution_count": 18,
     "metadata": {},
     "output_type": "execute_result"
    }
   ],
   "source": [
    "list(range(0, 10, 3))"
   ],
   "metadata": {
    "collapsed": false,
    "ExecuteTime": {
     "end_time": "2023-09-08T08:17:47.153195600Z",
     "start_time": "2023-09-08T08:17:47.146008400Z"
    }
   },
   "id": "4ec4902fc29f6ac6"
  },
  {
   "cell_type": "code",
   "execution_count": 19,
   "outputs": [
    {
     "data": {
      "text/plain": "array([ 0,  1,  2,  3,  4,  5,  6,  7,  8,  9, 10, 11, 12, 13, 14, 15, 16,\n       17, 18, 19, 20, 21, 22, 23, 24, 25, 26, 27, 28, 29])"
     },
     "execution_count": 19,
     "metadata": {},
     "output_type": "execute_result"
    }
   ],
   "source": [
    "np.arange(30)"
   ],
   "metadata": {
    "collapsed": false,
    "ExecuteTime": {
     "end_time": "2023-09-08T08:18:06.727279600Z",
     "start_time": "2023-09-08T08:18:06.698770700Z"
    }
   },
   "id": "a2ece60c64fc415e"
  },
  {
   "cell_type": "code",
   "execution_count": 20,
   "outputs": [
    {
     "data": {
      "text/plain": "array([0. , 0.5, 1. , 1.5, 2. , 2.5, 3. , 3.5, 4. , 4.5, 5. , 5.5, 6. ,\n       6.5, 7. , 7.5, 8. , 8.5, 9. , 9.5])"
     },
     "execution_count": 20,
     "metadata": {},
     "output_type": "execute_result"
    }
   ],
   "source": [
    "np.arange(0, 10, 0.5)  # float point로 step 변화 가능"
   ],
   "metadata": {
    "collapsed": false,
    "ExecuteTime": {
     "end_time": "2023-09-08T08:18:18.651073300Z",
     "start_time": "2023-09-08T08:18:18.643111700Z"
    }
   },
   "id": "e9b822e1e5ef6740"
  },
  {
   "cell_type": "code",
   "execution_count": 21,
   "outputs": [
    {
     "data": {
      "text/plain": "array([[ 0,  1,  2,  3,  4,  5],\n       [ 6,  7,  8,  9, 10, 11],\n       [12, 13, 14, 15, 16, 17],\n       [18, 19, 20, 21, 22, 23],\n       [24, 25, 26, 27, 28, 29]])"
     },
     "execution_count": 21,
     "metadata": {},
     "output_type": "execute_result"
    }
   ],
   "source": [
    "np.arange(30).reshape(5, 6)"
   ],
   "metadata": {
    "collapsed": false,
    "ExecuteTime": {
     "end_time": "2023-09-08T08:18:48.053816Z",
     "start_time": "2023-09-08T08:18:48.045589100Z"
    }
   },
   "id": "8508fc536575cc49"
  },
  {
   "cell_type": "markdown",
   "source": [
    "## ones, zeros & empty"
   ],
   "metadata": {
    "collapsed": false
   },
   "id": "dd60dafbc1347948"
  },
  {
   "cell_type": "code",
   "execution_count": 23,
   "outputs": [
    {
     "data": {
      "text/plain": "array([0, 0, 0, 0, 0, 0, 0, 0, 0, 0], dtype=int8)"
     },
     "execution_count": 23,
     "metadata": {},
     "output_type": "execute_result"
    }
   ],
   "source": [
    "np.zeros(shape=10, dtype=np.int8)"
   ],
   "metadata": {
    "collapsed": false,
    "ExecuteTime": {
     "end_time": "2023-09-08T08:26:44.392126500Z",
     "start_time": "2023-09-08T08:26:44.387452200Z"
    }
   },
   "id": "e7eafa4bb4f2e73a"
  },
  {
   "cell_type": "code",
   "execution_count": 24,
   "outputs": [
    {
     "data": {
      "text/plain": "array([[0., 0., 0., 0., 0.],\n       [0., 0., 0., 0., 0.]])"
     },
     "execution_count": 24,
     "metadata": {},
     "output_type": "execute_result"
    }
   ],
   "source": [
    "np.zeros((2, 5))"
   ],
   "metadata": {
    "collapsed": false,
    "ExecuteTime": {
     "end_time": "2023-09-08T08:26:53.713404500Z",
     "start_time": "2023-09-08T08:26:53.674422400Z"
    }
   },
   "id": "d5d2c6de74972921"
  },
  {
   "cell_type": "code",
   "execution_count": 25,
   "outputs": [
    {
     "data": {
      "text/plain": "array([1, 1, 1, 1, 1, 1, 1, 1, 1, 1], dtype=int8)"
     },
     "execution_count": 25,
     "metadata": {},
     "output_type": "execute_result"
    }
   ],
   "source": [
    "np.ones(10, dtype=np.int8)"
   ],
   "metadata": {
    "collapsed": false,
    "ExecuteTime": {
     "end_time": "2023-09-08T08:27:15.114498100Z",
     "start_time": "2023-09-08T08:27:15.106855200Z"
    }
   },
   "id": "5020d359fa464fa9"
  },
  {
   "cell_type": "code",
   "execution_count": 27,
   "outputs": [
    {
     "data": {
      "text/plain": "array([[1., 1., 1., 1., 1.],\n       [1., 1., 1., 1., 1.]])"
     },
     "execution_count": 27,
     "metadata": {},
     "output_type": "execute_result"
    }
   ],
   "source": [
    "np.ones((2, 5))"
   ],
   "metadata": {
    "collapsed": false,
    "ExecuteTime": {
     "end_time": "2023-09-08T08:27:31.782483900Z",
     "start_time": "2023-09-08T08:27:31.771241200Z"
    }
   },
   "id": "83e33565ae0d1f9b"
  },
  {
   "cell_type": "code",
   "execution_count": 28,
   "outputs": [
    {
     "data": {
      "text/plain": "array([1, 1, 1, 1, 1, 1, 1, 1, 1, 1], dtype=int8)"
     },
     "execution_count": 28,
     "metadata": {},
     "output_type": "execute_result"
    }
   ],
   "source": [
    "np.empty(10, np.int8)"
   ],
   "metadata": {
    "collapsed": false,
    "ExecuteTime": {
     "end_time": "2023-09-08T08:27:46.964309Z",
     "start_time": "2023-09-08T08:27:46.955526900Z"
    }
   },
   "id": "76b92691142bb86d"
  },
  {
   "cell_type": "code",
   "execution_count": 29,
   "outputs": [
    {
     "data": {
      "text/plain": "array([[0.00000000e+000, 0.00000000e+000, 0.00000000e+000,\n        6.95272535e-310, 2.27270197e-322],\n       [9.37078661e-312, 9.37078661e-312, 6.95272535e-310,\n        6.95272536e-310, 6.95272542e-310],\n       [6.95272535e-310, 6.95272536e-310, 6.95272535e-310,\n        9.37078376e-312, 6.95272535e-310],\n       [6.95272536e-310, 6.95272537e-310, 6.95272542e-310,\n        9.37078660e-312, 6.95272542e-310],\n       [6.95272542e-310, 6.95272536e-310, 6.95272535e-310,\n        6.95272537e-310, 6.95272536e-310],\n       [6.95272536e-310, 6.95272536e-310, 6.95272542e-310,\n        6.95272536e-310, 9.37078660e-312],\n       [6.95272542e-310, 9.37078660e-312, 9.37078661e-312,\n        6.95272536e-310, 6.95272536e-310],\n       [6.95272537e-310, 6.95272535e-310, 6.95272542e-310,\n        9.37078661e-312, 6.95272536e-310],\n       [6.95272536e-310, 9.37078661e-312, 6.95272535e-310,\n        6.95272535e-310, 6.95272535e-310],\n       [6.95272536e-310, 6.95272537e-310, 6.95272535e-310,\n        6.95272535e-310, 6.95272535e-310]])"
     },
     "execution_count": 29,
     "metadata": {},
     "output_type": "execute_result"
    }
   ],
   "source": [
    "np.empty((10, 5))"
   ],
   "metadata": {
    "collapsed": false,
    "ExecuteTime": {
     "end_time": "2023-09-08T08:27:57.123307600Z",
     "start_time": "2023-09-08T08:27:57.114446Z"
    }
   },
   "id": "4ccf91b55e8726e6"
  },
  {
   "cell_type": "code",
   "execution_count": 30,
   "outputs": [
    {
     "data": {
      "text/plain": "(5, 20)"
     },
     "execution_count": 30,
     "metadata": {},
     "output_type": "execute_result"
    }
   ],
   "source": [
    "test_mat = np.arange(100).reshape(5, -1)\n",
    "test_mat.shape"
   ],
   "metadata": {
    "collapsed": false,
    "ExecuteTime": {
     "end_time": "2023-09-08T08:28:39.174334300Z",
     "start_time": "2023-09-08T08:28:39.164583400Z"
    }
   },
   "id": "19ceca9c2227d457"
  },
  {
   "cell_type": "code",
   "execution_count": 31,
   "outputs": [
    {
     "data": {
      "text/plain": "array([[0, 0, 0, 0, 0, 0, 0, 0, 0, 0, 0, 0, 0, 0, 0, 0, 0, 0, 0, 0],\n       [0, 0, 0, 0, 0, 0, 0, 0, 0, 0, 0, 0, 0, 0, 0, 0, 0, 0, 0, 0],\n       [0, 0, 0, 0, 0, 0, 0, 0, 0, 0, 0, 0, 0, 0, 0, 0, 0, 0, 0, 0],\n       [0, 0, 0, 0, 0, 0, 0, 0, 0, 0, 0, 0, 0, 0, 0, 0, 0, 0, 0, 0],\n       [0, 0, 0, 0, 0, 0, 0, 0, 0, 0, 0, 0, 0, 0, 0, 0, 0, 0, 0, 0]],\n      dtype=int8)"
     },
     "execution_count": 31,
     "metadata": {},
     "output_type": "execute_result"
    }
   ],
   "source": [
    "np.zeros_like(test_mat, np.int8)"
   ],
   "metadata": {
    "collapsed": false,
    "ExecuteTime": {
     "end_time": "2023-09-08T08:29:51.483978800Z",
     "start_time": "2023-09-08T08:29:51.462863600Z"
    }
   },
   "id": "2e07e1fb02d3a78f"
  },
  {
   "cell_type": "markdown",
   "source": [
    "## eye, identity & digonal"
   ],
   "metadata": {
    "collapsed": false
   },
   "id": "5673337e0fd3607c"
  },
  {
   "cell_type": "code",
   "execution_count": 32,
   "outputs": [
    {
     "data": {
      "text/plain": "array([[1, 0, 0, 0, 0, 0, 0, 0, 0, 0],\n       [0, 1, 0, 0, 0, 0, 0, 0, 0, 0],\n       [0, 0, 1, 0, 0, 0, 0, 0, 0, 0],\n       [0, 0, 0, 1, 0, 0, 0, 0, 0, 0],\n       [0, 0, 0, 0, 1, 0, 0, 0, 0, 0],\n       [0, 0, 0, 0, 0, 1, 0, 0, 0, 0],\n       [0, 0, 0, 0, 0, 0, 1, 0, 0, 0],\n       [0, 0, 0, 0, 0, 0, 0, 1, 0, 0],\n       [0, 0, 0, 0, 0, 0, 0, 0, 1, 0],\n       [0, 0, 0, 0, 0, 0, 0, 0, 0, 1]], dtype=int8)"
     },
     "execution_count": 32,
     "metadata": {},
     "output_type": "execute_result"
    }
   ],
   "source": [
    "np.identity(10, np.int8)"
   ],
   "metadata": {
    "collapsed": false,
    "ExecuteTime": {
     "end_time": "2023-09-08T08:33:04.958503400Z",
     "start_time": "2023-09-08T08:33:04.948895800Z"
    }
   },
   "id": "90bf9268e900a3e2"
  },
  {
   "cell_type": "code",
   "execution_count": 35,
   "outputs": [
    {
     "data": {
      "text/plain": "array([[1, 0, 0, 0, 0],\n       [0, 1, 0, 0, 0],\n       [0, 0, 1, 0, 0]], dtype=int8)"
     },
     "execution_count": 35,
     "metadata": {},
     "output_type": "execute_result"
    }
   ],
   "source": [
    "np.eye(3, 5, dtype=np.int8)"
   ],
   "metadata": {
    "collapsed": false,
    "ExecuteTime": {
     "end_time": "2023-09-08T08:34:02.084738Z",
     "start_time": "2023-09-08T08:34:02.032119700Z"
    }
   },
   "id": "74922aa1e432a5ba"
  },
  {
   "cell_type": "code",
   "execution_count": 36,
   "outputs": [
    {
     "data": {
      "text/plain": "array([[1., 0., 0.],\n       [0., 1., 0.],\n       [0., 0., 1.]])"
     },
     "execution_count": 36,
     "metadata": {},
     "output_type": "execute_result"
    }
   ],
   "source": [
    "np.eye(3)"
   ],
   "metadata": {
    "collapsed": false,
    "ExecuteTime": {
     "end_time": "2023-09-08T08:34:13.233910500Z",
     "start_time": "2023-09-08T08:34:13.214673300Z"
    }
   },
   "id": "ea4252dca7744d37"
  },
  {
   "cell_type": "code",
   "execution_count": 37,
   "outputs": [
    {
     "data": {
      "text/plain": "array([[0., 0., 1., 0., 0.],\n       [0., 0., 0., 1., 0.],\n       [0., 0., 0., 0., 1.]])"
     },
     "execution_count": 37,
     "metadata": {},
     "output_type": "execute_result"
    }
   ],
   "source": [
    "np.eye(3, 5, k=2)  # k에 따라 시작 위치가 달라짐"
   ],
   "metadata": {
    "collapsed": false,
    "ExecuteTime": {
     "end_time": "2023-09-08T08:34:39.553525500Z",
     "start_time": "2023-09-08T08:34:39.534205600Z"
    }
   },
   "id": "def71f9c7c67d0b1"
  },
  {
   "cell_type": "code",
   "execution_count": 38,
   "outputs": [
    {
     "data": {
      "text/plain": "array([[ 0,  1,  2,  3],\n       [ 4,  5,  6,  7],\n       [ 8,  9, 10, 11]])"
     },
     "execution_count": 38,
     "metadata": {},
     "output_type": "execute_result"
    }
   ],
   "source": [
    "mat = np.arange(12).reshape(3, 4)\n",
    "mat"
   ],
   "metadata": {
    "collapsed": false,
    "ExecuteTime": {
     "end_time": "2023-09-08T08:35:35.214329400Z",
     "start_time": "2023-09-08T08:35:35.197680700Z"
    }
   },
   "id": "10314aca1f3df2a6"
  },
  {
   "cell_type": "code",
   "execution_count": 39,
   "outputs": [
    {
     "data": {
      "text/plain": "array([2, 7])"
     },
     "execution_count": 39,
     "metadata": {},
     "output_type": "execute_result"
    }
   ],
   "source": [
    "np.diag(mat, k=2)  # 여기도 마찬가지로 k를 시작위치로 함"
   ],
   "metadata": {
    "collapsed": false,
    "ExecuteTime": {
     "end_time": "2023-09-08T08:36:14.286976300Z",
     "start_time": "2023-09-08T08:36:14.274852900Z"
    }
   },
   "id": "947e98f8ed356082"
  },
  {
   "cell_type": "code",
   "execution_count": 40,
   "outputs": [
    {
     "data": {
      "text/plain": "array([4, 9])"
     },
     "execution_count": 40,
     "metadata": {},
     "output_type": "execute_result"
    }
   ],
   "source": [
    "np.diag(mat, k=-1)  # 여기도 마찬가지로 k를 시작위치로 함"
   ],
   "metadata": {
    "collapsed": false,
    "ExecuteTime": {
     "end_time": "2023-09-08T08:36:24.846538100Z",
     "start_time": "2023-09-08T08:36:24.834559400Z"
    }
   },
   "id": "3a2dd7fb86ef6eee"
  },
  {
   "cell_type": "code",
   "execution_count": 41,
   "outputs": [
    {
     "data": {
      "text/plain": "array([ 1,  6, 11])"
     },
     "execution_count": 41,
     "metadata": {},
     "output_type": "execute_result"
    }
   ],
   "source": [
    "np.diag(mat, k=1)  # 여기도 마찬가지로 k를 시작위치로 함"
   ],
   "metadata": {
    "collapsed": false,
    "ExecuteTime": {
     "end_time": "2023-09-08T08:36:31.816804300Z",
     "start_time": "2023-09-08T08:36:31.794780800Z"
    }
   },
   "id": "e6e6b54fdcda2a3c"
  },
  {
   "cell_type": "markdown",
   "source": [
    "## random sampling - numpy.random"
   ],
   "metadata": {
    "collapsed": false
   },
   "id": "bef5f6c691ed0186"
  },
  {
   "cell_type": "code",
   "execution_count": 42,
   "outputs": [
    {
     "data": {
      "text/plain": "array([[-0.51422094,  1.36851731, -1.10065686, -1.2032458 ,  0.96576961],\n       [ 0.16783137,  0.09111494, -0.28392347,  1.01269106, -0.02343072]])"
     },
     "execution_count": 42,
     "metadata": {},
     "output_type": "execute_result"
    }
   ],
   "source": [
    "np.random.normal(0,1,10).reshape(2,5)"
   ],
   "metadata": {
    "collapsed": false,
    "ExecuteTime": {
     "end_time": "2023-09-08T08:40:39.587823900Z",
     "start_time": "2023-09-08T08:40:39.568476400Z"
    }
   },
   "id": "5b024b81894c35a0"
  },
  {
   "cell_type": "code",
   "execution_count": 43,
   "outputs": [
    {
     "data": {
      "text/plain": "array([0.95660778, 0.290303  , 2.60680878, 3.91058729, 0.12247774,\n       4.2753567 , 3.72403775, 0.93024769, 0.68746146, 1.10072049,\n       5.97588257, 0.0689448 , 0.77142699, 2.69733819, 2.01183593,\n       5.21676115, 4.43899557, 2.8966017 , 1.00482723, 1.17868   ,\n       2.00759032, 4.14627892, 0.33953716, 0.0902799 , 0.74069582,\n       3.69017773, 2.89110218, 1.52587443, 0.55851768, 0.31031778,\n       0.60171438, 3.56951166, 0.24720191, 0.74087969, 2.14948757,\n       1.56179106, 1.18744025, 1.22310576, 1.51283303, 0.84141141,\n       2.86127336, 3.02444432, 0.7012541 , 5.27981935, 2.50170153,\n       0.42804473, 0.0494681 , 3.05796513, 1.35328128, 0.46254936,\n       3.07877228, 0.14477728, 0.65537977, 0.37200349, 4.4919611 ,\n       1.48252021, 1.41198001, 0.49282513, 3.1280631 , 7.19181737,\n       1.11097902, 3.78836098, 0.3405722 , 2.26027333, 3.57284647,\n       3.3454408 , 2.75700413, 3.61584078, 1.70401408, 1.025322  ,\n       0.47541957, 0.64694806, 2.51681642, 1.31354735, 0.14156887,\n       1.96798043, 0.96858642, 0.44544449, 1.60104505, 1.12708804,\n       0.94430122, 0.04998531, 0.10082891, 0.06163428, 0.57114623,\n       0.42408108, 7.19053553, 6.10404686, 3.52429438, 3.25646367,\n       0.42039169, 0.14580281, 0.63824767, 0.1468707 , 1.2370836 ,\n       0.12054855, 4.71666988, 3.69573294, 2.14202728, 0.31236767])"
     },
     "execution_count": 43,
     "metadata": {},
     "output_type": "execute_result"
    }
   ],
   "source": [
    "np.random.exponential(scale=2, size=100)"
   ],
   "metadata": {
    "collapsed": false,
    "ExecuteTime": {
     "end_time": "2023-09-08T08:41:26.871096800Z",
     "start_time": "2023-09-08T08:41:26.858754100Z"
    }
   },
   "id": "40d3120173186ecb"
  },
  {
   "cell_type": "code",
   "execution_count": null,
   "outputs": [],
   "source": [],
   "metadata": {
    "collapsed": false
   },
   "id": "186de00cbe731ae2"
  }
 ],
 "metadata": {
  "kernelspec": {
   "display_name": "Python 3",
   "language": "python",
   "name": "python3"
  },
  "language_info": {
   "codemirror_mode": {
    "name": "ipython",
    "version": 2
   },
   "file_extension": ".py",
   "mimetype": "text/x-python",
   "name": "python",
   "nbconvert_exporter": "python",
   "pygments_lexer": "ipython2",
   "version": "2.7.6"
  }
 },
 "nbformat": 4,
 "nbformat_minor": 5
}
