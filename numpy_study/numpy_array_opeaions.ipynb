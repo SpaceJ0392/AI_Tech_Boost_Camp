{
 "cells": [
  {
   "cell_type": "markdown",
   "source": [
    "### Array operations\n",
    "- dot product"
   ],
   "metadata": {
    "collapsed": false
   },
   "id": "6869033c1f3dc6ed"
  },
  {
   "cell_type": "code",
   "execution_count": 1,
   "outputs": [],
   "source": [
    "import numpy as np"
   ],
   "metadata": {
    "collapsed": false,
    "ExecuteTime": {
     "end_time": "2023-09-13T07:22:20.174688200Z",
     "start_time": "2023-09-13T07:22:20.077641300Z"
    }
   },
   "id": "d3602816097cba8d"
  },
  {
   "cell_type": "code",
   "execution_count": 2,
   "outputs": [
    {
     "data": {
      "text/plain": "array([[ 58,  64],\n       [139, 154]])"
     },
     "execution_count": 2,
     "metadata": {},
     "output_type": "execute_result"
    }
   ],
   "source": [
    "# dot product\n",
    "a = np.arange(1, 7).reshape(2, 3)\n",
    "b = np.arange(7, 13).reshape(3, 2)\n",
    "\n",
    "a.dot(b)"
   ],
   "metadata": {
    "collapsed": false,
    "ExecuteTime": {
     "end_time": "2023-09-13T07:22:20.187136400Z",
     "start_time": "2023-09-13T07:22:20.174688200Z"
    }
   },
   "id": "b9fe24eb59f63fb2"
  },
  {
   "cell_type": "markdown",
   "source": [
    "- transpose"
   ],
   "metadata": {
    "collapsed": false
   },
   "id": "5013889830cb253b"
  },
  {
   "cell_type": "code",
   "execution_count": 3,
   "outputs": [
    {
     "name": "stdout",
     "output_type": "stream",
     "text": [
      "[[1 4]\n",
      " [2 5]\n",
      " [3 6]]\n"
     ]
    },
    {
     "data": {
      "text/plain": "array([[1, 4],\n       [2, 5],\n       [3, 6]])"
     },
     "execution_count": 3,
     "metadata": {},
     "output_type": "execute_result"
    }
   ],
   "source": [
    "# transpose\n",
    "\n",
    "print(a.transpose())\n",
    "a.T"
   ],
   "metadata": {
    "collapsed": false,
    "ExecuteTime": {
     "end_time": "2023-09-13T07:22:20.193607800Z",
     "start_time": "2023-09-13T07:22:20.187136400Z"
    }
   },
   "id": "61eb6787148d0ecf"
  },
  {
   "cell_type": "markdown",
   "source": [
    "### numpy performence"
   ],
   "metadata": {
    "collapsed": false
   },
   "id": "b28d84315b8a8b1e"
  },
  {
   "cell_type": "code",
   "execution_count": 4,
   "outputs": [
    {
     "name": "stdout",
     "output_type": "stream",
     "text": [
      "6.67 s ± 58.5 ms per loop (mean ± std. dev. of 7 runs, 1 loop each)\n"
     ]
    },
    {
     "ename": "KeyboardInterrupt",
     "evalue": "",
     "output_type": "error",
     "traceback": [
      "\u001B[1;31m---------------------------------------------------------------------------\u001B[0m",
      "\u001B[1;31mKeyboardInterrupt\u001B[0m                         Traceback (most recent call last)",
      "Cell \u001B[1;32mIn[4], line 15\u001B[0m\n\u001B[0;32m     13\u001B[0m \u001B[38;5;66;03m# %timeit 을 통해 jupyter 환경에서 코드의 퍼포먼스를 확인할 수 있다.\u001B[39;00m\n\u001B[0;32m     14\u001B[0m get_ipython()\u001B[38;5;241m.\u001B[39mrun_line_magic(\u001B[38;5;124m'\u001B[39m\u001B[38;5;124mtimeit\u001B[39m\u001B[38;5;124m'\u001B[39m, \u001B[38;5;124m'\u001B[39m\u001B[38;5;124msclar_vector_product(scalar, vector)  # for loop을 이용한 성능\u001B[39m\u001B[38;5;124m'\u001B[39m)\n\u001B[1;32m---> 15\u001B[0m get_ipython()\u001B[38;5;241m.\u001B[39mrun_line_magic(\u001B[38;5;124m'\u001B[39m\u001B[38;5;124mtimeit\u001B[39m\u001B[38;5;124m'\u001B[39m, \u001B[38;5;124m'\u001B[39m\u001B[38;5;124m[scalar * value for value in range(iternation_max)]  # list comprehension을 이용한 성능\u001B[39m\u001B[38;5;124m'\u001B[39m)\n\u001B[0;32m     16\u001B[0m get_ipython()\u001B[38;5;241m.\u001B[39mrun_line_magic(\u001B[38;5;124m'\u001B[39m\u001B[38;5;124mtimeit\u001B[39m\u001B[38;5;124m'\u001B[39m, \u001B[38;5;124m'\u001B[39m\u001B[38;5;124mnp.arange(iternation_max) * scalar  # numpy를 이용한 성능\u001B[39m\u001B[38;5;124m'\u001B[39m)\n",
      "File \u001B[1;32mC:\\miniconda3\\Lib\\site-packages\\IPython\\core\\interactiveshell.py:2432\u001B[0m, in \u001B[0;36mInteractiveShell.run_line_magic\u001B[1;34m(self, magic_name, line, _stack_depth)\u001B[0m\n\u001B[0;32m   2430\u001B[0m     kwargs[\u001B[38;5;124m'\u001B[39m\u001B[38;5;124mlocal_ns\u001B[39m\u001B[38;5;124m'\u001B[39m] \u001B[38;5;241m=\u001B[39m \u001B[38;5;28mself\u001B[39m\u001B[38;5;241m.\u001B[39mget_local_scope(stack_depth)\n\u001B[0;32m   2431\u001B[0m \u001B[38;5;28;01mwith\u001B[39;00m \u001B[38;5;28mself\u001B[39m\u001B[38;5;241m.\u001B[39mbuiltin_trap:\n\u001B[1;32m-> 2432\u001B[0m     result \u001B[38;5;241m=\u001B[39m fn(\u001B[38;5;241m*\u001B[39margs, \u001B[38;5;241m*\u001B[39m\u001B[38;5;241m*\u001B[39mkwargs)\n\u001B[0;32m   2434\u001B[0m \u001B[38;5;66;03m# The code below prevents the output from being displayed\u001B[39;00m\n\u001B[0;32m   2435\u001B[0m \u001B[38;5;66;03m# when using magics with decorator @output_can_be_silenced\u001B[39;00m\n\u001B[0;32m   2436\u001B[0m \u001B[38;5;66;03m# when the last Python token in the expression is a ';'.\u001B[39;00m\n\u001B[0;32m   2437\u001B[0m \u001B[38;5;28;01mif\u001B[39;00m \u001B[38;5;28mgetattr\u001B[39m(fn, magic\u001B[38;5;241m.\u001B[39mMAGIC_OUTPUT_CAN_BE_SILENCED, \u001B[38;5;28;01mFalse\u001B[39;00m):\n",
      "File \u001B[1;32mC:\\miniconda3\\Lib\\site-packages\\IPython\\core\\magics\\execution.py:1189\u001B[0m, in \u001B[0;36mExecutionMagics.timeit\u001B[1;34m(self, line, cell, local_ns)\u001B[0m\n\u001B[0;32m   1186\u001B[0m         \u001B[38;5;28;01mif\u001B[39;00m time_number \u001B[38;5;241m>\u001B[39m\u001B[38;5;241m=\u001B[39m \u001B[38;5;241m0.2\u001B[39m:\n\u001B[0;32m   1187\u001B[0m             \u001B[38;5;28;01mbreak\u001B[39;00m\n\u001B[1;32m-> 1189\u001B[0m all_runs \u001B[38;5;241m=\u001B[39m timer\u001B[38;5;241m.\u001B[39mrepeat(repeat, number)\n\u001B[0;32m   1190\u001B[0m best \u001B[38;5;241m=\u001B[39m \u001B[38;5;28mmin\u001B[39m(all_runs) \u001B[38;5;241m/\u001B[39m number\n\u001B[0;32m   1191\u001B[0m worst \u001B[38;5;241m=\u001B[39m \u001B[38;5;28mmax\u001B[39m(all_runs) \u001B[38;5;241m/\u001B[39m number\n",
      "File \u001B[1;32mC:\\miniconda3\\Lib\\timeit.py:206\u001B[0m, in \u001B[0;36mTimer.repeat\u001B[1;34m(self, repeat, number)\u001B[0m\n\u001B[0;32m    204\u001B[0m r \u001B[38;5;241m=\u001B[39m []\n\u001B[0;32m    205\u001B[0m \u001B[38;5;28;01mfor\u001B[39;00m i \u001B[38;5;129;01min\u001B[39;00m \u001B[38;5;28mrange\u001B[39m(repeat):\n\u001B[1;32m--> 206\u001B[0m     t \u001B[38;5;241m=\u001B[39m \u001B[38;5;28mself\u001B[39m\u001B[38;5;241m.\u001B[39mtimeit(number)\n\u001B[0;32m    207\u001B[0m     r\u001B[38;5;241m.\u001B[39mappend(t)\n\u001B[0;32m    208\u001B[0m \u001B[38;5;28;01mreturn\u001B[39;00m r\n",
      "File \u001B[1;32mC:\\miniconda3\\Lib\\site-packages\\IPython\\core\\magics\\execution.py:173\u001B[0m, in \u001B[0;36mTimer.timeit\u001B[1;34m(self, number)\u001B[0m\n\u001B[0;32m    171\u001B[0m gc\u001B[38;5;241m.\u001B[39mdisable()\n\u001B[0;32m    172\u001B[0m \u001B[38;5;28;01mtry\u001B[39;00m:\n\u001B[1;32m--> 173\u001B[0m     timing \u001B[38;5;241m=\u001B[39m \u001B[38;5;28mself\u001B[39m\u001B[38;5;241m.\u001B[39minner(it, \u001B[38;5;28mself\u001B[39m\u001B[38;5;241m.\u001B[39mtimer)\n\u001B[0;32m    174\u001B[0m \u001B[38;5;28;01mfinally\u001B[39;00m:\n\u001B[0;32m    175\u001B[0m     \u001B[38;5;28;01mif\u001B[39;00m gcold:\n",
      "File \u001B[1;32m<magic-timeit>:1\u001B[0m, in \u001B[0;36minner\u001B[1;34m(_it, _timer)\u001B[0m\n",
      "File \u001B[1;32m<magic-timeit>:1\u001B[0m, in \u001B[0;36m<listcomp>\u001B[1;34m(.0)\u001B[0m\n",
      "\u001B[1;31mKeyboardInterrupt\u001B[0m: "
     ]
    }
   ],
   "source": [
    "def sclar_vector_product(scalar, vector):\n",
    "    result = []\n",
    "    for value in vector:\n",
    "        result.append(scalar * value)\n",
    "    return result\n",
    "\n",
    "\n",
    "iternation_max = 100000000\n",
    "vector = list(range(iternation_max))\n",
    "scalar = 2\n",
    "\n",
    "\n",
    "# %timeit 을 통해 jupyter 환경에서 코드의 퍼포먼스를 확인할 수 있다.\n",
    "%timeit sclar_vector_product(scalar, vector)  # for loop을 이용한 성능\n",
    "%timeit [scalar * value for value in range(iternation_max)]  # list comprehension을 이용한 성능\n",
    "%timeit np.arange(iternation_max) * scalar  # numpy를 이용한 성능"
   ],
   "metadata": {
    "collapsed": false,
    "ExecuteTime": {
     "end_time": "2023-09-13T07:24:06.274811600Z",
     "start_time": "2023-09-13T07:22:20.193607800Z"
    }
   },
   "id": "a9d76cef572be40c"
  },
  {
   "cell_type": "markdown",
   "source": [
    "성능을 보았을 때 `numpy array` 가 가장 빠르다. (기본적으로 `list`는 -5 ~ 255까지는 정적으로 보관해서, 접근하려면, 2번에 걸쳐서 접근해야하므로 느림)\n",
    "`numpy array`는 그냥 리스트를 일렬로 저장하는 구조이므로 접근이 빠름.\n",
    "\n",
    "또한 `numpy` 는 `C`로 구현되어 있어 성능을 확보하는 대신, 파이썬의 가장 큰 특징인 dynamic typing을 포기함 (즉, `numpy array`는 하나의 데이터 타입만 대입 가능)\n",
    "추가적으로 할당에 대해서는 속도 차이는 거의 없음."
   ],
   "metadata": {
    "collapsed": false
   },
   "id": "62e5bdc543f1fef7"
  }
 ],
 "metadata": {
  "kernelspec": {
   "display_name": "Python 3",
   "language": "python",
   "name": "python3"
  },
  "language_info": {
   "codemirror_mode": {
    "name": "ipython",
    "version": 2
   },
   "file_extension": ".py",
   "mimetype": "text/x-python",
   "name": "python",
   "nbconvert_exporter": "python",
   "pygments_lexer": "ipython2",
   "version": "2.7.6"
  }
 },
 "nbformat": 4,
 "nbformat_minor": 5
}
