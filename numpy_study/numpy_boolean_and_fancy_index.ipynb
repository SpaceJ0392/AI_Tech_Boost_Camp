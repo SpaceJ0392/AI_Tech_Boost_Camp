{
 "cells": [
  {
   "cell_type": "markdown",
   "source": [
    "# Numpy - boolean & fancy index"
   ],
   "metadata": {
    "collapsed": false
   },
   "id": "6dff64ddb0d7789a"
  },
  {
   "cell_type": "code",
   "execution_count": 1,
   "outputs": [],
   "source": [
    "import numpy as np"
   ],
   "metadata": {
    "collapsed": false,
    "ExecuteTime": {
     "end_time": "2023-09-13T08:03:37.940049600Z",
     "start_time": "2023-09-13T08:03:37.773484800Z"
    }
   },
   "id": "30305892a629e977"
  },
  {
   "cell_type": "markdown",
   "source": [
    "### boolean index"
   ],
   "metadata": {
    "collapsed": false
   },
   "id": "1d326ed4ae21a70f"
  },
  {
   "cell_type": "code",
   "execution_count": 2,
   "outputs": [
    {
     "data": {
      "text/plain": "array([9., 8., 7.])"
     },
     "execution_count": 2,
     "metadata": {},
     "output_type": "execute_result"
    }
   ],
   "source": [
    "arr = np.array([1,4,0,2,3,9,8,7], dtype=float)\n",
    "arr[arr > 5] # boolean index에 따라 조건에 맞는 요소들로만 array 구성"
   ],
   "metadata": {
    "collapsed": false,
    "ExecuteTime": {
     "end_time": "2023-09-13T08:04:31.982834700Z",
     "start_time": "2023-09-13T08:04:31.951531400Z"
    }
   },
   "id": "a05fcf9b1f773a54"
  },
  {
   "cell_type": "markdown",
   "source": [
    "**boolean index**를 수행하려면, `arr`과 `boolean index`의 **크기(shape)** 가 당연히 동일해야 함. \n",
    "(아니면 모든 요소 탐색 불가)"
   ],
   "metadata": {
    "collapsed": false
   },
   "id": "2459a362b5a45789"
  },
  {
   "cell_type": "markdown",
   "source": [
    "### fancy index"
   ],
   "metadata": {
    "collapsed": false
   },
   "id": "63fc105e8b436e00"
  },
  {
   "cell_type": "code",
   "execution_count": 5,
   "outputs": [],
   "source": [
    "a = np.array([2,4,6,8])\n",
    "cond = np.array([1,1,1,2,1,3,0])"
   ],
   "metadata": {
    "collapsed": false,
    "ExecuteTime": {
     "end_time": "2023-09-13T08:14:03.834403400Z",
     "start_time": "2023-09-13T08:14:03.829383200Z"
    }
   },
   "id": "908624a540fe3b03"
  },
  {
   "cell_type": "code",
   "execution_count": 6,
   "outputs": [
    {
     "data": {
      "text/plain": "array([4, 4, 4, 6, 4, 8, 2])"
     },
     "execution_count": 6,
     "metadata": {},
     "output_type": "execute_result"
    }
   ],
   "source": [
    "a.take(cond) # takc 함수 : bracket index와 같은 효과"
   ],
   "metadata": {
    "collapsed": false,
    "ExecuteTime": {
     "end_time": "2023-09-13T08:14:04.230793700Z",
     "start_time": "2023-09-13T08:14:04.223088600Z"
    }
   },
   "id": "c3379d2afafec043"
  },
  {
   "cell_type": "code",
   "execution_count": 7,
   "outputs": [
    {
     "data": {
      "text/plain": "array([4, 4, 4, 6, 4, 8, 2])"
     },
     "execution_count": 7,
     "metadata": {},
     "output_type": "execute_result"
    }
   ],
   "source": [
    "a[cond]"
   ],
   "metadata": {
    "collapsed": false,
    "ExecuteTime": {
     "end_time": "2023-09-13T08:15:47.960911Z",
     "start_time": "2023-09-13T08:15:47.945100400Z"
    }
   },
   "id": "5b0af06107dfc5dd"
  },
  {
   "cell_type": "code",
   "execution_count": 8,
   "outputs": [
    {
     "data": {
      "text/plain": "array([ 1,  4, 16, 16,  4])"
     },
     "execution_count": 8,
     "metadata": {},
     "output_type": "execute_result"
    }
   ],
   "source": [
    "a = np.array([[1,4],[6,16]])\n",
    "b= np.array([0,0,1,1,0])\n",
    "c= np.array([0,1,1,1,1])\n",
    "\n",
    "a[b, c] # matrix 형태의 fancy indexing"
   ],
   "metadata": {
    "collapsed": false,
    "ExecuteTime": {
     "end_time": "2023-09-13T08:17:05.632588600Z",
     "start_time": "2023-09-13T08:17:05.632066700Z"
    }
   },
   "id": "243cd4a17ed54454"
  },
  {
   "cell_type": "code",
   "execution_count": 9,
   "outputs": [
    {
     "data": {
      "text/plain": "array([[ 1,  4],\n       [ 1,  4],\n       [ 6, 16],\n       [ 6, 16],\n       [ 1,  4]])"
     },
     "execution_count": 9,
     "metadata": {},
     "output_type": "execute_result"
    }
   ],
   "source": [
    "a[b] #2차원 어레이의 row index의 형태로 return"
   ],
   "metadata": {
    "collapsed": false,
    "ExecuteTime": {
     "end_time": "2023-09-13T08:17:53.904378600Z",
     "start_time": "2023-09-13T08:17:53.873011600Z"
    }
   },
   "id": "739749d2efd7878d"
  }
 ],
 "metadata": {
  "kernelspec": {
   "display_name": "Python 3",
   "language": "python",
   "name": "python3"
  },
  "language_info": {
   "codemirror_mode": {
    "name": "ipython",
    "version": 2
   },
   "file_extension": ".py",
   "mimetype": "text/x-python",
   "name": "python",
   "nbconvert_exporter": "python",
   "pygments_lexer": "ipython2",
   "version": "2.7.6"
  }
 },
 "nbformat": 4,
 "nbformat_minor": 5
}
