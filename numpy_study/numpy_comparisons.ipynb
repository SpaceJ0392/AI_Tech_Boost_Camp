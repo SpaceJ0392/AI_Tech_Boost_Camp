{
 "cells": [
  {
   "cell_type": "markdown",
   "source": [
    "## Numpy comparsions"
   ],
   "metadata": {
    "collapsed": false
   },
   "id": "6ed121abf63edb22"
  },
  {
   "cell_type": "code",
   "execution_count": 14,
   "outputs": [],
   "source": [
    "import numpy as np"
   ],
   "metadata": {
    "collapsed": false,
    "ExecuteTime": {
     "end_time": "2023-09-13T07:31:11.260205600Z",
     "start_time": "2023-09-13T07:31:11.257687800Z"
    }
   },
   "id": "efde7517c23a7c32"
  },
  {
   "cell_type": "code",
   "execution_count": 15,
   "outputs": [
    {
     "data": {
      "text/plain": "array([1, 2, 3, 4, 5, 6, 7, 8, 9])"
     },
     "execution_count": 15,
     "metadata": {},
     "output_type": "execute_result"
    }
   ],
   "source": [
    "a = np.arange(1, 10)\n",
    "a"
   ],
   "metadata": {
    "collapsed": false,
    "ExecuteTime": {
     "end_time": "2023-09-13T07:31:11.579756600Z",
     "start_time": "2023-09-13T07:31:11.579756600Z"
    }
   },
   "id": "f2ed02de774ae4a6"
  },
  {
   "cell_type": "markdown",
   "source": [
    "부등호도 broadcasting 되어서 각각의 요소마다 비교되어 값이 출력된다고 보면 된다. (결과는 `boolean array` 가 나온다고 한다.)"
   ],
   "metadata": {
    "collapsed": false
   },
   "id": "f542064fb700aa7b"
  },
  {
   "cell_type": "code",
   "execution_count": 16,
   "outputs": [
    {
     "data": {
      "text/plain": "array([ True,  True,  True, False, False, False, False, False, False])"
     },
     "execution_count": 16,
     "metadata": {},
     "output_type": "execute_result"
    }
   ],
   "source": [
    "a < 4"
   ],
   "metadata": {
    "collapsed": false,
    "ExecuteTime": {
     "end_time": "2023-09-13T07:31:12.798957400Z",
     "start_time": "2023-09-13T07:31:12.792613500Z"
    }
   },
   "id": "90e558c601c2d38b"
  },
  {
   "cell_type": "code",
   "execution_count": 17,
   "outputs": [
    {
     "data": {
      "text/plain": "array([False, False, False, False, False, False, False, False, False])"
     },
     "execution_count": 17,
     "metadata": {},
     "output_type": "execute_result"
    }
   ],
   "source": [
    "a < 1"
   ],
   "metadata": {
    "collapsed": false,
    "ExecuteTime": {
     "end_time": "2023-09-13T07:31:13.266476100Z",
     "start_time": "2023-09-13T07:31:13.258436800Z"
    }
   },
   "id": "5ae8572e19f93f1d"
  },
  {
   "cell_type": "markdown",
   "source": [
    "### all & any"
   ],
   "metadata": {
    "collapsed": false
   },
   "id": "c9173836c6548510"
  },
  {
   "cell_type": "markdown",
   "source": [
    "`all` 은 `and` 연산자의 역할로 모든 `array` 상의 데이터가 `True` 일 때만 `True`\n",
    "`any` 은 `or` 연산자의 역할로 어느 한 데이터의 `array` 상의 데이터만 이라도 `True` 이면 `True`"
   ],
   "metadata": {
    "collapsed": false
   },
   "id": "cf30f8117d771df5"
  },
  {
   "cell_type": "code",
   "execution_count": 18,
   "outputs": [
    {
     "data": {
      "text/plain": "True"
     },
     "execution_count": 18,
     "metadata": {},
     "output_type": "execute_result"
    }
   ],
   "source": [
    "np.any(a)"
   ],
   "metadata": {
    "collapsed": false,
    "ExecuteTime": {
     "end_time": "2023-09-13T07:31:15.176612300Z",
     "start_time": "2023-09-13T07:31:15.161735100Z"
    }
   },
   "id": "3c1d3d000b24aff5"
  },
  {
   "cell_type": "code",
   "execution_count": 19,
   "outputs": [
    {
     "data": {
      "text/plain": "True"
     },
     "execution_count": 19,
     "metadata": {},
     "output_type": "execute_result"
    }
   ],
   "source": [
    "np.all(a)  # 그냥 쓰면 0이 아닌 값이 없으면 True"
   ],
   "metadata": {
    "collapsed": false,
    "ExecuteTime": {
     "end_time": "2023-09-13T07:31:15.868714200Z",
     "start_time": "2023-09-13T07:31:15.860156800Z"
    }
   },
   "id": "14f599a3407c3175"
  },
  {
   "cell_type": "code",
   "execution_count": 20,
   "outputs": [
    {
     "data": {
      "text/plain": "True"
     },
     "execution_count": 20,
     "metadata": {},
     "output_type": "execute_result"
    }
   ],
   "source": [
    "np.any(a < 4)"
   ],
   "metadata": {
    "collapsed": false,
    "ExecuteTime": {
     "end_time": "2023-09-13T07:31:23.503235200Z",
     "start_time": "2023-09-13T07:31:23.487581Z"
    }
   },
   "id": "eeeccba422823d73"
  },
  {
   "cell_type": "code",
   "execution_count": 21,
   "outputs": [
    {
     "data": {
      "text/plain": "False"
     },
     "execution_count": 21,
     "metadata": {},
     "output_type": "execute_result"
    }
   ],
   "source": [
    "np.all(a < 4)"
   ],
   "metadata": {
    "collapsed": false,
    "ExecuteTime": {
     "end_time": "2023-09-13T07:31:35.486989Z",
     "start_time": "2023-09-13T07:31:35.470884100Z"
    }
   },
   "id": "ae0ab4455428fb06"
  },
  {
   "cell_type": "markdown",
   "source": [
    "### comparison operation"
   ],
   "metadata": {
    "collapsed": false
   },
   "id": "dea70bb0f5cf166d"
  },
  {
   "cell_type": "code",
   "execution_count": 45,
   "outputs": [
    {
     "data": {
      "text/plain": "array([ True, False, False])"
     },
     "execution_count": 45,
     "metadata": {},
     "output_type": "execute_result"
    }
   ],
   "source": [
    "a = np.array([2, 3, 0])\n",
    "\n",
    "np.logical_and(a > 0, a < 3)  # a > 0 : [T,T,T], a < 3 : [T,F,T] --> logical_and : [T,F,T]   "
   ],
   "metadata": {
    "collapsed": false,
    "ExecuteTime": {
     "end_time": "2023-09-13T07:53:36.434070900Z",
     "start_time": "2023-09-13T07:53:36.430564300Z"
    }
   },
   "id": "c1e54a57eae6740f"
  },
  {
   "cell_type": "markdown",
   "source": [
    "### np.where"
   ],
   "metadata": {
    "collapsed": false
   },
   "id": "83dd525948e1dcf5"
  },
  {
   "cell_type": "code",
   "execution_count": 46,
   "outputs": [
    {
     "data": {
      "text/plain": "array([2, 3, 0])"
     },
     "execution_count": 46,
     "metadata": {},
     "output_type": "execute_result"
    }
   ],
   "source": [
    "a"
   ],
   "metadata": {
    "collapsed": false,
    "ExecuteTime": {
     "end_time": "2023-09-13T07:53:37.614920300Z",
     "start_time": "2023-09-13T07:53:37.608389700Z"
    }
   },
   "id": "ec215376d8c03e9e"
  },
  {
   "cell_type": "code",
   "execution_count": 47,
   "outputs": [
    {
     "data": {
      "text/plain": "array([1, 1, 0])"
     },
     "execution_count": 47,
     "metadata": {},
     "output_type": "execute_result"
    }
   ],
   "source": [
    "np.where(a > 1, 1, 0)  # np.where(condition, true, false)"
   ],
   "metadata": {
    "collapsed": false,
    "ExecuteTime": {
     "end_time": "2023-09-13T07:53:38.277432900Z",
     "start_time": "2023-09-13T07:53:38.270731800Z"
    }
   },
   "id": "eaa2c6819be47cd1"
  },
  {
   "cell_type": "code",
   "execution_count": 48,
   "outputs": [
    {
     "data": {
      "text/plain": "(array([0, 1], dtype=int64),)"
     },
     "execution_count": 48,
     "metadata": {},
     "output_type": "execute_result"
    }
   ],
   "source": [
    "np.where(a > 1)  # True index만 return --> 결과가 튜플"
   ],
   "metadata": {
    "collapsed": false,
    "ExecuteTime": {
     "end_time": "2023-09-13T07:53:39.653691Z",
     "start_time": "2023-09-13T07:53:39.637781200Z"
    }
   },
   "id": "47f262188323d4"
  },
  {
   "cell_type": "code",
   "execution_count": 49,
   "outputs": [
    {
     "data": {
      "text/plain": "array([0, 1], dtype=int64)"
     },
     "execution_count": 49,
     "metadata": {},
     "output_type": "execute_result"
    }
   ],
   "source": [
    "np.where(a > 1)[0]"
   ],
   "metadata": {
    "collapsed": false,
    "ExecuteTime": {
     "end_time": "2023-09-13T07:53:41.744932400Z",
     "start_time": "2023-09-13T07:53:41.713177800Z"
    }
   },
   "id": "7e45002c5cbf874"
  },
  {
   "cell_type": "code",
   "execution_count": 42,
   "outputs": [
    {
     "data": {
      "text/plain": "array([False,  True, False])"
     },
     "execution_count": 42,
     "metadata": {},
     "output_type": "execute_result"
    }
   ],
   "source": [
    "a = np.array([1, np.NaN, np.inf])  # np.NaN : not a number, np.inf : infinite (수렴 X)\n",
    "np.isnan(a)  # isnan : not a number인지 출력"
   ],
   "metadata": {
    "collapsed": false,
    "ExecuteTime": {
     "end_time": "2023-09-13T07:52:53.237186900Z",
     "start_time": "2023-09-13T07:52:53.221230Z"
    }
   },
   "id": "3f72a4726a65fb6a"
  },
  {
   "cell_type": "code",
   "execution_count": 43,
   "outputs": [
    {
     "data": {
      "text/plain": "array([ True, False, False])"
     },
     "execution_count": 43,
     "metadata": {},
     "output_type": "execute_result"
    }
   ],
   "source": [
    "np.isfinite(a)  # finite num에 대해서 true"
   ],
   "metadata": {
    "collapsed": false,
    "ExecuteTime": {
     "end_time": "2023-09-13T07:52:53.891600200Z",
     "start_time": "2023-09-13T07:52:53.885295Z"
    }
   },
   "id": "c55cafc861c9299d"
  },
  {
   "cell_type": "markdown",
   "source": [
    "### argmax & argmin"
   ],
   "metadata": {
    "collapsed": false
   },
   "id": "11381726ed67e232"
  },
  {
   "cell_type": "code",
   "execution_count": 50,
   "outputs": [
    {
     "data": {
      "text/plain": "array([ 1,  2,  4,  5,  8, 78, 23,  3])"
     },
     "execution_count": 50,
     "metadata": {},
     "output_type": "execute_result"
    }
   ],
   "source": [
    "a = np.array([1, 2, 4, 5, 8, 78, 23, 3])\n",
    "a"
   ],
   "metadata": {
    "collapsed": false,
    "ExecuteTime": {
     "end_time": "2023-09-13T07:56:30.228969200Z",
     "start_time": "2023-09-13T07:56:30.212980Z"
    }
   },
   "id": "2a4d7a6d7cd470e6"
  },
  {
   "cell_type": "code",
   "execution_count": 51,
   "outputs": [
    {
     "data": {
      "text/plain": "array([0, 1, 7, 2, 3, 4, 6, 5], dtype=int64)"
     },
     "execution_count": 51,
     "metadata": {},
     "output_type": "execute_result"
    }
   ],
   "source": [
    "a.argsort()  # array의 요소들을 sorting하여 그 인덱스를 순서대로 보임."
   ],
   "metadata": {
    "collapsed": false,
    "ExecuteTime": {
     "end_time": "2023-09-13T07:56:36.954023300Z",
     "start_time": "2023-09-13T07:56:36.948996400Z"
    }
   },
   "id": "bbc81aa062bce154"
  },
  {
   "cell_type": "code",
   "execution_count": 52,
   "outputs": [
    {
     "data": {
      "text/plain": "array([5, 6, 4, 3, 2, 7, 1, 0], dtype=int64)"
     },
     "execution_count": 52,
     "metadata": {},
     "output_type": "execute_result"
    }
   ],
   "source": [
    "a.argsort()[::-1]  # array의 요소들을 sorting하여 그 인덱스를 역순으로 보임."
   ],
   "metadata": {
    "collapsed": false,
    "ExecuteTime": {
     "end_time": "2023-09-13T07:57:36.190587700Z",
     "start_time": "2023-09-13T07:57:36.185127400Z"
    }
   },
   "id": "80903b72b249d372"
  },
  {
   "cell_type": "code",
   "execution_count": 53,
   "outputs": [
    {
     "data": {
      "text/plain": "5"
     },
     "execution_count": 53,
     "metadata": {},
     "output_type": "execute_result"
    }
   ],
   "source": [
    "np.argmax(a)  # 최대 값을 갖는 요소의 index를 보임"
   ],
   "metadata": {
    "collapsed": false,
    "ExecuteTime": {
     "end_time": "2023-09-13T07:58:14.675566Z",
     "start_time": "2023-09-13T07:58:14.659493300Z"
    }
   },
   "id": "6d19b8a6aacf5035"
  },
  {
   "cell_type": "code",
   "execution_count": 54,
   "outputs": [
    {
     "data": {
      "text/plain": "0"
     },
     "execution_count": 54,
     "metadata": {},
     "output_type": "execute_result"
    }
   ],
   "source": [
    "np.argmin(a) # 최소 값을 갖는 요소의 index를 보임"
   ],
   "metadata": {
    "collapsed": false,
    "ExecuteTime": {
     "end_time": "2023-09-13T07:58:38.924329600Z",
     "start_time": "2023-09-13T07:58:38.892558100Z"
    }
   },
   "id": "f5a80c3a53e1c8c9"
  },
  {
   "cell_type": "code",
   "execution_count": 55,
   "outputs": [
    {
     "data": {
      "text/plain": "array([[ 1,  2,  4,  7],\n       [ 9, 88,  7,  6],\n       [12, 34,  5,  7]])"
     },
     "execution_count": 55,
     "metadata": {},
     "output_type": "execute_result"
    }
   ],
   "source": [
    "a = np.array([[1,2,4,7], [9,88,7,6],[12,34,5,7]])\n",
    "a"
   ],
   "metadata": {
    "collapsed": false,
    "ExecuteTime": {
     "end_time": "2023-09-13T07:59:11.544288900Z",
     "start_time": "2023-09-13T07:59:11.528400700Z"
    }
   },
   "id": "2ef73c4467d5f6a8"
  },
  {
   "cell_type": "code",
   "execution_count": 56,
   "outputs": [
    {
     "data": {
      "text/plain": "(array([3, 1, 1], dtype=int64), array([0, 0, 0, 1], dtype=int64))"
     },
     "execution_count": 56,
     "metadata": {},
     "output_type": "execute_result"
    }
   ],
   "source": [
    "np.argmax(a, axis=1), np.argmin(a, axis=0)"
   ],
   "metadata": {
    "collapsed": false,
    "ExecuteTime": {
     "end_time": "2023-09-13T07:59:35.169180500Z",
     "start_time": "2023-09-13T07:59:35.137861100Z"
    }
   },
   "id": "ce1d1005da51b3ec"
  }
 ],
 "metadata": {
  "kernelspec": {
   "display_name": "Python 3",
   "language": "python",
   "name": "python3"
  },
  "language_info": {
   "codemirror_mode": {
    "name": "ipython",
    "version": 2
   },
   "file_extension": ".py",
   "mimetype": "text/x-python",
   "name": "python",
   "nbconvert_exporter": "python",
   "pygments_lexer": "ipython2",
   "version": "2.7.6"
  }
 },
 "nbformat": 4,
 "nbformat_minor": 5
}
