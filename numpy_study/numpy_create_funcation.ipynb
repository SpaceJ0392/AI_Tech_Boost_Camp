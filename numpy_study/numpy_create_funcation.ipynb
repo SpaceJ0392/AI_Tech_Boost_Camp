{
 "cells": [
  {
   "cell_type": "markdown",
   "source": [
    "# Numpy - create functions"
   ],
   "metadata": {
    "collapsed": false
   },
   "id": "de186f250bbc4dcd"
  },
  {
   "cell_type": "markdown",
   "source": [
    "## arange"
   ],
   "metadata": {
    "collapsed": false
   },
   "id": "24b55ec431b4469b"
  },
  {
   "cell_type": "code",
   "execution_count": 4,
   "outputs": [],
   "source": [
    "import numpy as np"
   ],
   "metadata": {
    "collapsed": false,
    "ExecuteTime": {
     "end_time": "2023-09-13T07:18:02.967825800Z",
     "start_time": "2023-09-13T07:18:02.898289200Z"
    }
   },
   "id": "310d6747fdb4e41d"
  },
  {
   "cell_type": "code",
   "execution_count": 5,
   "outputs": [
    {
     "data": {
      "text/plain": "[0, 3, 6, 9]"
     },
     "execution_count": 5,
     "metadata": {},
     "output_type": "execute_result"
    }
   ],
   "source": [
    "list(range(0, 10, 3))"
   ],
   "metadata": {
    "collapsed": false,
    "ExecuteTime": {
     "end_time": "2023-09-13T07:18:02.985767700Z",
     "start_time": "2023-09-13T07:18:02.898289200Z"
    }
   },
   "id": "a2db583b7d4dd62a"
  },
  {
   "cell_type": "code",
   "execution_count": 6,
   "outputs": [
    {
     "data": {
      "text/plain": "array([ 0,  1,  2,  3,  4,  5,  6,  7,  8,  9, 10, 11, 12, 13, 14, 15, 16,\n       17, 18, 19, 20, 21, 22, 23, 24, 25, 26, 27, 28, 29])"
     },
     "execution_count": 6,
     "metadata": {},
     "output_type": "execute_result"
    }
   ],
   "source": [
    "np.arange(30)"
   ],
   "metadata": {
    "collapsed": false,
    "ExecuteTime": {
     "end_time": "2023-09-13T07:18:03.010281500Z",
     "start_time": "2023-09-13T07:18:02.906002Z"
    }
   },
   "id": "b7247f127f0df3e4"
  },
  {
   "cell_type": "code",
   "execution_count": 7,
   "outputs": [
    {
     "data": {
      "text/plain": "array([0. , 0.5, 1. , 1.5, 2. , 2.5, 3. , 3.5, 4. , 4.5, 5. , 5.5, 6. ,\n       6.5, 7. , 7.5, 8. , 8.5, 9. , 9.5])"
     },
     "execution_count": 7,
     "metadata": {},
     "output_type": "execute_result"
    }
   ],
   "source": [
    "np.arange(0, 10, 0.5)  # float point로 step 변화 가능"
   ],
   "metadata": {
    "collapsed": false,
    "ExecuteTime": {
     "end_time": "2023-09-13T07:18:03.052774600Z",
     "start_time": "2023-09-13T07:18:02.912594600Z"
    }
   },
   "id": "36d9d5e69778180e"
  },
  {
   "cell_type": "code",
   "execution_count": 8,
   "outputs": [
    {
     "data": {
      "text/plain": "array([[ 0,  1,  2,  3,  4,  5],\n       [ 6,  7,  8,  9, 10, 11],\n       [12, 13, 14, 15, 16, 17],\n       [18, 19, 20, 21, 22, 23],\n       [24, 25, 26, 27, 28, 29]])"
     },
     "execution_count": 8,
     "metadata": {},
     "output_type": "execute_result"
    }
   ],
   "source": [
    "np.arange(30).reshape(5, 6)"
   ],
   "metadata": {
    "collapsed": false,
    "ExecuteTime": {
     "end_time": "2023-09-13T07:18:03.052774600Z",
     "start_time": "2023-09-13T07:18:02.919828700Z"
    }
   },
   "id": "12e50345c9e66b07"
  },
  {
   "cell_type": "markdown",
   "source": [
    "## ones, zeros & empty"
   ],
   "metadata": {
    "collapsed": false
   },
   "id": "b4b138674f13a822"
  },
  {
   "cell_type": "code",
   "execution_count": 9,
   "outputs": [
    {
     "data": {
      "text/plain": "array([0, 0, 0, 0, 0, 0, 0, 0, 0, 0], dtype=int8)"
     },
     "execution_count": 9,
     "metadata": {},
     "output_type": "execute_result"
    }
   ],
   "source": [
    "np.zeros(shape=10, dtype=np.int8)"
   ],
   "metadata": {
    "collapsed": false,
    "ExecuteTime": {
     "end_time": "2023-09-13T07:18:03.052774600Z",
     "start_time": "2023-09-13T07:18:02.933182400Z"
    }
   },
   "id": "11b43d7793cdb6e2"
  },
  {
   "cell_type": "code",
   "execution_count": 10,
   "outputs": [
    {
     "data": {
      "text/plain": "array([[0., 0., 0., 0., 0.],\n       [0., 0., 0., 0., 0.]])"
     },
     "execution_count": 10,
     "metadata": {},
     "output_type": "execute_result"
    }
   ],
   "source": [
    "np.zeros((2, 5))"
   ],
   "metadata": {
    "collapsed": false,
    "ExecuteTime": {
     "end_time": "2023-09-13T07:18:03.052774600Z",
     "start_time": "2023-09-13T07:18:02.935729100Z"
    }
   },
   "id": "cd259d949ff95149"
  },
  {
   "cell_type": "code",
   "execution_count": 11,
   "outputs": [
    {
     "data": {
      "text/plain": "array([1, 1, 1, 1, 1, 1, 1, 1, 1, 1], dtype=int8)"
     },
     "execution_count": 11,
     "metadata": {},
     "output_type": "execute_result"
    }
   ],
   "source": [
    "np.ones(10, dtype=np.int8)"
   ],
   "metadata": {
    "collapsed": false,
    "ExecuteTime": {
     "end_time": "2023-09-13T07:18:03.052774600Z",
     "start_time": "2023-09-13T07:18:02.945757Z"
    }
   },
   "id": "931338e764bf97dc"
  },
  {
   "cell_type": "code",
   "execution_count": 12,
   "outputs": [
    {
     "data": {
      "text/plain": "array([[1., 1., 1., 1., 1.],\n       [1., 1., 1., 1., 1.]])"
     },
     "execution_count": 12,
     "metadata": {},
     "output_type": "execute_result"
    }
   ],
   "source": [
    "np.ones((2, 5))"
   ],
   "metadata": {
    "collapsed": false,
    "ExecuteTime": {
     "end_time": "2023-09-13T07:18:03.052774600Z",
     "start_time": "2023-09-13T07:18:02.946283600Z"
    }
   },
   "id": "fbd9cdc920e0d941"
  },
  {
   "cell_type": "code",
   "execution_count": 13,
   "outputs": [
    {
     "data": {
      "text/plain": "array([1, 1, 1, 1, 1, 1, 1, 1, 1, 1], dtype=int8)"
     },
     "execution_count": 13,
     "metadata": {},
     "output_type": "execute_result"
    }
   ],
   "source": [
    "np.empty(10, np.int8)"
   ],
   "metadata": {
    "collapsed": false,
    "ExecuteTime": {
     "end_time": "2023-09-13T07:18:03.052774600Z",
     "start_time": "2023-09-13T07:18:02.952371200Z"
    }
   },
   "id": "a176a2c4a9eecdd7"
  },
  {
   "cell_type": "code",
   "execution_count": 14,
   "outputs": [
    {
     "data": {
      "text/plain": "array([[ 1.26659154e-311,  1.26659154e-311, -4.48068416e+027,\n         1.26659154e-311,  1.26659154e-311],\n       [-3.22742743e-102,  1.26659154e-311,  1.26659154e-311,\n        -1.67411935e-147,  1.26659157e-311],\n       [ 1.26659157e-311,  9.96366046e+092,  6.95271407e-310,\n         6.95271407e-310, -1.08492981e-191],\n       [ 1.26659154e-311,  1.26659154e-311, -1.98179865e-128,\n         1.26659154e-311,  1.26659154e-311],\n       [-2.13531619e+218,  1.26659154e-311,  1.26659154e-311,\n        -8.51830503e+285,  1.26659154e-311],\n       [ 1.26659154e-311,  3.54650022e-130,  1.26659167e-311,\n         1.26659167e-311, -1.70009937e+232],\n       [ 1.26659154e-311,  1.26659154e-311,  7.37072718e+160,\n         1.26659139e-311,  1.26659139e-311],\n       [ 8.97599387e+158,  1.26659151e-311,  1.26659151e-311,\n         2.33014720e-113,  1.26659151e-311],\n       [ 1.26659151e-311, -7.05461630e-293,  1.26659141e-311,\n         1.26659141e-311, -1.25613091e-009],\n       [ 1.26659150e-311,  1.26659150e-311,  6.15313276e-204,\n         1.26659154e-311,  1.26659154e-311]])"
     },
     "execution_count": 14,
     "metadata": {},
     "output_type": "execute_result"
    }
   ],
   "source": [
    "np.empty((10, 5))"
   ],
   "metadata": {
    "collapsed": false,
    "ExecuteTime": {
     "end_time": "2023-09-13T07:18:03.052774600Z",
     "start_time": "2023-09-13T07:18:02.958223200Z"
    }
   },
   "id": "bc128e2b4c48c18a"
  },
  {
   "cell_type": "code",
   "execution_count": 15,
   "outputs": [
    {
     "data": {
      "text/plain": "(5, 20)"
     },
     "execution_count": 15,
     "metadata": {},
     "output_type": "execute_result"
    }
   ],
   "source": [
    "test_mat = np.arange(100).reshape(5, -1)\n",
    "test_mat.shape"
   ],
   "metadata": {
    "collapsed": false,
    "ExecuteTime": {
     "end_time": "2023-09-13T07:18:03.052774600Z",
     "start_time": "2023-09-13T07:18:02.971024700Z"
    }
   },
   "id": "395911afd277a2a7"
  },
  {
   "cell_type": "code",
   "execution_count": 16,
   "outputs": [
    {
     "data": {
      "text/plain": "array([[0, 0, 0, 0, 0, 0, 0, 0, 0, 0, 0, 0, 0, 0, 0, 0, 0, 0, 0, 0],\n       [0, 0, 0, 0, 0, 0, 0, 0, 0, 0, 0, 0, 0, 0, 0, 0, 0, 0, 0, 0],\n       [0, 0, 0, 0, 0, 0, 0, 0, 0, 0, 0, 0, 0, 0, 0, 0, 0, 0, 0, 0],\n       [0, 0, 0, 0, 0, 0, 0, 0, 0, 0, 0, 0, 0, 0, 0, 0, 0, 0, 0, 0],\n       [0, 0, 0, 0, 0, 0, 0, 0, 0, 0, 0, 0, 0, 0, 0, 0, 0, 0, 0, 0]],\n      dtype=int8)"
     },
     "execution_count": 16,
     "metadata": {},
     "output_type": "execute_result"
    }
   ],
   "source": [
    "np.zeros_like(test_mat, np.int8)"
   ],
   "metadata": {
    "collapsed": false,
    "ExecuteTime": {
     "end_time": "2023-09-13T07:18:03.052774600Z",
     "start_time": "2023-09-13T07:18:02.971542500Z"
    }
   },
   "id": "7fe305c275739933"
  },
  {
   "cell_type": "markdown",
   "source": [
    "## eye, identity & digonal"
   ],
   "metadata": {
    "collapsed": false
   },
   "id": "20315958e1e021b2"
  },
  {
   "cell_type": "code",
   "execution_count": 17,
   "outputs": [
    {
     "data": {
      "text/plain": "array([[1, 0, 0, 0, 0, 0, 0, 0, 0, 0],\n       [0, 1, 0, 0, 0, 0, 0, 0, 0, 0],\n       [0, 0, 1, 0, 0, 0, 0, 0, 0, 0],\n       [0, 0, 0, 1, 0, 0, 0, 0, 0, 0],\n       [0, 0, 0, 0, 1, 0, 0, 0, 0, 0],\n       [0, 0, 0, 0, 0, 1, 0, 0, 0, 0],\n       [0, 0, 0, 0, 0, 0, 1, 0, 0, 0],\n       [0, 0, 0, 0, 0, 0, 0, 1, 0, 0],\n       [0, 0, 0, 0, 0, 0, 0, 0, 1, 0],\n       [0, 0, 0, 0, 0, 0, 0, 0, 0, 1]], dtype=int8)"
     },
     "execution_count": 17,
     "metadata": {},
     "output_type": "execute_result"
    }
   ],
   "source": [
    "np.identity(10, np.int8)"
   ],
   "metadata": {
    "collapsed": false,
    "ExecuteTime": {
     "end_time": "2023-09-13T07:18:03.052774600Z",
     "start_time": "2023-09-13T07:18:02.978228400Z"
    }
   },
   "id": "feafbe5e20b38b0f"
  },
  {
   "cell_type": "code",
   "execution_count": 18,
   "outputs": [
    {
     "data": {
      "text/plain": "array([[1, 0, 0, 0, 0],\n       [0, 1, 0, 0, 0],\n       [0, 0, 1, 0, 0]], dtype=int8)"
     },
     "execution_count": 18,
     "metadata": {},
     "output_type": "execute_result"
    }
   ],
   "source": [
    "np.eye(3, 5, dtype=np.int8)"
   ],
   "metadata": {
    "collapsed": false,
    "ExecuteTime": {
     "end_time": "2023-09-13T07:18:03.052774600Z",
     "start_time": "2023-09-13T07:18:02.985767700Z"
    }
   },
   "id": "20018e9291ea4d0b"
  },
  {
   "cell_type": "code",
   "execution_count": 19,
   "outputs": [
    {
     "data": {
      "text/plain": "array([[1., 0., 0.],\n       [0., 1., 0.],\n       [0., 0., 1.]])"
     },
     "execution_count": 19,
     "metadata": {},
     "output_type": "execute_result"
    }
   ],
   "source": [
    "np.eye(3)"
   ],
   "metadata": {
    "collapsed": false,
    "ExecuteTime": {
     "end_time": "2023-09-13T07:18:03.052774600Z",
     "start_time": "2023-09-13T07:18:02.991667300Z"
    }
   },
   "id": "56a1065c76fbb325"
  },
  {
   "cell_type": "code",
   "execution_count": 20,
   "outputs": [
    {
     "data": {
      "text/plain": "array([[0., 0., 1., 0., 0.],\n       [0., 0., 0., 1., 0.],\n       [0., 0., 0., 0., 1.]])"
     },
     "execution_count": 20,
     "metadata": {},
     "output_type": "execute_result"
    }
   ],
   "source": [
    "np.eye(3, 5, k=2)  # k에 따라 시작 위치가 달라짐"
   ],
   "metadata": {
    "collapsed": false,
    "ExecuteTime": {
     "end_time": "2023-09-13T07:18:03.068436200Z",
     "start_time": "2023-09-13T07:18:02.999740700Z"
    }
   },
   "id": "2165e5f0da7c0d62"
  },
  {
   "cell_type": "code",
   "execution_count": 21,
   "outputs": [
    {
     "data": {
      "text/plain": "array([[ 0,  1,  2,  3],\n       [ 4,  5,  6,  7],\n       [ 8,  9, 10, 11]])"
     },
     "execution_count": 21,
     "metadata": {},
     "output_type": "execute_result"
    }
   ],
   "source": [
    "mat = np.arange(12).reshape(3, 4)\n",
    "mat"
   ],
   "metadata": {
    "collapsed": false,
    "ExecuteTime": {
     "end_time": "2023-09-13T07:18:03.068436200Z",
     "start_time": "2023-09-13T07:18:03.004045500Z"
    }
   },
   "id": "657406f7490163b3"
  },
  {
   "cell_type": "code",
   "execution_count": 22,
   "outputs": [
    {
     "data": {
      "text/plain": "array([2, 7])"
     },
     "execution_count": 22,
     "metadata": {},
     "output_type": "execute_result"
    }
   ],
   "source": [
    "np.diag(mat, k=2)  # 여기도 마찬가지로 k를 시작위치로 함"
   ],
   "metadata": {
    "collapsed": false,
    "ExecuteTime": {
     "end_time": "2023-09-13T07:18:03.068436200Z",
     "start_time": "2023-09-13T07:18:03.010281500Z"
    }
   },
   "id": "f733615df4e7b920"
  },
  {
   "cell_type": "code",
   "execution_count": 23,
   "outputs": [
    {
     "data": {
      "text/plain": "array([4, 9])"
     },
     "execution_count": 23,
     "metadata": {},
     "output_type": "execute_result"
    }
   ],
   "source": [
    "np.diag(mat, k=-1)  # 여기도 마찬가지로 k를 시작위치로 함"
   ],
   "metadata": {
    "collapsed": false,
    "ExecuteTime": {
     "end_time": "2023-09-13T07:18:03.068436200Z",
     "start_time": "2023-09-13T07:18:03.020598600Z"
    }
   },
   "id": "6acda2a4973cde66"
  },
  {
   "cell_type": "code",
   "execution_count": 24,
   "outputs": [
    {
     "data": {
      "text/plain": "array([ 1,  6, 11])"
     },
     "execution_count": 24,
     "metadata": {},
     "output_type": "execute_result"
    }
   ],
   "source": [
    "np.diag(mat, k=1)  # 여기도 마찬가지로 k를 시작위치로 함"
   ],
   "metadata": {
    "collapsed": false,
    "ExecuteTime": {
     "end_time": "2023-09-13T07:18:03.068436200Z",
     "start_time": "2023-09-13T07:18:03.022827800Z"
    }
   },
   "id": "24eb43712a7e65bf"
  },
  {
   "cell_type": "markdown",
   "source": [
    "## random sampling - numpy.random"
   ],
   "metadata": {
    "collapsed": false
   },
   "id": "ff9cfcb9c97398f1"
  },
  {
   "cell_type": "code",
   "execution_count": 25,
   "outputs": [
    {
     "data": {
      "text/plain": "array([[ 1.66662369, -0.10407089, -0.96868576,  1.41938676,  1.26890281],\n       [ 1.43130287,  1.0322257 , -0.63250276,  0.05837004,  0.06369679]])"
     },
     "execution_count": 25,
     "metadata": {},
     "output_type": "execute_result"
    }
   ],
   "source": [
    "np.random.normal(0,1,10).reshape(2,5)"
   ],
   "metadata": {
    "collapsed": false,
    "ExecuteTime": {
     "end_time": "2023-09-13T07:18:03.068436200Z",
     "start_time": "2023-09-13T07:18:03.029004900Z"
    }
   },
   "id": "cb8966714aa60b8a"
  },
  {
   "cell_type": "code",
   "execution_count": 26,
   "outputs": [
    {
     "data": {
      "text/plain": "array([ 0.30223268,  0.88059294,  1.69118907,  0.80634743,  3.70579547,\n        3.32752553,  1.07795733,  0.97452195,  0.28657193,  0.75711314,\n        1.58936115,  3.41476534,  1.11593123,  0.0907624 ,  3.46948353,\n        0.07342475,  1.71155604,  0.68820009,  0.28827209,  1.94079998,\n        0.22070923,  0.06835269,  1.25449255,  0.24614436,  1.69281295,\n        2.04803619,  1.73000303,  1.07948613,  0.2580473 ,  0.01599463,\n        0.87973765,  0.61335294,  0.73350945,  0.74483273,  3.27589246,\n        0.2544808 ,  0.88361176,  5.02875955,  4.36074811,  0.44563763,\n        1.14836321,  1.57771446,  2.47362839,  0.18479927,  3.92708184,\n        0.88787093,  0.68766986,  0.43648796,  1.52190319,  0.15850586,\n        0.7060899 ,  0.01310421,  1.96819412,  0.58950656,  0.63233719,\n        4.3350927 ,  0.29531273,  1.66054907,  2.8177082 ,  2.12219558,\n        0.46946199,  0.28040274,  0.94302422,  4.01884045,  1.19403058,\n        0.62669131,  1.25039771,  1.76850212,  0.98100973,  1.38380574,\n        1.30242128,  0.05226977,  1.07217396,  0.05534073,  1.15160858,\n        1.85766216,  0.03098373,  0.26543215,  2.26667236,  2.79195879,\n        1.00436196,  2.83413824,  0.59621032,  0.92442554,  0.18789183,\n        2.79665455,  1.46587027,  1.4550277 ,  0.87348315,  1.83757647,\n        2.84277835,  0.17609356,  1.11374755,  0.62266452,  0.37859841,\n        2.09727367,  0.48954096, 10.12383285,  2.12735343,  3.30455664])"
     },
     "execution_count": 26,
     "metadata": {},
     "output_type": "execute_result"
    }
   ],
   "source": [
    "np.random.exponential(scale=2, size=100)"
   ],
   "metadata": {
    "collapsed": false,
    "ExecuteTime": {
     "end_time": "2023-09-13T07:18:03.068436200Z",
     "start_time": "2023-09-13T07:18:03.040846500Z"
    }
   },
   "id": "17bdf4e7f31b03d9"
  }
 ],
 "metadata": {
  "kernelspec": {
   "display_name": "Python 3",
   "language": "python",
   "name": "python3"
  },
  "language_info": {
   "codemirror_mode": {
    "name": "ipython",
    "version": 2
   },
   "file_extension": ".py",
   "mimetype": "text/x-python",
   "name": "python",
   "nbconvert_exporter": "python",
   "pygments_lexer": "ipython2",
   "version": "2.7.6"
  }
 },
 "nbformat": 4,
 "nbformat_minor": 5
}
