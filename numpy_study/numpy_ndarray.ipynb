{
 "cells": [
  {
   "cell_type": "markdown",
   "source": [
    "# Numpy"
   ],
   "metadata": {
    "collapsed": false
   },
   "id": "9f4b463701b8425"
  },
  {
   "cell_type": "code",
   "execution_count": 2,
   "id": "initial_id",
   "metadata": {
    "collapsed": true,
    "ExecuteTime": {
     "end_time": "2023-09-08T07:14:39.093984300Z",
     "start_time": "2023-09-08T07:14:38.980740300Z"
    }
   },
   "outputs": [],
   "source": [
    "import numpy as np"
   ]
  },
  {
   "cell_type": "code",
   "execution_count": 3,
   "outputs": [],
   "source": [
    "a = [1,2,3,4,5]\n",
    "b = [5,4,3,2,1]"
   ],
   "metadata": {
    "collapsed": false,
    "ExecuteTime": {
     "end_time": "2023-09-08T07:14:39.102504800Z",
     "start_time": "2023-09-08T07:14:39.094986200Z"
    }
   },
   "id": "79dfa53630a05200"
  },
  {
   "cell_type": "code",
   "execution_count": 4,
   "outputs": [
    {
     "data": {
      "text/plain": "array([1, 2, 3, 4, 5])"
     },
     "execution_count": 4,
     "metadata": {},
     "output_type": "execute_result"
    }
   ],
   "source": [
    "a =np.array(a, int)\n",
    "a"
   ],
   "metadata": {
    "collapsed": false,
    "ExecuteTime": {
     "end_time": "2023-09-08T07:14:39.111351800Z",
     "start_time": "2023-09-08T07:14:39.099504500Z"
    }
   },
   "id": "1a5b4f46492e2d8"
  },
  {
   "cell_type": "code",
   "execution_count": 5,
   "outputs": [
    {
     "data": {
      "text/plain": "array([1., 4., 5., 8.])"
     },
     "execution_count": 5,
     "metadata": {},
     "output_type": "execute_result"
    }
   ],
   "source": [
    "test_array = np.array([\"1\", \"4\", 5.0, 8], float) # 하나의 데이터 타입만 취급 (다른 타입도 자동 변환)\n",
    "test_array"
   ],
   "metadata": {
    "collapsed": false,
    "ExecuteTime": {
     "end_time": "2023-09-08T07:14:39.112359400Z",
     "start_time": "2023-09-08T07:14:39.107504200Z"
    }
   },
   "id": "78ade7238fc91523"
  },
  {
   "cell_type": "code",
   "execution_count": 6,
   "outputs": [
    {
     "data": {
      "text/plain": "numpy.float64"
     },
     "execution_count": 6,
     "metadata": {},
     "output_type": "execute_result"
    }
   ],
   "source": [
    "type(test_array[3])"
   ],
   "metadata": {
    "collapsed": false,
    "ExecuteTime": {
     "end_time": "2023-09-08T07:14:39.118628100Z",
     "start_time": "2023-09-08T07:14:39.114362100Z"
    }
   },
   "id": "511edbf10f69d3bf"
  },
  {
   "cell_type": "code",
   "execution_count": 8,
   "outputs": [
    {
     "data": {
      "text/plain": "False"
     },
     "execution_count": 8,
     "metadata": {},
     "output_type": "execute_result"
    }
   ],
   "source": [
    "a = [1,2,3,4,5]\n",
    "b = [5,4,3,2,1]\n",
    "a is b # is는 주소를 비교한다."
   ],
   "metadata": {
    "collapsed": false,
    "ExecuteTime": {
     "end_time": "2023-09-08T07:15:14.647061Z",
     "start_time": "2023-09-08T07:15:14.634171900Z"
    }
   },
   "id": "8b9f51b2599fbf5"
  },
  {
   "cell_type": "code",
   "execution_count": 9,
   "outputs": [
    {
     "data": {
      "text/plain": "True"
     },
     "execution_count": 9,
     "metadata": {},
     "output_type": "execute_result"
    }
   ],
   "source": [
    "a[0] is b[-1] # 리스트는 -5 ~ 256 사이의 값에 대해 같은 정적 메모리 주소를 가리킨다"
   ],
   "metadata": {
    "collapsed": false,
    "ExecuteTime": {
     "end_time": "2023-09-08T07:15:23.451091800Z",
     "start_time": "2023-09-08T07:15:23.442294800Z"
    }
   },
   "id": "1bb28a62435e3c68"
  },
  {
   "cell_type": "code",
   "execution_count": 10,
   "outputs": [
    {
     "data": {
      "text/plain": "False"
     },
     "execution_count": 10,
     "metadata": {},
     "output_type": "execute_result"
    }
   ],
   "source": [
    "a = np.array(a)\n",
    "b = np.array(b)\n",
    "a[0] is b[-1] \n",
    "# numpy ndarray는 정적 메모리를 사용하지 않기에 False 이다. (그냥 값을 진짜로 순차적으로 대입)"
   ],
   "metadata": {
    "collapsed": false,
    "ExecuteTime": {
     "end_time": "2023-09-08T07:16:46.219686600Z",
     "start_time": "2023-09-08T07:16:46.211993200Z"
    }
   },
   "id": "b93fd87ff004491"
  },
  {
   "cell_type": "code",
   "execution_count": 11,
   "outputs": [
    {
     "data": {
      "text/plain": "dtype('float64')"
     },
     "execution_count": 11,
     "metadata": {},
     "output_type": "execute_result"
    }
   ],
   "source": [
    "test_array.dtype # array의 전체 데이터 type를 반환\n",
    "# 여기서는 float64이므로 64bit = 8byte 의 공간을 하나의 숫자가 점유한다."
   ],
   "metadata": {
    "collapsed": false,
    "ExecuteTime": {
     "end_time": "2023-09-08T07:19:20.911151Z",
     "start_time": "2023-09-08T07:19:20.897081300Z"
    }
   },
   "id": "e150ef9b3f25d7c"
  },
  {
   "cell_type": "code",
   "execution_count": 14,
   "outputs": [
    {
     "data": {
      "text/plain": "(3, 3)"
     },
     "execution_count": 14,
     "metadata": {},
     "output_type": "execute_result"
    }
   ],
   "source": [
    "a = np.array([[1,2,3],[4,5,6],[4,5,6]], float) #2차원 어레이를 보통 matrix라고 한다.\n",
    "# 차후에 선형 대수를 배우면 rank라는 개념이 있는데, rank는 차원이 들어날 때 마다 하나씩 늘어난다.\n",
    "a.shape # 튜플로 반환"
   ],
   "metadata": {
    "collapsed": false,
    "ExecuteTime": {
     "end_time": "2023-09-08T07:22:39.590378800Z",
     "start_time": "2023-09-08T07:22:39.582767900Z"
    }
   },
   "id": "b03c2028a1614b63"
  },
  {
   "cell_type": "code",
   "execution_count": 19,
   "outputs": [
    {
     "data": {
      "text/plain": "(3, 3, 4)"
     },
     "execution_count": 19,
     "metadata": {},
     "output_type": "execute_result"
    }
   ],
   "source": [
    "tensor = [\n",
    "    [[1,2,5,6], [1,2,5,6], [1,2,5,6]],\n",
    "    [[1,2,5,6], [1,2,5,6], [1,2,5,6]],\n",
    "    [[1,2,5,6], [1,2,5,6], [1,2,5,6]]\n",
    "]\n",
    "new_tensor = (np.array(tensor))\n",
    "new_tensor.shape"
   ],
   "metadata": {
    "collapsed": false,
    "ExecuteTime": {
     "end_time": "2023-09-08T07:37:29.152369400Z",
     "start_time": "2023-09-08T07:37:29.143996800Z"
    }
   },
   "id": "8a87053b9a384cd4"
  },
  {
   "cell_type": "code",
   "execution_count": 21,
   "outputs": [
    {
     "data": {
      "text/plain": "3"
     },
     "execution_count": 21,
     "metadata": {},
     "output_type": "execute_result"
    }
   ],
   "source": [
    "new_tensor.ndim # 차원을 반환"
   ],
   "metadata": {
    "collapsed": false,
    "ExecuteTime": {
     "end_time": "2023-09-08T07:37:42.417788600Z",
     "start_time": "2023-09-08T07:37:42.408522300Z"
    }
   },
   "id": "34de8d25bb11f1fe"
  },
  {
   "cell_type": "code",
   "execution_count": 23,
   "outputs": [
    {
     "data": {
      "text/plain": "36"
     },
     "execution_count": 23,
     "metadata": {},
     "output_type": "execute_result"
    }
   ],
   "source": [
    "new_tensor.size # 데이터의 개수"
   ],
   "metadata": {
    "collapsed": false,
    "ExecuteTime": {
     "end_time": "2023-09-08T07:38:31.788345200Z",
     "start_time": "2023-09-08T07:38:31.778415100Z"
    }
   },
   "id": "363d113550753e23"
  },
  {
   "cell_type": "code",
   "execution_count": 24,
   "outputs": [
    {
     "data": {
      "text/plain": "24"
     },
     "execution_count": 24,
     "metadata": {},
     "output_type": "execute_result"
    }
   ],
   "source": [
    "np.array([[12,3,4],[4.5, '5', '6']], dtype=np.float32).nbytes # nbytes : 각 요소들의 바이트의 총합. (32[4byte] * 6 = 24byte)"
   ],
   "metadata": {
    "collapsed": false,
    "ExecuteTime": {
     "end_time": "2023-09-08T07:39:10.384582700Z",
     "start_time": "2023-09-08T07:39:10.376395700Z"
    }
   },
   "id": "c831e3b9c22abb6f"
  },
  {
   "cell_type": "markdown",
   "source": [
    "## reshape"
   ],
   "metadata": {
    "collapsed": false
   },
   "id": "8b65892ac3fa3209"
  },
  {
   "cell_type": "code",
   "execution_count": 25,
   "outputs": [
    {
     "data": {
      "text/plain": "(2, 4)"
     },
     "execution_count": 25,
     "metadata": {},
     "output_type": "execute_result"
    }
   ],
   "source": [
    "test_matrix = [[1,2,3,4],[1,2,5,8]]\n",
    "np.array(test_matrix).shape"
   ],
   "metadata": {
    "collapsed": false,
    "ExecuteTime": {
     "end_time": "2023-09-08T07:46:55.608444800Z",
     "start_time": "2023-09-08T07:46:55.598562300Z"
    }
   },
   "id": "93696e22aec00469"
  },
  {
   "cell_type": "code",
   "execution_count": 26,
   "outputs": [
    {
     "data": {
      "text/plain": "array([[1, 2],\n       [3, 4],\n       [1, 2],\n       [5, 8]])"
     },
     "execution_count": 26,
     "metadata": {},
     "output_type": "execute_result"
    }
   ],
   "source": [
    "np.array(test_matrix).reshape(4,2)"
   ],
   "metadata": {
    "collapsed": false,
    "ExecuteTime": {
     "end_time": "2023-09-08T07:47:08.176111300Z",
     "start_time": "2023-09-08T07:47:08.166091500Z"
    }
   },
   "id": "856056c24b1372a5"
  },
  {
   "cell_type": "code",
   "execution_count": 27,
   "outputs": [
    {
     "data": {
      "text/plain": "array([[[1, 2],\n        [3, 4]],\n\n       [[1, 2],\n        [5, 8]]])"
     },
     "execution_count": 27,
     "metadata": {},
     "output_type": "execute_result"
    }
   ],
   "source": [
    "np.array(test_matrix).reshape(2,2,2)"
   ],
   "metadata": {
    "collapsed": false,
    "ExecuteTime": {
     "end_time": "2023-09-08T07:47:16.832624600Z",
     "start_time": "2023-09-08T07:47:16.822782400Z"
    }
   },
   "id": "a8ae85845a513e95"
  },
  {
   "cell_type": "code",
   "execution_count": 28,
   "outputs": [
    {
     "data": {
      "text/plain": "array([1, 2, 3, 4, 1, 2, 5, 8])"
     },
     "execution_count": 28,
     "metadata": {},
     "output_type": "execute_result"
    }
   ],
   "source": [
    "np.array(test_matrix).reshape(8)"
   ],
   "metadata": {
    "collapsed": false,
    "ExecuteTime": {
     "end_time": "2023-09-08T07:47:40.697761100Z",
     "start_time": "2023-09-08T07:47:40.688081Z"
    }
   },
   "id": "4c3aeffab9bfff2e"
  },
  {
   "cell_type": "code",
   "execution_count": 30,
   "outputs": [
    {
     "data": {
      "text/plain": "(1, 8)"
     },
     "execution_count": 30,
     "metadata": {},
     "output_type": "execute_result"
    }
   ],
   "source": [
    "np.array(test_matrix).reshape(1,-1).shape # -1을 넣으면 나머지 값과 size를 고려하여 자동으로 값을 채운다."
   ],
   "metadata": {
    "collapsed": false,
    "ExecuteTime": {
     "end_time": "2023-09-08T07:48:27.758990300Z",
     "start_time": "2023-09-08T07:48:27.755969600Z"
    }
   },
   "id": "6bab490d3877691"
  },
  {
   "cell_type": "markdown",
   "source": [
    "## flatten"
   ],
   "metadata": {
    "collapsed": false
   },
   "id": "7152356b320ec1b3"
  },
  {
   "cell_type": "code",
   "execution_count": 32,
   "outputs": [
    {
     "data": {
      "text/plain": "array([1, 2, 3, 4, 1, 2, 5, 8])"
     },
     "execution_count": 32,
     "metadata": {},
     "output_type": "execute_result"
    }
   ],
   "source": [
    "np.array(test_matrix).flatten()"
   ],
   "metadata": {
    "collapsed": false,
    "ExecuteTime": {
     "end_time": "2023-09-08T07:50:58.398126900Z",
     "start_time": "2023-09-08T07:50:58.380816200Z"
    }
   },
   "id": "ed23f900de8302e8"
  },
  {
   "cell_type": "code",
   "execution_count": 33,
   "outputs": [
    {
     "data": {
      "text/plain": "(8,)"
     },
     "execution_count": 33,
     "metadata": {},
     "output_type": "execute_result"
    }
   ],
   "source": [
    "np.array(test_matrix).flatten().shape"
   ],
   "metadata": {
    "collapsed": false,
    "ExecuteTime": {
     "end_time": "2023-09-08T07:51:12.768562700Z",
     "start_time": "2023-09-08T07:51:12.757406700Z"
    }
   },
   "id": "c5285479d143ca88"
  }
 ],
 "metadata": {
  "kernelspec": {
   "display_name": "Python 3",
   "language": "python",
   "name": "python3"
  },
  "language_info": {
   "codemirror_mode": {
    "name": "ipython",
    "version": 2
   },
   "file_extension": ".py",
   "mimetype": "text/x-python",
   "name": "python",
   "nbconvert_exporter": "python",
   "pygments_lexer": "ipython2",
   "version": "2.7.6"
  }
 },
 "nbformat": 4,
 "nbformat_minor": 5
}
