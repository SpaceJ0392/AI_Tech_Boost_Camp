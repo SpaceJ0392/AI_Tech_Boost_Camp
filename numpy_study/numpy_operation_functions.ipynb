{
 "cells": [
  {
   "cell_type": "markdown",
   "source": [
    "## Numpy - operation function"
   ],
   "metadata": {
    "collapsed": false
   },
   "id": "88046a959f22c415"
  },
  {
   "cell_type": "markdown",
   "source": [
    "- `sum`"
   ],
   "metadata": {
    "collapsed": false
   },
   "id": "f0722a62ac1b1108"
  },
  {
   "cell_type": "code",
   "execution_count": 17,
   "outputs": [
    {
     "data": {
      "text/plain": "array([[ 1,  2],\n       [ 3,  4],\n       [ 5,  6],\n       [ 7,  8],\n       [ 9, 10]])"
     },
     "execution_count": 17,
     "metadata": {},
     "output_type": "execute_result"
    }
   ],
   "source": [
    "import numpy as np\n",
    "\n",
    "test_array = np.arange(1, 11).reshape(5, 2)\n",
    "test_array"
   ],
   "metadata": {
    "collapsed": false,
    "ExecuteTime": {
     "end_time": "2023-09-13T05:57:33.624933600Z",
     "start_time": "2023-09-13T05:57:33.619389900Z"
    }
   },
   "id": "f113bedc3cf5fdf2"
  },
  {
   "cell_type": "code",
   "execution_count": 18,
   "outputs": [
    {
     "data": {
      "text/plain": "55"
     },
     "execution_count": 18,
     "metadata": {},
     "output_type": "execute_result"
    }
   ],
   "source": [
    "test_list = range(1, 11)\n",
    "sum(test_list)  # list 와 동일"
   ],
   "metadata": {
    "collapsed": false,
    "ExecuteTime": {
     "end_time": "2023-09-13T05:57:34.447128900Z",
     "start_time": "2023-09-13T05:57:34.442360300Z"
    }
   },
   "id": "cc565033fe34b50b"
  },
  {
   "cell_type": "code",
   "execution_count": 19,
   "outputs": [
    {
     "data": {
      "text/plain": "55"
     },
     "execution_count": 19,
     "metadata": {},
     "output_type": "execute_result"
    }
   ],
   "source": [
    "test_array.sum()  # 요소들의 값을 합산하여 반환 (실상 sum(list))와 동일"
   ],
   "metadata": {
    "collapsed": false,
    "ExecuteTime": {
     "end_time": "2023-09-13T05:57:34.945940600Z",
     "start_time": "2023-09-13T05:57:34.940652900Z"
    }
   },
   "id": "c581530fe2657ff5"
  },
  {
   "cell_type": "code",
   "execution_count": 20,
   "outputs": [
    {
     "name": "stdout",
     "output_type": "stream",
     "text": [
      "5.5\n",
      "8.25\n",
      "2.8722813232690143\n"
     ]
    }
   ],
   "source": [
    "print(test_array.mean())  # 평균\n",
    "print(test_array.var())  # 분산\n",
    "print(test_array.std())  # 표준 편차"
   ],
   "metadata": {
    "collapsed": false,
    "ExecuteTime": {
     "end_time": "2023-09-13T05:57:35.401880300Z",
     "start_time": "2023-09-13T05:57:35.385714800Z"
    }
   },
   "id": "96d9ad69d13f2eb6"
  },
  {
   "cell_type": "code",
   "execution_count": 24,
   "outputs": [
    {
     "data": {
      "text/plain": "array([25, 30])"
     },
     "execution_count": 24,
     "metadata": {},
     "output_type": "execute_result"
    }
   ],
   "source": [
    "test_array.sum(axis=0)  # 축을 지정하면 축마다 sum을 출럭 [1+3+5+7+9], [2+4+6+8+10]"
   ],
   "metadata": {
    "collapsed": false,
    "ExecuteTime": {
     "end_time": "2023-09-13T05:58:40.611705300Z",
     "start_time": "2023-09-13T05:58:40.595848500Z"
    }
   },
   "id": "ab43bfb758b6aae4"
  },
  {
   "cell_type": "code",
   "execution_count": 25,
   "outputs": [
    {
     "data": {
      "text/plain": "array([ 3,  7, 11, 15, 19])"
     },
     "execution_count": 25,
     "metadata": {},
     "output_type": "execute_result"
    }
   ],
   "source": [
    "test_array.sum(axis=1)  # 축을 지정하면 축마다 sum을 출럭 [1+2], [3+4], [5+6], [7+8], [9+10]"
   ],
   "metadata": {
    "collapsed": false,
    "ExecuteTime": {
     "end_time": "2023-09-13T05:59:41.587882700Z",
     "start_time": "2023-09-13T05:59:41.587373700Z"
    }
   },
   "id": "60f641e5d852b132"
  },
  {
   "cell_type": "code",
   "execution_count": 29,
   "outputs": [
    {
     "data": {
      "text/plain": "array([[[ 1,  2],\n        [ 3,  4],\n        [ 5,  6],\n        [ 7,  8],\n        [ 9, 10]],\n\n       [[ 1,  2],\n        [ 3,  4],\n        [ 5,  6],\n        [ 7,  8],\n        [ 9, 10]],\n\n       [[ 1,  2],\n        [ 3,  4],\n        [ 5,  6],\n        [ 7,  8],\n        [ 9, 10]]])"
     },
     "execution_count": 29,
     "metadata": {},
     "output_type": "execute_result"
    }
   ],
   "source": [
    "third_order_tensor = np.array([test_array, test_array, test_array])\n",
    "third_order_tensor"
   ],
   "metadata": {
    "collapsed": false,
    "ExecuteTime": {
     "end_time": "2023-09-13T06:04:04.066893900Z",
     "start_time": "2023-09-13T06:04:04.044328800Z"
    }
   },
   "id": "5f0bd2cff5fafcfb"
  },
  {
   "cell_type": "code",
   "execution_count": 32,
   "outputs": [
    {
     "data": {
      "text/plain": "array([[ 3,  7, 11, 15, 19],\n       [ 3,  7, 11, 15, 19],\n       [ 3,  7, 11, 15, 19]])"
     },
     "execution_count": 32,
     "metadata": {},
     "output_type": "execute_result"
    }
   ],
   "source": [
    "third_order_tensor.sum(axis=2)  # [1+2], [3+4], [5+6], ... 각 층마다."
   ],
   "metadata": {
    "collapsed": false,
    "ExecuteTime": {
     "end_time": "2023-09-13T06:08:59.118728300Z",
     "start_time": "2023-09-13T06:08:59.113235500Z"
    }
   },
   "id": "5ce1d09a53f08780"
  },
  {
   "cell_type": "code",
   "execution_count": 33,
   "outputs": [
    {
     "data": {
      "text/plain": "array([[25, 30],\n       [25, 30],\n       [25, 30]])"
     },
     "execution_count": 33,
     "metadata": {},
     "output_type": "execute_result"
    }
   ],
   "source": [
    "third_order_tensor.sum(axis=1)  # [1+3+5+7+9] , [2+4+6+8+10]을 각 층마다 (즉, 각 3차원 층마다)"
   ],
   "metadata": {
    "collapsed": false,
    "ExecuteTime": {
     "end_time": "2023-09-13T06:08:59.961410800Z",
     "start_time": "2023-09-13T06:08:59.940056100Z"
    }
   },
   "id": "9d6cef23e3a1da66"
  },
  {
   "cell_type": "code",
   "execution_count": 31,
   "outputs": [
    {
     "data": {
      "text/plain": "array([[ 3,  6],\n       [ 9, 12],\n       [15, 18],\n       [21, 24],\n       [27, 30]])"
     },
     "execution_count": 31,
     "metadata": {},
     "output_type": "execute_result"
    }
   ],
   "source": [
    "third_order_tensor.sum(axis=0)  # [1+1+1], [2+2+2], [3+3+3], ..."
   ],
   "metadata": {
    "collapsed": false,
    "ExecuteTime": {
     "start_time": "2023-09-13T06:04:39.055047Z"
    }
   },
   "id": "c6b6e8335785d32e"
  },
  {
   "cell_type": "code",
   "execution_count": 34,
   "outputs": [
    {
     "data": {
      "text/plain": "array([1.5, 3.5, 5.5, 7.5, 9.5])"
     },
     "execution_count": 34,
     "metadata": {},
     "output_type": "execute_result"
    }
   ],
   "source": [
    "test_array.mean(axis=1)"
   ],
   "metadata": {
    "collapsed": false,
    "ExecuteTime": {
     "end_time": "2023-09-13T06:13:42.748524600Z",
     "start_time": "2023-09-13T06:13:42.743603700Z"
    }
   },
   "id": "e29eda299b4ff471"
  },
  {
   "cell_type": "code",
   "execution_count": 35,
   "outputs": [
    {
     "data": {
      "text/plain": "array([5., 6.])"
     },
     "execution_count": 35,
     "metadata": {},
     "output_type": "execute_result"
    }
   ],
   "source": [
    "test_array.mean(axis=0)"
   ],
   "metadata": {
    "collapsed": false,
    "ExecuteTime": {
     "end_time": "2023-09-13T06:13:54.746427300Z",
     "start_time": "2023-09-13T06:13:54.730717100Z"
    }
   },
   "id": "69efe7a599d7bfcb"
  },
  {
   "cell_type": "code",
   "execution_count": 40,
   "outputs": [
    {
     "data": {
      "text/plain": "array([0.5, 0.5, 0.5, 0.5, 0.5])"
     },
     "execution_count": 40,
     "metadata": {},
     "output_type": "execute_result"
    }
   ],
   "source": [
    "test_array.std(axis=1)"
   ],
   "metadata": {
    "collapsed": false,
    "ExecuteTime": {
     "end_time": "2023-09-13T06:15:08.048546200Z",
     "start_time": "2023-09-13T06:15:08.035049600Z"
    }
   },
   "id": "b43bff6f2fe15967"
  },
  {
   "cell_type": "markdown",
   "source": [
    "### mathematical function\n",
    "\n",
    "- `sqrt` : ndarray의 요소들의 제곱근 값을 반환 (return -> ndarray)  "
   ],
   "metadata": {
    "collapsed": false
   },
   "id": "a7ba9fdda768d476"
  },
  {
   "cell_type": "code",
   "execution_count": 38,
   "outputs": [
    {
     "data": {
      "text/plain": "array([[1.        , 1.41421356],\n       [1.73205081, 2.        ],\n       [2.23606798, 2.44948974],\n       [2.64575131, 2.82842712],\n       [3.        , 3.16227766]])"
     },
     "execution_count": 38,
     "metadata": {},
     "output_type": "execute_result"
    }
   ],
   "source": [
    "np.sqrt(test_array)"
   ],
   "metadata": {
    "collapsed": false,
    "ExecuteTime": {
     "end_time": "2023-09-13T06:14:20.691609600Z",
     "start_time": "2023-09-13T06:14:20.675545200Z"
    }
   },
   "id": "a64b28e83f83453b"
  },
  {
   "cell_type": "code",
   "execution_count": 41,
   "outputs": [
    {
     "data": {
      "text/plain": "array([[2.71828183e+00, 7.38905610e+00],\n       [2.00855369e+01, 5.45981500e+01],\n       [1.48413159e+02, 4.03428793e+02],\n       [1.09663316e+03, 2.98095799e+03],\n       [8.10308393e+03, 2.20264658e+04]])"
     },
     "execution_count": 41,
     "metadata": {},
     "output_type": "execute_result"
    }
   ],
   "source": [
    "np.exp(test_array)"
   ],
   "metadata": {
    "collapsed": false,
    "ExecuteTime": {
     "end_time": "2023-09-13T06:17:15.776832600Z",
     "start_time": "2023-09-13T06:17:15.772251700Z"
    }
   },
   "id": "caea44756267b088"
  },
  {
   "cell_type": "markdown",
   "source": [
    "### concatenate"
   ],
   "metadata": {
    "collapsed": false
   },
   "id": "9f5a7244bde5b0cd"
  },
  {
   "cell_type": "code",
   "execution_count": 43,
   "outputs": [
    {
     "data": {
      "text/plain": "array([[1, 2],\n       [2, 3],\n       [3, 4]])"
     },
     "execution_count": 43,
     "metadata": {},
     "output_type": "execute_result"
    }
   ],
   "source": [
    "a = np.array([[1], [2], [3]])\n",
    "b = np.array([[2], [3], [4]])\n",
    "np.hstack((a, b))"
   ],
   "metadata": {
    "collapsed": false,
    "ExecuteTime": {
     "end_time": "2023-09-13T06:23:18.320487800Z",
     "start_time": "2023-09-13T06:23:18.310594800Z"
    }
   },
   "id": "84bae0e4d43654ca"
  },
  {
   "cell_type": "code",
   "execution_count": 47,
   "outputs": [
    {
     "data": {
      "text/plain": "array([[1, 2, 3, 2, 3, 4]])"
     },
     "execution_count": 47,
     "metadata": {},
     "output_type": "execute_result"
    }
   ],
   "source": [
    "a = np.array([[1, 2, 3]])\n",
    "b = np.array([[2, 3, 4]])\n",
    "np.concatenate((a, b), axis=1)"
   ],
   "metadata": {
    "collapsed": false,
    "ExecuteTime": {
     "end_time": "2023-09-13T06:24:57.975772800Z",
     "start_time": "2023-09-13T06:24:57.974931600Z"
    }
   },
   "id": "1f7c9463dbcbd3d4"
  },
  {
   "cell_type": "code",
   "execution_count": 48,
   "outputs": [
    {
     "data": {
      "text/plain": "array([[1, 2, 5],\n       [3, 4, 6]])"
     },
     "execution_count": 48,
     "metadata": {},
     "output_type": "execute_result"
    }
   ],
   "source": [
    "a = np.array([[1, 2], [3, 4]])\n",
    "b = np.array([[5], [6]])\n",
    "np.concatenate((a, b), axis=1)"
   ],
   "metadata": {
    "collapsed": false,
    "ExecuteTime": {
     "end_time": "2023-09-13T06:26:02.190758300Z",
     "start_time": "2023-09-13T06:26:02.160694700Z"
    }
   },
   "id": "2be0d12857ba14a5"
  },
  {
   "cell_type": "code",
   "execution_count": 105,
   "outputs": [
    {
     "name": "stdout",
     "output_type": "stream",
     "text": [
      "[5 6]\n"
     ]
    }
   ],
   "source": [
    "a = np.array([[1, 2], [3, 4]])\n",
    "b = np.array([5, 6])\n",
    "\n",
    "# b.reshape(-1,2) # 차원 추가\n",
    "print(b)"
   ],
   "metadata": {
    "collapsed": false,
    "ExecuteTime": {
     "end_time": "2023-09-13T06:48:01.867140500Z",
     "start_time": "2023-09-13T06:48:01.863526800Z"
    }
   },
   "id": "30c35528f4ee1930"
  },
  {
   "cell_type": "code",
   "execution_count": 106,
   "outputs": [
    {
     "name": "stdout",
     "output_type": "stream",
     "text": [
      "[[5 6]]\n",
      "[[5]\n",
      " [6]]\n"
     ]
    }
   ],
   "source": [
    "# 다른 방법의 차원 추가\n",
    "b = b[np.newaxis, :]\n",
    "print(b)  # b = [[5, 6]] \n",
    "print(b.T)\n"
   ],
   "metadata": {
    "collapsed": false,
    "ExecuteTime": {
     "end_time": "2023-09-13T06:48:02.308337900Z",
     "start_time": "2023-09-13T06:48:02.306814300Z"
    }
   },
   "id": "a44ba3500c9b8c7"
  },
  {
   "cell_type": "code",
   "execution_count": 107,
   "outputs": [
    {
     "data": {
      "text/plain": "array([[1, 2, 5],\n       [3, 4, 6]])"
     },
     "execution_count": 107,
     "metadata": {},
     "output_type": "execute_result"
    }
   ],
   "source": [
    "np.concatenate((a, b.T), axis=1)  # concatenate는 행의 크기 (즉, 차원을 맞추어 주어야 한다.)"
   ],
   "metadata": {
    "collapsed": false,
    "ExecuteTime": {
     "end_time": "2023-09-13T06:48:03.113240300Z",
     "start_time": "2023-09-13T06:48:03.108615700Z"
    }
   },
   "id": "9ee7cc7d13466dbc"
  },
  {
   "cell_type": "markdown",
   "source": [
    " - `.T` : 여기서의 `T`는 `ndarray` 의 property로 해당 `ndarray`의 전치 행렬을 return 합니다."
   ],
   "metadata": {
    "collapsed": false
   },
   "id": "811dc18dd5c30dc9"
  },
  {
   "cell_type": "markdown",
   "source": [
    "### Array operations\n",
    "- dot product"
   ],
   "metadata": {
    "collapsed": false
   },
   "id": "9ac0fbdaaab5f3ed"
  },
  {
   "cell_type": "code",
   "execution_count": 108,
   "outputs": [
    {
     "data": {
      "text/plain": "array([[ 58,  64],\n       [139, 154]])"
     },
     "execution_count": 108,
     "metadata": {},
     "output_type": "execute_result"
    }
   ],
   "source": [
    "# dot product\n",
    "a = np.arange(1, 7).reshape(2, 3)\n",
    "b = np.arange(7, 13).reshape(3, 2)\n",
    "\n",
    "a.dot(b)"
   ],
   "metadata": {
    "collapsed": false,
    "ExecuteTime": {
     "end_time": "2023-09-13T06:56:48.145112100Z",
     "start_time": "2023-09-13T06:56:48.129211500Z"
    }
   },
   "id": "9f9d5bee7e8aa352"
  },
  {
   "cell_type": "markdown",
   "source": [
    "- transpose"
   ],
   "metadata": {
    "collapsed": false
   },
   "id": "2396846bb5d122de"
  },
  {
   "cell_type": "code",
   "execution_count": 109,
   "outputs": [
    {
     "name": "stdout",
     "output_type": "stream",
     "text": [
      "[[1 4]\n",
      " [2 5]\n",
      " [3 6]]\n"
     ]
    },
    {
     "data": {
      "text/plain": "array([[1, 4],\n       [2, 5],\n       [3, 6]])"
     },
     "execution_count": 109,
     "metadata": {},
     "output_type": "execute_result"
    }
   ],
   "source": [
    "# transpose\n",
    "\n",
    "print(a.transpose())\n",
    "a.T"
   ],
   "metadata": {
    "collapsed": false,
    "ExecuteTime": {
     "end_time": "2023-09-13T07:00:30.056577500Z",
     "start_time": "2023-09-13T07:00:30.040545500Z"
    }
   },
   "id": "6fe0284e538b96ca"
  },
  {
   "cell_type": "markdown",
   "source": [
    "### numpy performence"
   ],
   "metadata": {
    "collapsed": false
   },
   "id": "4edc26b655c3157d"
  },
  {
   "cell_type": "code",
   "execution_count": 111,
   "outputs": [
    {
     "name": "stdout",
     "output_type": "stream",
     "text": [
      "6.8 s ± 98.3 ms per loop (mean ± std. dev. of 7 runs, 1 loop each)\n",
      "7.11 s ± 77.5 ms per loop (mean ± std. dev. of 7 runs, 1 loop each)\n",
      "205 ms ± 6.77 ms per loop (mean ± std. dev. of 7 runs, 1 loop each)\n"
     ]
    }
   ],
   "source": [
    "def sclar_vector_product(scalar, vector):\n",
    "    result = []\n",
    "    for value in vector:\n",
    "        result.append(scalar * value)\n",
    "    return result\n",
    "\n",
    "\n",
    "iternation_max = 100000000\n",
    "vector = list(range(iternation_max))\n",
    "scalar = 2\n",
    "\n",
    "\n",
    "# %timeit 을 통해 jupyter 환경에서 코드의 퍼포먼스를 확인할 수 있다.\n",
    "%timeit sclar_vector_product(scalar, vector)  # for loop을 이용한 성능\n",
    "%timeit [scalar * value for value in range(iternation_max)]  # list comprehension을 이용한 성능\n",
    "%timeit np.arange(iternation_max) * scalar  # numpy를 이용한 성능"
   ],
   "metadata": {
    "collapsed": false,
    "ExecuteTime": {
     "end_time": "2023-09-13T07:10:04.817982400Z",
     "start_time": "2023-09-13T07:08:09.653609200Z"
    }
   },
   "id": "f6242cc9340ca84"
  },
  {
   "cell_type": "markdown",
   "source": [
    "성능을 보았을 때 `numpy array` 가 가장 빠르다. (기본적으로 `list`는 -5 ~ 255까지는 정적으로 보관해서, 접근하려면, 2번에 걸쳐서 접근해야하므로 느림)\n",
    "`numpy array`는 그냥 리스트를 일렬로 저장하는 구조이므로 접근이 빠름.\n",
    "\n",
    "또한 `numpy` 는 `C`로 구현되어 있어 성능을 확보하는 대신, 파이썬의 가장 큰 특징인 dynamic typing을 포기함 (즉, `numpy array`는 하나의 데이터 타입만 대입 가능)\n",
    "추가적으로 할당에 대해서는 속도 차이는 거의 없음."
   ],
   "metadata": {
    "collapsed": false
   },
   "id": "39bd5b64a40ea78e"
  }
 ],
 "metadata": {
  "kernelspec": {
   "display_name": "Python 3",
   "language": "python",
   "name": "python3"
  },
  "language_info": {
   "codemirror_mode": {
    "name": "ipython",
    "version": 2
   },
   "file_extension": ".py",
   "mimetype": "text/x-python",
   "name": "python",
   "nbconvert_exporter": "python",
   "pygments_lexer": "ipython2",
   "version": "2.7.6"
  }
 },
 "nbformat": 4,
 "nbformat_minor": 5
}
