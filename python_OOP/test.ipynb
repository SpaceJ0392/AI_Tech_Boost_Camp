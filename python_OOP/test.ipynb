{
 "cells": [
  {
   "cell_type": "markdown",
   "source": [
    "## Baisc OOP"
   ],
   "metadata": {
    "collapsed": false
   }
  },
  {
   "cell_type": "code",
   "execution_count": 1,
   "metadata": {
    "ExecuteTime": {
     "end_time": "2023-09-07T06:59:08.617093800Z",
     "start_time": "2023-09-07T06:59:08.601707300Z"
    }
   },
   "outputs": [],
   "source": [
    "from notebook import Note\n",
    "from notebook import Notebook"
   ]
  },
  {
   "cell_type": "code",
   "execution_count": 2,
   "metadata": {
    "ExecuteTime": {
     "end_time": "2023-09-07T06:59:08.632737900Z",
     "start_time": "2023-09-07T06:59:08.617093800Z"
    }
   },
   "outputs": [],
   "source": [
    "note_book = Notebook(\"Test\", {})"
   ]
  },
  {
   "cell_type": "code",
   "execution_count": 3,
   "metadata": {
    "ExecuteTime": {
     "end_time": "2023-09-07T06:59:08.679630200Z",
     "start_time": "2023-09-07T06:59:08.632737900Z"
    }
   },
   "outputs": [
    {
     "data": {
      "text/plain": "this is first test"
     },
     "execution_count": 3,
     "metadata": {},
     "output_type": "execute_result"
    }
   ],
   "source": [
    "test_note = Note(\"this is first test\")\n",
    "test_note"
   ]
  },
  {
   "cell_type": "code",
   "execution_count": 4,
   "metadata": {
    "ExecuteTime": {
     "end_time": "2023-09-07T06:59:08.679630200Z",
     "start_time": "2023-09-07T06:59:08.648364400Z"
    }
   },
   "outputs": [
    {
     "data": {
      "text/plain": "'Test'"
     },
     "execution_count": 4,
     "metadata": {},
     "output_type": "execute_result"
    }
   ],
   "source": [
    "note_book.title"
   ]
  },
  {
   "cell_type": "code",
   "execution_count": 5,
   "outputs": [
    {
     "data": {
      "text/plain": "this is second test"
     },
     "execution_count": 5,
     "metadata": {},
     "output_type": "execute_result"
    }
   ],
   "source": [
    "test_note2 = Note(\"this is second test\")\n",
    "test_note2"
   ],
   "metadata": {
    "collapsed": false,
    "ExecuteTime": {
     "end_time": "2023-09-07T06:59:08.679630200Z",
     "start_time": "2023-09-07T06:59:08.663946700Z"
    }
   }
  },
  {
   "cell_type": "code",
   "execution_count": 6,
   "outputs": [],
   "source": [
    "note_book.add_note(test_note)\n",
    "note_book.add_note(test_note2, 100)"
   ],
   "metadata": {
    "collapsed": false,
    "ExecuteTime": {
     "end_time": "2023-09-07T06:59:08.695224500Z",
     "start_time": "2023-09-07T06:59:08.679630200Z"
    }
   }
  },
  {
   "cell_type": "code",
   "execution_count": 7,
   "outputs": [
    {
     "data": {
      "text/plain": "2"
     },
     "execution_count": 7,
     "metadata": {},
     "output_type": "execute_result"
    }
   ],
   "source": [
    "note_book.get_number_of_pages()"
   ],
   "metadata": {
    "collapsed": false,
    "ExecuteTime": {
     "end_time": "2023-09-07T06:59:08.773332600Z",
     "start_time": "2023-09-07T06:59:08.695224500Z"
    }
   }
  },
  {
   "cell_type": "code",
   "execution_count": 8,
   "outputs": [
    {
     "name": "stdout",
     "output_type": "stream",
     "text": [
      "this is first test\n"
     ]
    }
   ],
   "source": [
    "print(note_book.notes[1])"
   ],
   "metadata": {
    "collapsed": false,
    "ExecuteTime": {
     "end_time": "2023-09-07T06:59:08.773332600Z",
     "start_time": "2023-09-07T06:59:08.710859800Z"
    }
   }
  },
  {
   "cell_type": "code",
   "execution_count": 9,
   "outputs": [
    {
     "data": {
      "text/plain": "this is second test"
     },
     "execution_count": 9,
     "metadata": {},
     "output_type": "execute_result"
    }
   ],
   "source": [
    "note_book.notes[100]"
   ],
   "metadata": {
    "collapsed": false,
    "ExecuteTime": {
     "end_time": "2023-09-07T06:59:08.773332600Z",
     "start_time": "2023-09-07T06:59:08.726447700Z"
    }
   }
  },
  {
   "cell_type": "markdown",
   "source": [
    "## Visibility"
   ],
   "metadata": {
    "collapsed": false
   }
  },
  {
   "cell_type": "code",
   "execution_count": 10,
   "outputs": [
    {
     "name": "stdout",
     "output_type": "stream",
     "text": [
      "new item added\n",
      "new item added\n"
     ]
    },
    {
     "data": {
      "text/plain": "<visibility_ex.Inventory at 0x1fbd0cd8f10>"
     },
     "execution_count": 10,
     "metadata": {},
     "output_type": "execute_result"
    }
   ],
   "source": [
    "from visibility_ex import Inventory, Product\n",
    "\n",
    "my_inventory = Inventory()\n",
    "my_inventory.add_new_item(Product())\n",
    "my_inventory.add_new_item(Product())\n",
    "my_inventory"
   ],
   "metadata": {
    "collapsed": false,
    "ExecuteTime": {
     "end_time": "2023-09-07T06:59:08.773332600Z",
     "start_time": "2023-09-07T06:59:08.742075100Z"
    }
   }
  },
  {
   "cell_type": "code",
   "execution_count": 11,
   "outputs": [
    {
     "name": "stdout",
     "output_type": "stream",
     "text": [
      "2\n"
     ]
    },
    {
     "data": {
      "text/plain": "[<visibility_ex.Product at 0x1fbd0be7190>,\n <visibility_ex.Product at 0x1fbd0cd8e20>]"
     },
     "execution_count": 11,
     "metadata": {},
     "output_type": "execute_result"
    }
   ],
   "source": [
    "print(my_inventory.get_number_of_items())\n",
    "\n",
    "# print(my_inventory.__items) # 접근 안됨.\n",
    "# my_inventory.add_new_item(object)\n",
    "\n",
    "my_inventory.items # __items 에 접근 가능"
   ],
   "metadata": {
    "collapsed": false,
    "ExecuteTime": {
     "end_time": "2023-09-07T06:59:08.773332600Z",
     "start_time": "2023-09-07T06:59:08.757715200Z"
    }
   }
  },
  {
   "cell_type": "code",
   "execution_count": 12,
   "outputs": [],
   "source": [
    "my_inventory.items.append(\"a\") # 이런 식으로도 사용 가능"
   ],
   "metadata": {
    "collapsed": false,
    "ExecuteTime": {
     "end_time": "2023-09-07T06:59:08.788952600Z",
     "start_time": "2023-09-07T06:59:08.773332600Z"
    }
   }
  },
  {
   "cell_type": "markdown",
   "source": [
    "## inner class"
   ],
   "metadata": {
    "collapsed": false
   }
  },
  {
   "cell_type": "code",
   "execution_count": 13,
   "outputs": [
    {
     "name": "stdout",
     "output_type": "stream",
     "text": [
      "Hello, Python\n"
     ]
    }
   ],
   "source": [
    "def print_msg(msg):\n",
    "\tdef printer():\n",
    "\t\tprint(msg)\n",
    "\tprinter()\n",
    "\n",
    "print_msg(\"Hello, Python\")"
   ],
   "metadata": {
    "collapsed": false,
    "ExecuteTime": {
     "end_time": "2023-09-07T06:59:08.898340200Z",
     "start_time": "2023-09-07T06:59:08.788952600Z"
    }
   }
  },
  {
   "cell_type": "markdown",
   "source": [
    "## decorator"
   ],
   "metadata": {
    "collapsed": false
   }
  },
  {
   "cell_type": "code",
   "execution_count": 14,
   "outputs": [
    {
     "name": "stdout",
     "output_type": "stream",
     "text": [
      "&&&&&&&&&&&&&&&&&&&&&&&&&&&&&&\n",
      "Hello\n",
      "&&&&&&&&&&&&&&&&&&&&&&&&&&&&&&\n"
     ]
    }
   ],
   "source": [
    "def star(func):\n",
    "\tdef inner(*args, **kwargs):\n",
    "\t\tprint(args[1] * 30)\n",
    "\t\tfunc(*args, **kwargs)\n",
    "\t\tprint(args[1] * 30)\n",
    "\treturn inner\n",
    "\n",
    "@star\n",
    "# 이 decorator를 통해 아래의 def printer는 def star의 파라미터로 들어감.\n",
    "def printer(msg, mark):\n",
    "\tprint(msg)\n",
    "printer(\"Hello\" , \"&\")"
   ],
   "metadata": {
    "collapsed": false,
    "ExecuteTime": {
     "end_time": "2023-09-07T06:59:08.898340200Z",
     "start_time": "2023-09-07T06:59:08.804579800Z"
    }
   }
  },
  {
   "cell_type": "code",
   "execution_count": 15,
   "outputs": [
    {
     "name": "stdout",
     "output_type": "stream",
     "text": [
      "562949953421312\n"
     ]
    }
   ],
   "source": [
    "def generate_power(exponent): # exponent = 2\n",
    "\tdef wrapper(f): # f = raise_two(n)\n",
    "\t\tdef inner(*args): # *args = n\n",
    "\t\t\tresult = f(*args)\n",
    "\t\t\treturn exponent**result\n",
    "\t\treturn inner\n",
    "\treturn wrapper\n",
    "\n",
    "@generate_power(2)\n",
    "def raise_two(n):\n",
    "\treturn n**2\n",
    "\n",
    "print(raise_two(7)) # 2**(7**2)"
   ],
   "metadata": {
    "collapsed": false,
    "ExecuteTime": {
     "end_time": "2023-09-07T06:59:08.908917900Z",
     "start_time": "2023-09-07T06:59:08.820200100Z"
    }
   }
  },
  {
   "cell_type": "markdown",
   "source": [
    "`*args` 는 가변 위치 인자를 의미한다.\n",
    "이는 함수의 파라미터로 몇 개의 파라미터가 올지 모를 때 사용하며, 각각의 파라미터를 튜플의 형태로 저장한다."
   ],
   "metadata": {
    "collapsed": false
   }
  },
  {
   "cell_type": "code",
   "execution_count": 16,
   "outputs": [
    {
     "name": "stdout",
     "output_type": "stream",
     "text": [
      "1 0\n",
      "2 1\n",
      "3 2\n",
      "4 3\n",
      "5 4\n"
     ]
    }
   ],
   "source": [
    "def arguments_test(*args):\n",
    "    for i in args:\n",
    "        print(i, args.index(i))\n",
    "\n",
    "arguments_test(1,2,3,4,5)"
   ],
   "metadata": {
    "collapsed": false,
    "ExecuteTime": {
     "end_time": "2023-09-07T06:59:08.908917900Z",
     "start_time": "2023-09-07T06:59:08.835826Z"
    }
   }
  },
  {
   "cell_type": "markdown",
   "source": [
    "`**kwargs`는 keyword argument의 줄임말로 키워드를 제공합니다.\n",
    "들어오는 인자는 키워드 인자로 각각 키, value 형태의 딕셔너리 형태로 함수에 전달됩니다."
   ],
   "metadata": {
    "collapsed": false
   }
  },
  {
   "cell_type": "code",
   "execution_count": 17,
   "outputs": [
    {
     "name": "stdout",
     "output_type": "stream",
     "text": [
      "dict_items([('id', 1)])\n"
     ]
    }
   ],
   "source": [
    "def keyword_argument_test(**kwargs):\n",
    "\tprint(kwargs.items())\n",
    "\n",
    "keyword_argument_test(id=1)"
   ],
   "metadata": {
    "collapsed": false,
    "ExecuteTime": {
     "end_time": "2023-09-07T06:59:08.908917900Z",
     "start_time": "2023-09-07T06:59:08.851447100Z"
    }
   }
  }
 ],
 "metadata": {
  "kernelspec": {
   "display_name": "Python 3 (ipykernel)",
   "language": "python",
   "name": "python3"
  },
  "language_info": {
   "codemirror_mode": {
    "name": "ipython",
    "version": 3
   },
   "file_extension": ".py",
   "mimetype": "text/x-python",
   "name": "python",
   "nbconvert_exporter": "python",
   "pygments_lexer": "ipython3",
   "version": "3.8.6"
  }
 },
 "nbformat": 4,
 "nbformat_minor": 1
}
